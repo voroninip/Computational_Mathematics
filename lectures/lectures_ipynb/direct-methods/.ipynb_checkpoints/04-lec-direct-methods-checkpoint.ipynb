{
 "cells": [
  {
   "cell_type": "markdown",
   "metadata": {},
   "source": [
    "## Реализация LU разложения без перестановок"
   ]
  },
  {
   "cell_type": "code",
   "execution_count": 1,
   "metadata": {},
   "outputs": [
    {
     "name": "stdout",
     "output_type": "stream",
     "text": [
      "A = \n",
      " [[0.15528961 0.27116181 0.70431921 0.22524253 0.68724755]\n",
      " [0.22518317 0.14345176 0.25331209 0.81426076 0.77827971]\n",
      " [0.79226352 0.17422086 0.43038558 0.91481644 0.72431272]\n",
      " [0.68425405 0.68884002 0.63279807 0.15325579 0.26433667]\n",
      " [0.78026348 0.85072029 0.66771497 0.82479476 0.76341798]] \n",
      "\n",
      "L = \n",
      " [[ 1.          0.          0.          0.          0.        ]\n",
      " [ 1.45008516  1.          0.          0.          0.        ]\n",
      " [ 5.10184485  4.84154462  1.          0.          0.        ]\n",
      " [ 4.40630917  2.02590859 -1.64692704  1.          0.        ]\n",
      " [ 5.02456963  2.04900455 -2.33613564  1.2077671   1.        ]] \n",
      "\n",
      "U = \n",
      " [[ 0.15528961  0.27116181  0.70431921  0.22524253  0.68724755]\n",
      " [ 0.         -0.24975596 -0.76801075  0.48763991 -0.21828777]\n",
      " [ 0.          0.          0.55541656 -2.59526637 -1.72506769]\n",
      " [ 0.          0.          0.         -6.10136068 -5.16271809]\n",
      " [ 0.          0.          0.          0.         -0.03706365]] \n",
      "\n",
      "A - L @ U = \n",
      " [[ 0.00000000e+00  0.00000000e+00  0.00000000e+00  0.00000000e+00\n",
      "   0.00000000e+00]\n",
      " [ 0.00000000e+00  0.00000000e+00  0.00000000e+00  0.00000000e+00\n",
      "   0.00000000e+00]\n",
      " [ 0.00000000e+00  1.38777878e-16  5.55111512e-17 -1.11022302e-16\n",
      "  -1.11022302e-16]\n",
      " [ 0.00000000e+00  0.00000000e+00  1.11022302e-16 -1.11022302e-16\n",
      "  -6.66133815e-16]\n",
      " [ 0.00000000e+00  0.00000000e+00  1.11022302e-16 -4.44089210e-16\n",
      "   4.44089210e-16]] \n",
      "\n"
     ]
    }
   ],
   "source": [
    "import numpy as np\n",
    "\n",
    "# LU-factorization without pivoting\n",
    "n = 5\n",
    "A = np.random.rand(n,n)\n",
    "U = np.copy(A) \n",
    "L = np.eye(n)\n",
    "for k in range(n-1):\n",
    "    for j in range(k+1,n):\n",
    "        L[j,k] =   U[j,k] / U[k,k]\n",
    "        U[j,k:n] = U[j,k:n] - L[j,k] * U[k, k:n]\n",
    "\n",
    "print('A = \\n', A, '\\n') \n",
    "print('L = \\n', L, '\\n')\n",
    "print('U = \\n', U, '\\n')\n",
    "print('A - L @ U = \\n', A - L @ U, '\\n')"
   ]
  },
  {
   "cell_type": "markdown",
   "metadata": {},
   "source": [
    "## LU разложение с перестановками с помощью готовой функции"
   ]
  },
  {
   "cell_type": "code",
   "execution_count": 2,
   "metadata": {},
   "outputs": [
    {
     "name": "stdout",
     "output_type": "stream",
     "text": [
      "P = \n",
      " [[1. 0. 0. 0.]\n",
      " [0. 1. 0. 0.]\n",
      " [0. 0. 0. 1.]\n",
      " [0. 0. 1. 0.]]\n",
      "A - P @ L @ U = \n",
      " [[0.00000000e+00 0.00000000e+00 0.00000000e+00 0.00000000e+00]\n",
      " [0.00000000e+00 0.00000000e+00 0.00000000e+00 0.00000000e+00]\n",
      " [0.00000000e+00 1.11022302e-16 0.00000000e+00 0.00000000e+00]\n",
      " [0.00000000e+00 0.00000000e+00 0.00000000e+00 0.00000000e+00]]\n"
     ]
    }
   ],
   "source": [
    "# LU-factorization with pivoting\n",
    "from scipy import linalg as scpla\n",
    "n = 4\n",
    "A = np.random.rand(n,n)\n",
    "P, L, U = scpla.lu(A)\n",
    "print('P = \\n', P)\n",
    "print('A - P @ L @ U = \\n', A - P @ L @ U)"
   ]
  },
  {
   "cell_type": "markdown",
   "metadata": {},
   "source": [
    "## Решение задачи регрессии методом наименьших квадратов\n",
    "Для решения переопределенной системы используется QR разложение"
   ]
  },
  {
   "cell_type": "code",
   "execution_count": 3,
   "metadata": {},
   "outputs": [
    {
     "ename": "ValueError",
     "evalue": "matmul: Input operand 1 has a mismatch in its core dimension 0, with gufunc signature (n?,k),(k,m?)->(n?,m?) (size 11 is different from 21)",
     "output_type": "error",
     "traceback": [
      "\u001b[0;31m---------------------------------------------------------------------------\u001b[0m",
      "\u001b[0;31mValueError\u001b[0m                                Traceback (most recent call last)",
      "\u001b[0;32m/tmp/ipykernel_13788/1588325462.py\u001b[0m in \u001b[0;36m<module>\u001b[0;34m\u001b[0m\n\u001b[1;32m     15\u001b[0m \u001b[0;34m\u001b[0m\u001b[0m\n\u001b[1;32m     16\u001b[0m \u001b[0mQ\u001b[0m\u001b[0;34m,\u001b[0m \u001b[0mR\u001b[0m \u001b[0;34m=\u001b[0m \u001b[0mnp\u001b[0m\u001b[0;34m.\u001b[0m\u001b[0mlinalg\u001b[0m\u001b[0;34m.\u001b[0m\u001b[0mqr\u001b[0m\u001b[0;34m(\u001b[0m\u001b[0mA\u001b[0m\u001b[0;34m)\u001b[0m\u001b[0;34m\u001b[0m\u001b[0;34m\u001b[0m\u001b[0m\n\u001b[0;32m---> 17\u001b[0;31m \u001b[0mv\u001b[0m \u001b[0;34m=\u001b[0m \u001b[0mQ\u001b[0m\u001b[0;34m.\u001b[0m\u001b[0mT\u001b[0m \u001b[0;34m@\u001b[0m \u001b[0myy\u001b[0m\u001b[0;34m\u001b[0m\u001b[0;34m\u001b[0m\u001b[0m\n\u001b[0m\u001b[1;32m     18\u001b[0m \u001b[0mc\u001b[0m \u001b[0;34m=\u001b[0m \u001b[0mnp\u001b[0m\u001b[0;34m.\u001b[0m\u001b[0mlinalg\u001b[0m\u001b[0;34m.\u001b[0m\u001b[0minv\u001b[0m\u001b[0;34m(\u001b[0m\u001b[0mR\u001b[0m\u001b[0;34m)\u001b[0m \u001b[0;34m@\u001b[0m \u001b[0mv\u001b[0m\u001b[0;34m\u001b[0m\u001b[0;34m\u001b[0m\u001b[0m\n\u001b[1;32m     19\u001b[0m \u001b[0;34m\u001b[0m\u001b[0m\n",
      "\u001b[0;31mValueError\u001b[0m: matmul: Input operand 1 has a mismatch in its core dimension 0, with gufunc signature (n?,k),(k,m?)->(n?,m?) (size 11 is different from 21)"
     ]
    }
   ],
   "source": [
    "# Метод наименьших квадратов\n",
    "import numpy as np\n",
    "%matplotlib inline\n",
    "import matplotlib\n",
    "from matplotlib import pyplot as plt\n",
    "m = 11\n",
    "xx = np.linspace(-1, 1, m)\n",
    "yy = np.array([0, 0, 0, 1., 1., 1, 0, 0, 0, 0, 0 ])\n",
    "n = 11\n",
    "# Создаем матрицу Вандермонда\n",
    "A = np.zeros((m, n))\n",
    "for i in range(m):\n",
    "    for j in range(n):\n",
    "        A[i,j] = xx[i]**j\n",
    "        \n",
    "Q, R = np.linalg.qr(A)\n",
    "v = Q.T @ yy\n",
    "c = np.linalg.inv(R) @ v\n",
    "\n",
    "plt.plot(xx, yy, 'ro')\n",
    "x = np.linspace(-1,1, 1000)\n",
    "plt.plot(x, np.polyval(c[::-1],x), 'b-', label  = 'polynomial of degree ' + str(n-1))\n",
    "\n",
    "n = 6\n",
    "# Создаем матрицу Вандермонда\n",
    "A = np.zeros((m, n))\n",
    "for i in range(m):\n",
    "    for j in range(n):\n",
    "        A[i,j] = xx[i]**j\n",
    "        \n",
    "Q, R = np.linalg.qr(A)\n",
    "v = Q.T @ yy\n",
    "c = np.linalg.inv(R) @ v\n",
    "plt.plot(xx, yy, 'ro', label = 'interpolation points')\n",
    "x = np.linspace(-1,1, 1000)\n",
    "plt.plot(x, np.polyval(c[::-1],x), 'g-', label  = 'polynomial of degree ' + str(n-1))\n",
    "plt.legend()\n",
    "plt.grid(True)"
   ]
  },
  {
   "cell_type": "code",
   "execution_count": null,
   "metadata": {},
   "outputs": [],
   "source": []
  }
 ],
 "metadata": {
  "kernelspec": {
   "display_name": "Python 3 (ipykernel)",
   "language": "python",
   "name": "python3"
  },
  "language_info": {
   "codemirror_mode": {
    "name": "ipython",
    "version": 3
   },
   "file_extension": ".py",
   "mimetype": "text/x-python",
   "name": "python",
   "nbconvert_exporter": "python",
   "pygments_lexer": "ipython3",
   "version": "3.9.13"
  }
 },
 "nbformat": 4,
 "nbformat_minor": 2
}
