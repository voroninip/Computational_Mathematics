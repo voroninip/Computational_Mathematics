{
 "cells": [
  {
   "metadata": {},
   "cell_type": "markdown",
   "source": "# Задача 2.4 $QR$-разложение",
   "id": "538aac2b40a6ff91"
  },
  {
   "metadata": {
    "ExecuteTime": {
     "end_time": "2024-05-02T20:02:00.877040Z",
     "start_time": "2024-05-02T20:02:00.040340Z"
    }
   },
   "cell_type": "code",
   "source": [
    "import numpy as np\n",
    "import pandas as pd\n",
    "import warnings\n",
    "warnings.filterwarnings('ignore')\n",
    "\n",
    "def QR_decomposition(A):  # using Modified Gram-Schmidt\n",
    "    A = A.copy()\n",
    "    m, n = A.shape\n",
    "    Q = np.zeros([m,n], dtype=np.float64)\n",
    "    R = np.zeros([n,n], dtype=np.float64)\n",
    "    for i in range(n):\n",
    "        R[i,i] = np.linalg.norm(A[:,i])\n",
    "        Q[:,i] = A[:,i] / R[i,i]\n",
    "        for j in range(i, n):\n",
    "            tmp = 0.0\n",
    "            for k in range(m):\n",
    "                tmp += Q[k,i] * A[k,j]\n",
    "            R[i,j] = tmp  # np.dot(Q[:,i], A[:,j]) на всякий случай воздержался от использования, хотя это просто скалярное произведение векторов\n",
    "            A[:,j] = A[:,j] - R[i,j] * Q[:,i]  # здесь не матрично-векторное умножение, а просто умножение вектора на скаляр\n",
    "    return Q, R\n",
    "\n",
    "\n",
    "def LowerTriangular_solver(L, b):\n",
    "\tassert np.allclose(L, np.tril(L));  # checks if L is Lower Triangular \n",
    "\tn = L.shape[0]\n",
    "\ty = np.zeros(n)\n",
    "\tfor i in range(n):\n",
    "\t\ttmp_sum = 0\n",
    "\t\tfor j in range(i):\n",
    "\t\t\ttmp_sum += L[i][j] * y[j]\n",
    "\t\ty[i] = (b[i] - tmp_sum) / L[i][i]\n",
    "\t\t\n",
    "\treturn y\n",
    "\n",
    "\n",
    "def UpperTriangular_solver(U, y):\n",
    "\tassert np.allclose(U, np.triu(U));  # checks if L is Upper Triangular \n",
    "\treturn LowerTriangular_solver(np.flip(np.flip(U, 1), 0), y[::-1])[::-1]\n",
    "\n",
    "\n",
    "def solve(A, b):\n",
    "\tn = A.shape[0]\n",
    "\t# A = Q @ R\n",
    "\tQ, R = QR_decomposition(A)\n",
    "\t# Q @ R @ x = A @ x = b\n",
    "    # R @ x = Q.T @ b = y\n",
    "\ty = np.dot(Q.T, b)\n",
    "\tx = UpperTriangular_solver(R, y)\n",
    "\treturn Q, R, x"
   ],
   "id": "initial_id",
   "outputs": [],
   "execution_count": 1
  },
  {
   "metadata": {},
   "cell_type": "markdown",
   "source": "### Квадратная невырожденная матрица",
   "id": "4be9dd685a66ff16"
  },
  {
   "metadata": {
    "ExecuteTime": {
     "end_time": "2024-05-02T20:02:00.887554Z",
     "start_time": "2024-05-02T20:02:00.879039Z"
    }
   },
   "cell_type": "code",
   "source": [
    "n = 3\n",
    "A = np.random.rand(n,n).astype(np.float64)\n",
    "A"
   ],
   "id": "4266887712e4e532",
   "outputs": [
    {
     "data": {
      "text/plain": [
       "array([[0.38145371, 0.58892845, 0.11125714],\n",
       "       [0.23889599, 0.23357124, 0.036153  ],\n",
       "       [0.57023185, 0.96455704, 0.55217106]])"
      ]
     },
     "execution_count": 2,
     "metadata": {},
     "output_type": "execute_result"
    }
   ],
   "execution_count": 2
  },
  {
   "metadata": {},
   "cell_type": "markdown",
   "source": "Библиотечное $QR$-разложение",
   "id": "e9d623412c6be1c2"
  },
  {
   "metadata": {
    "ExecuteTime": {
     "end_time": "2024-05-02T20:02:00.912875Z",
     "start_time": "2024-05-02T20:02:00.889555Z"
    }
   },
   "cell_type": "code",
   "source": "np_Q, np_R = np.linalg.qr(A) ",
   "id": "8abe249c2de5343c",
   "outputs": [],
   "execution_count": 3
  },
  {
   "metadata": {
    "ExecuteTime": {
     "end_time": "2024-05-02T20:02:00.920417Z",
     "start_time": "2024-05-02T20:02:00.913871Z"
    }
   },
   "cell_type": "code",
   "source": "np_Q",
   "id": "b43bcd6a4d0db472",
   "outputs": [
    {
     "data": {
      "text/plain": [
       "array([[-0.52508641, -0.07182379, -0.84801274],\n",
       "       [-0.32884995, -0.90191523,  0.28001184],\n",
       "       [-0.78494712,  0.42589936,  0.44996418]])"
      ]
     },
     "execution_count": 4,
     "metadata": {},
     "output_type": "execute_result"
    }
   ],
   "execution_count": 4
  },
  {
   "metadata": {
    "ExecuteTime": {
     "end_time": "2024-05-02T20:02:00.928504Z",
     "start_time": "2024-05-02T20:02:00.922412Z"
    }
   },
   "cell_type": "code",
   "source": "np_R",
   "id": "7d8f372f1e71a42a",
   "outputs": [
    {
     "data": {
      "text/plain": [
       "array([[-0.72645894, -1.14317448, -0.5037336 ],\n",
       "       [ 0.        ,  0.1578437 ,  0.19457145],\n",
       "       [ 0.        ,  0.        ,  0.16423299]])"
      ]
     },
     "execution_count": 5,
     "metadata": {},
     "output_type": "execute_result"
    }
   ],
   "execution_count": 5
  },
  {
   "metadata": {},
   "cell_type": "markdown",
   "source": "Кастомное $QR$-разложение",
   "id": "1306ed46fcd3e971"
  },
  {
   "metadata": {
    "ExecuteTime": {
     "end_time": "2024-05-02T20:02:00.935881Z",
     "start_time": "2024-05-02T20:02:00.931501Z"
    }
   },
   "cell_type": "code",
   "source": "my_Q, my_R = QR_decomposition(A)",
   "id": "a0e5c716cff41066",
   "outputs": [],
   "execution_count": 6
  },
  {
   "metadata": {
    "ExecuteTime": {
     "end_time": "2024-05-02T20:02:00.944416Z",
     "start_time": "2024-05-02T20:02:00.937879Z"
    }
   },
   "cell_type": "code",
   "source": "my_Q",
   "id": "83da4589ec220aa2",
   "outputs": [
    {
     "data": {
      "text/plain": [
       "array([[ 0.52508641, -0.07182379, -0.84801274],\n",
       "       [ 0.32884995, -0.90191523,  0.28001184],\n",
       "       [ 0.78494712,  0.42589936,  0.44996418]])"
      ]
     },
     "execution_count": 7,
     "metadata": {},
     "output_type": "execute_result"
    }
   ],
   "execution_count": 7
  },
  {
   "metadata": {
    "ExecuteTime": {
     "end_time": "2024-05-02T20:02:00.953226Z",
     "start_time": "2024-05-02T20:02:00.946414Z"
    }
   },
   "cell_type": "code",
   "source": "my_R",
   "id": "cd7090d46a098ecd",
   "outputs": [
    {
     "data": {
      "text/plain": [
       "array([[0.72645894, 1.14317448, 0.5037336 ],\n",
       "       [0.        , 0.1578437 , 0.19457145],\n",
       "       [0.        , 0.        , 0.16423299]])"
      ]
     },
     "execution_count": 8,
     "metadata": {},
     "output_type": "execute_result"
    }
   ],
   "execution_count": 8
  },
  {
   "metadata": {},
   "cell_type": "markdown",
   "source": "Понятно, что нужно сравнивать матрицы на равенство с точностью до замены знаков в столбцах(это не влияет на ортогональность столбцов)",
   "id": "4c3c4fb0ac9cca08"
  },
  {
   "metadata": {
    "ExecuteTime": {
     "end_time": "2024-05-02T20:02:00.961314Z",
     "start_time": "2024-05-02T20:02:00.954236Z"
    }
   },
   "cell_type": "code",
   "source": "np.linalg.norm(abs(my_Q) - abs(np_Q))",
   "id": "6d3d891c571416bf",
   "outputs": [
    {
     "data": {
      "text/plain": [
       "1.1096157052992535e-15"
      ]
     },
     "execution_count": 9,
     "metadata": {},
     "output_type": "execute_result"
    }
   ],
   "execution_count": 9
  },
  {
   "metadata": {
    "ExecuteTime": {
     "end_time": "2024-05-02T20:02:00.970313Z",
     "start_time": "2024-05-02T20:02:00.962311Z"
    }
   },
   "cell_type": "code",
   "source": "np.linalg.norm(abs(my_R) - abs(np_R))",
   "id": "f3fe4ae37649d4f3",
   "outputs": [
    {
     "data": {
      "text/plain": [
       "3.1155556357914184e-16"
      ]
     },
     "execution_count": 10,
     "metadata": {},
     "output_type": "execute_result"
    }
   ],
   "execution_count": 10
  },
  {
   "metadata": {},
   "cell_type": "markdown",
   "source": "Посмотрим на решение системы $Ax = b$ методом наименьших квадратов",
   "id": "8188375c52e793d3"
  },
  {
   "metadata": {
    "ExecuteTime": {
     "end_time": "2024-05-02T20:02:00.982568Z",
     "start_time": "2024-05-02T20:02:00.971312Z"
    }
   },
   "cell_type": "code",
   "source": [
    "x = np.random.rand(n).astype(np.float64)\n",
    "pd.DataFrame(x)"
   ],
   "id": "996fe418fb851771",
   "outputs": [
    {
     "data": {
      "text/plain": [
       "          0\n",
       "0  0.835625\n",
       "1  0.543177\n",
       "2  0.719569"
      ],
      "text/html": [
       "<div>\n",
       "<style scoped>\n",
       "    .dataframe tbody tr th:only-of-type {\n",
       "        vertical-align: middle;\n",
       "    }\n",
       "\n",
       "    .dataframe tbody tr th {\n",
       "        vertical-align: top;\n",
       "    }\n",
       "\n",
       "    .dataframe thead th {\n",
       "        text-align: right;\n",
       "    }\n",
       "</style>\n",
       "<table border=\"1\" class=\"dataframe\">\n",
       "  <thead>\n",
       "    <tr style=\"text-align: right;\">\n",
       "      <th></th>\n",
       "      <th>0</th>\n",
       "    </tr>\n",
       "  </thead>\n",
       "  <tbody>\n",
       "    <tr>\n",
       "      <th>0</th>\n",
       "      <td>0.835625</td>\n",
       "    </tr>\n",
       "    <tr>\n",
       "      <th>1</th>\n",
       "      <td>0.543177</td>\n",
       "    </tr>\n",
       "    <tr>\n",
       "      <th>2</th>\n",
       "      <td>0.719569</td>\n",
       "    </tr>\n",
       "  </tbody>\n",
       "</table>\n",
       "</div>"
      ]
     },
     "execution_count": 11,
     "metadata": {},
     "output_type": "execute_result"
    }
   ],
   "execution_count": 11
  },
  {
   "metadata": {
    "ExecuteTime": {
     "end_time": "2024-05-02T20:02:00.991544Z",
     "start_time": "2024-05-02T20:02:00.983541Z"
    }
   },
   "cell_type": "code",
   "source": [
    "# Использую матричное умножение для проверки примера. Это не реализация требуемой функции\n",
    "b = np.dot(A, x.T)\n",
    "pd.DataFrame(b)"
   ],
   "id": "207cb7bd52433ef7",
   "outputs": [
    {
     "data": {
      "text/plain": [
       "          0\n",
       "0  0.718702\n",
       "1  0.352513\n",
       "2  1.397750"
      ],
      "text/html": [
       "<div>\n",
       "<style scoped>\n",
       "    .dataframe tbody tr th:only-of-type {\n",
       "        vertical-align: middle;\n",
       "    }\n",
       "\n",
       "    .dataframe tbody tr th {\n",
       "        vertical-align: top;\n",
       "    }\n",
       "\n",
       "    .dataframe thead th {\n",
       "        text-align: right;\n",
       "    }\n",
       "</style>\n",
       "<table border=\"1\" class=\"dataframe\">\n",
       "  <thead>\n",
       "    <tr style=\"text-align: right;\">\n",
       "      <th></th>\n",
       "      <th>0</th>\n",
       "    </tr>\n",
       "  </thead>\n",
       "  <tbody>\n",
       "    <tr>\n",
       "      <th>0</th>\n",
       "      <td>0.718702</td>\n",
       "    </tr>\n",
       "    <tr>\n",
       "      <th>1</th>\n",
       "      <td>0.352513</td>\n",
       "    </tr>\n",
       "    <tr>\n",
       "      <th>2</th>\n",
       "      <td>1.397750</td>\n",
       "    </tr>\n",
       "  </tbody>\n",
       "</table>\n",
       "</div>"
      ]
     },
     "execution_count": 12,
     "metadata": {},
     "output_type": "execute_result"
    }
   ],
   "execution_count": 12
  },
  {
   "metadata": {},
   "cell_type": "markdown",
   "source": "Библиотечное решение системы",
   "id": "246334d340cfda59"
  },
  {
   "metadata": {
    "ExecuteTime": {
     "end_time": "2024-05-02T20:02:01.002541Z",
     "start_time": "2024-05-02T20:02:00.992542Z"
    }
   },
   "cell_type": "code",
   "source": [
    "np_sol = np.linalg.lstsq(A, b)[0]\n",
    "pd.DataFrame(np_sol)"
   ],
   "id": "da99bf27ce27c3c5",
   "outputs": [
    {
     "data": {
      "text/plain": [
       "          0\n",
       "0  0.835625\n",
       "1  0.543177\n",
       "2  0.719569"
      ],
      "text/html": [
       "<div>\n",
       "<style scoped>\n",
       "    .dataframe tbody tr th:only-of-type {\n",
       "        vertical-align: middle;\n",
       "    }\n",
       "\n",
       "    .dataframe tbody tr th {\n",
       "        vertical-align: top;\n",
       "    }\n",
       "\n",
       "    .dataframe thead th {\n",
       "        text-align: right;\n",
       "    }\n",
       "</style>\n",
       "<table border=\"1\" class=\"dataframe\">\n",
       "  <thead>\n",
       "    <tr style=\"text-align: right;\">\n",
       "      <th></th>\n",
       "      <th>0</th>\n",
       "    </tr>\n",
       "  </thead>\n",
       "  <tbody>\n",
       "    <tr>\n",
       "      <th>0</th>\n",
       "      <td>0.835625</td>\n",
       "    </tr>\n",
       "    <tr>\n",
       "      <th>1</th>\n",
       "      <td>0.543177</td>\n",
       "    </tr>\n",
       "    <tr>\n",
       "      <th>2</th>\n",
       "      <td>0.719569</td>\n",
       "    </tr>\n",
       "  </tbody>\n",
       "</table>\n",
       "</div>"
      ]
     },
     "execution_count": 13,
     "metadata": {},
     "output_type": "execute_result"
    }
   ],
   "execution_count": 13
  },
  {
   "metadata": {},
   "cell_type": "markdown",
   "source": "Кастомное решение системы",
   "id": "1df4c78cdaf22b0"
  },
  {
   "metadata": {
    "ExecuteTime": {
     "end_time": "2024-05-02T20:02:01.013541Z",
     "start_time": "2024-05-02T20:02:01.003542Z"
    }
   },
   "cell_type": "code",
   "source": [
    "my_sol = solve(A, b)[2]\n",
    "pd.DataFrame(my_sol)"
   ],
   "id": "7188c4cf2f44eb19",
   "outputs": [
    {
     "data": {
      "text/plain": [
       "          0\n",
       "0  0.835625\n",
       "1  0.543177\n",
       "2  0.719569"
      ],
      "text/html": [
       "<div>\n",
       "<style scoped>\n",
       "    .dataframe tbody tr th:only-of-type {\n",
       "        vertical-align: middle;\n",
       "    }\n",
       "\n",
       "    .dataframe tbody tr th {\n",
       "        vertical-align: top;\n",
       "    }\n",
       "\n",
       "    .dataframe thead th {\n",
       "        text-align: right;\n",
       "    }\n",
       "</style>\n",
       "<table border=\"1\" class=\"dataframe\">\n",
       "  <thead>\n",
       "    <tr style=\"text-align: right;\">\n",
       "      <th></th>\n",
       "      <th>0</th>\n",
       "    </tr>\n",
       "  </thead>\n",
       "  <tbody>\n",
       "    <tr>\n",
       "      <th>0</th>\n",
       "      <td>0.835625</td>\n",
       "    </tr>\n",
       "    <tr>\n",
       "      <th>1</th>\n",
       "      <td>0.543177</td>\n",
       "    </tr>\n",
       "    <tr>\n",
       "      <th>2</th>\n",
       "      <td>0.719569</td>\n",
       "    </tr>\n",
       "  </tbody>\n",
       "</table>\n",
       "</div>"
      ]
     },
     "execution_count": 14,
     "metadata": {},
     "output_type": "execute_result"
    }
   ],
   "execution_count": 14
  },
  {
   "metadata": {},
   "cell_type": "markdown",
   "source": "Норма разности решений",
   "id": "75e5befa4f7553f1"
  },
  {
   "metadata": {
    "ExecuteTime": {
     "end_time": "2024-05-02T20:02:01.020590Z",
     "start_time": "2024-05-02T20:02:01.014540Z"
    }
   },
   "cell_type": "code",
   "source": "np.linalg.norm(np_sol - my_sol)",
   "id": "10f158fd3764bf56",
   "outputs": [
    {
     "data": {
      "text/plain": [
       "1.4132140477967265e-14"
      ]
     },
     "execution_count": 15,
     "metadata": {},
     "output_type": "execute_result"
    }
   ],
   "execution_count": 15
  },
  {
   "metadata": {},
   "cell_type": "markdown",
   "source": "### Прямоугольная матрица c m > n с линейно независимыми столбцами",
   "id": "fb65ee20a0956184"
  },
  {
   "metadata": {
    "ExecuteTime": {
     "end_time": "2024-05-02T20:02:01.028356Z",
     "start_time": "2024-05-02T20:02:01.021585Z"
    }
   },
   "cell_type": "code",
   "source": [
    "m = 7\n",
    "n = 4\n",
    "A = np.random.rand(m,n).astype(np.float64)\n",
    "A"
   ],
   "id": "e3da7bb21c43f9bb",
   "outputs": [
    {
     "data": {
      "text/plain": [
       "array([[0.15247588, 0.59998488, 0.61891827, 0.09013963],\n",
       "       [0.8521413 , 0.3647799 , 0.28021806, 0.0705466 ],\n",
       "       [0.68098029, 0.52526189, 0.81476201, 0.04880329],\n",
       "       [0.18791141, 0.90964386, 0.43208912, 0.79132965],\n",
       "       [0.86304625, 0.45328293, 0.03452462, 0.06939149],\n",
       "       [0.4145645 , 0.88916801, 0.62164732, 0.50039746],\n",
       "       [0.19602952, 0.96586665, 0.38469197, 0.63597795]])"
      ]
     },
     "execution_count": 16,
     "metadata": {},
     "output_type": "execute_result"
    }
   ],
   "execution_count": 16
  },
  {
   "metadata": {},
   "cell_type": "markdown",
   "source": "Библиотечное $QR$-разложение",
   "id": "d19dbb8d86ac9122"
  },
  {
   "metadata": {
    "ExecuteTime": {
     "end_time": "2024-05-02T20:02:01.034352Z",
     "start_time": "2024-05-02T20:02:01.029352Z"
    }
   },
   "cell_type": "code",
   "source": "np_Q, np_R = np.linalg.qr(A) ",
   "id": "1e3108a0c238cf21",
   "outputs": [],
   "execution_count": 17
  },
  {
   "metadata": {
    "ExecuteTime": {
     "end_time": "2024-05-02T20:02:01.045352Z",
     "start_time": "2024-05-02T20:02:01.039353Z"
    }
   },
   "cell_type": "code",
   "source": "np_Q",
   "id": "a0a027a7332a5400",
   "outputs": [
    {
     "data": {
      "text/plain": [
       "array([[-0.10271571,  0.3390041 , -0.4008214 ,  0.65471615],\n",
       "       [-0.57404684, -0.26136386,  0.0432854 , -0.22792654],\n",
       "       [-0.45874386, -0.04022565, -0.67519511, -0.17422517],\n",
       "       [-0.12658693,  0.540596  ,  0.17033379, -0.55854974],\n",
       "       [-0.58139299, -0.20422567,  0.50517166,  0.35991217],\n",
       "       [-0.27927228,  0.38630743, -0.10094642, -0.07839352],\n",
       "       [-0.13205572,  0.57616097,  0.29525913,  0.20342496]])"
      ]
     },
     "execution_count": 18,
     "metadata": {},
     "output_type": "execute_result"
    }
   ],
   "execution_count": 18
  },
  {
   "metadata": {
    "ExecuteTime": {
     "end_time": "2024-05-02T20:02:01.052533Z",
     "start_time": "2024-05-02T20:02:01.046354Z"
    }
   },
   "cell_type": "code",
   "source": "np_R",
   "id": "2f9f54c4cf42f1e",
   "outputs": [
    {
     "data": {
      "text/plain": [
       "array([[-1.48444557, -1.26654202, -0.89737683, -0.4363914 ],\n",
       "       [ 0.        ,  1.38609274,  0.79212895,  0.98350727],\n",
       "       [ 0.        ,  0.        , -0.64419868,  0.24108176],\n",
       "       [ 0.        ,  0.        ,  0.        , -0.29244259]])"
      ]
     },
     "execution_count": 19,
     "metadata": {},
     "output_type": "execute_result"
    }
   ],
   "execution_count": 19
  },
  {
   "metadata": {},
   "cell_type": "markdown",
   "source": "Кастомное $QR$-разложение",
   "id": "794e09af44169226"
  },
  {
   "metadata": {
    "ExecuteTime": {
     "end_time": "2024-05-02T20:02:01.058874Z",
     "start_time": "2024-05-02T20:02:01.053526Z"
    }
   },
   "cell_type": "code",
   "source": "my_Q, my_R = QR_decomposition(A)",
   "id": "d41ce43ba0845733",
   "outputs": [],
   "execution_count": 20
  },
  {
   "metadata": {
    "ExecuteTime": {
     "end_time": "2024-05-02T20:02:01.066871Z",
     "start_time": "2024-05-02T20:02:01.059872Z"
    }
   },
   "cell_type": "code",
   "source": "my_Q",
   "id": "a3841f73242f2e4",
   "outputs": [
    {
     "data": {
      "text/plain": [
       "array([[ 0.10271571,  0.3390041 ,  0.4008214 , -0.65471615],\n",
       "       [ 0.57404684, -0.26136386, -0.0432854 ,  0.22792654],\n",
       "       [ 0.45874386, -0.04022565,  0.67519511,  0.17422517],\n",
       "       [ 0.12658693,  0.540596  , -0.17033379,  0.55854974],\n",
       "       [ 0.58139299, -0.20422567, -0.50517166, -0.35991217],\n",
       "       [ 0.27927228,  0.38630743,  0.10094642,  0.07839352],\n",
       "       [ 0.13205572,  0.57616097, -0.29525913, -0.20342496]])"
      ]
     },
     "execution_count": 21,
     "metadata": {},
     "output_type": "execute_result"
    }
   ],
   "execution_count": 21
  },
  {
   "metadata": {
    "ExecuteTime": {
     "end_time": "2024-05-02T20:02:01.073941Z",
     "start_time": "2024-05-02T20:02:01.068870Z"
    }
   },
   "cell_type": "code",
   "source": "my_R",
   "id": "594272272b5afb55",
   "outputs": [
    {
     "data": {
      "text/plain": [
       "array([[ 1.48444557,  1.26654202,  0.89737683,  0.4363914 ],\n",
       "       [ 0.        ,  1.38609274,  0.79212895,  0.98350727],\n",
       "       [ 0.        ,  0.        ,  0.64419868, -0.24108176],\n",
       "       [ 0.        ,  0.        ,  0.        ,  0.29244259]])"
      ]
     },
     "execution_count": 22,
     "metadata": {},
     "output_type": "execute_result"
    }
   ],
   "execution_count": 22
  },
  {
   "metadata": {},
   "cell_type": "markdown",
   "source": "Норма разности разложений",
   "id": "f09d186d3b26e664"
  },
  {
   "metadata": {
    "ExecuteTime": {
     "end_time": "2024-05-02T20:02:01.080600Z",
     "start_time": "2024-05-02T20:02:01.074937Z"
    }
   },
   "cell_type": "code",
   "source": "np.linalg.norm(abs(my_Q) - abs(np_Q))",
   "id": "520a748a6f605b26",
   "outputs": [
    {
     "data": {
      "text/plain": [
       "1.6558533042896306e-15"
      ]
     },
     "execution_count": 23,
     "metadata": {},
     "output_type": "execute_result"
    }
   ],
   "execution_count": 23
  },
  {
   "metadata": {
    "ExecuteTime": {
     "end_time": "2024-05-02T20:02:01.088594Z",
     "start_time": "2024-05-02T20:02:01.081593Z"
    }
   },
   "cell_type": "code",
   "source": "np.linalg.norm(abs(my_R) - abs(np_R))",
   "id": "7898518dfe0acd44",
   "outputs": [
    {
     "data": {
      "text/plain": [
       "7.005190574351762e-16"
      ]
     },
     "execution_count": 24,
     "metadata": {},
     "output_type": "execute_result"
    }
   ],
   "execution_count": 24
  },
  {
   "metadata": {},
   "cell_type": "markdown",
   "source": "Посмотрим на решение системы $Ax = b$ методом наименьших квадратов",
   "id": "75ff7178bdc72860"
  },
  {
   "metadata": {
    "ExecuteTime": {
     "end_time": "2024-05-02T20:02:01.097044Z",
     "start_time": "2024-05-02T20:02:01.089595Z"
    }
   },
   "cell_type": "code",
   "source": [
    "x = np.random.rand(n).astype(np.float64)\n",
    "pd.DataFrame(x)"
   ],
   "id": "ef5ad515711e6e5b",
   "outputs": [
    {
     "data": {
      "text/plain": [
       "          0\n",
       "0  0.592047\n",
       "1  0.736791\n",
       "2  0.459491\n",
       "3  0.477040"
      ],
      "text/html": [
       "<div>\n",
       "<style scoped>\n",
       "    .dataframe tbody tr th:only-of-type {\n",
       "        vertical-align: middle;\n",
       "    }\n",
       "\n",
       "    .dataframe tbody tr th {\n",
       "        vertical-align: top;\n",
       "    }\n",
       "\n",
       "    .dataframe thead th {\n",
       "        text-align: right;\n",
       "    }\n",
       "</style>\n",
       "<table border=\"1\" class=\"dataframe\">\n",
       "  <thead>\n",
       "    <tr style=\"text-align: right;\">\n",
       "      <th></th>\n",
       "      <th>0</th>\n",
       "    </tr>\n",
       "  </thead>\n",
       "  <tbody>\n",
       "    <tr>\n",
       "      <th>0</th>\n",
       "      <td>0.592047</td>\n",
       "    </tr>\n",
       "    <tr>\n",
       "      <th>1</th>\n",
       "      <td>0.736791</td>\n",
       "    </tr>\n",
       "    <tr>\n",
       "      <th>2</th>\n",
       "      <td>0.459491</td>\n",
       "    </tr>\n",
       "    <tr>\n",
       "      <th>3</th>\n",
       "      <td>0.477040</td>\n",
       "    </tr>\n",
       "  </tbody>\n",
       "</table>\n",
       "</div>"
      ]
     },
     "execution_count": 25,
     "metadata": {},
     "output_type": "execute_result"
    }
   ],
   "execution_count": 25
  },
  {
   "metadata": {
    "ExecuteTime": {
     "end_time": "2024-05-02T20:02:01.106391Z",
     "start_time": "2024-05-02T20:02:01.098042Z"
    }
   },
   "cell_type": "code",
   "source": [
    "# Использую матричное умножение для проверки примера. Это не реализация требуемой функции\n",
    "b = np.dot(A, x.T)\n",
    "pd.DataFrame(b)"
   ],
   "id": "d2cba985b17c63a6",
   "outputs": [
    {
     "data": {
      "text/plain": [
       "          0\n",
       "0  0.859724\n",
       "1  0.935686\n",
       "2  1.187838\n",
       "3  1.357506\n",
       "4  0.893905\n",
       "5  1.424923\n",
       "6  1.307850"
      ],
      "text/html": [
       "<div>\n",
       "<style scoped>\n",
       "    .dataframe tbody tr th:only-of-type {\n",
       "        vertical-align: middle;\n",
       "    }\n",
       "\n",
       "    .dataframe tbody tr th {\n",
       "        vertical-align: top;\n",
       "    }\n",
       "\n",
       "    .dataframe thead th {\n",
       "        text-align: right;\n",
       "    }\n",
       "</style>\n",
       "<table border=\"1\" class=\"dataframe\">\n",
       "  <thead>\n",
       "    <tr style=\"text-align: right;\">\n",
       "      <th></th>\n",
       "      <th>0</th>\n",
       "    </tr>\n",
       "  </thead>\n",
       "  <tbody>\n",
       "    <tr>\n",
       "      <th>0</th>\n",
       "      <td>0.859724</td>\n",
       "    </tr>\n",
       "    <tr>\n",
       "      <th>1</th>\n",
       "      <td>0.935686</td>\n",
       "    </tr>\n",
       "    <tr>\n",
       "      <th>2</th>\n",
       "      <td>1.187838</td>\n",
       "    </tr>\n",
       "    <tr>\n",
       "      <th>3</th>\n",
       "      <td>1.357506</td>\n",
       "    </tr>\n",
       "    <tr>\n",
       "      <th>4</th>\n",
       "      <td>0.893905</td>\n",
       "    </tr>\n",
       "    <tr>\n",
       "      <th>5</th>\n",
       "      <td>1.424923</td>\n",
       "    </tr>\n",
       "    <tr>\n",
       "      <th>6</th>\n",
       "      <td>1.307850</td>\n",
       "    </tr>\n",
       "  </tbody>\n",
       "</table>\n",
       "</div>"
      ]
     },
     "execution_count": 26,
     "metadata": {},
     "output_type": "execute_result"
    }
   ],
   "execution_count": 26
  },
  {
   "metadata": {},
   "cell_type": "markdown",
   "source": "Библиотечное решение системы",
   "id": "eec53713f2b9f437"
  },
  {
   "metadata": {
    "ExecuteTime": {
     "end_time": "2024-05-02T20:02:01.117438Z",
     "start_time": "2024-05-02T20:02:01.107384Z"
    }
   },
   "cell_type": "code",
   "source": [
    "np_sol = np.linalg.lstsq(A, b)[0]\n",
    "pd.DataFrame(np_sol)"
   ],
   "id": "16a9659e2149ad39",
   "outputs": [
    {
     "data": {
      "text/plain": [
       "          0\n",
       "0  0.592047\n",
       "1  0.736791\n",
       "2  0.459491\n",
       "3  0.477040"
      ],
      "text/html": [
       "<div>\n",
       "<style scoped>\n",
       "    .dataframe tbody tr th:only-of-type {\n",
       "        vertical-align: middle;\n",
       "    }\n",
       "\n",
       "    .dataframe tbody tr th {\n",
       "        vertical-align: top;\n",
       "    }\n",
       "\n",
       "    .dataframe thead th {\n",
       "        text-align: right;\n",
       "    }\n",
       "</style>\n",
       "<table border=\"1\" class=\"dataframe\">\n",
       "  <thead>\n",
       "    <tr style=\"text-align: right;\">\n",
       "      <th></th>\n",
       "      <th>0</th>\n",
       "    </tr>\n",
       "  </thead>\n",
       "  <tbody>\n",
       "    <tr>\n",
       "      <th>0</th>\n",
       "      <td>0.592047</td>\n",
       "    </tr>\n",
       "    <tr>\n",
       "      <th>1</th>\n",
       "      <td>0.736791</td>\n",
       "    </tr>\n",
       "    <tr>\n",
       "      <th>2</th>\n",
       "      <td>0.459491</td>\n",
       "    </tr>\n",
       "    <tr>\n",
       "      <th>3</th>\n",
       "      <td>0.477040</td>\n",
       "    </tr>\n",
       "  </tbody>\n",
       "</table>\n",
       "</div>"
      ]
     },
     "execution_count": 27,
     "metadata": {},
     "output_type": "execute_result"
    }
   ],
   "execution_count": 27
  },
  {
   "metadata": {},
   "cell_type": "markdown",
   "source": "Кастомное решение системы",
   "id": "fcc842685db5eea9"
  },
  {
   "metadata": {
    "ExecuteTime": {
     "end_time": "2024-05-02T20:02:01.127946Z",
     "start_time": "2024-05-02T20:02:01.118432Z"
    }
   },
   "cell_type": "code",
   "source": [
    "my_sol = solve(A, b)[2]\n",
    "pd.DataFrame(my_sol)"
   ],
   "id": "5270901b6344f31d",
   "outputs": [
    {
     "data": {
      "text/plain": [
       "          0\n",
       "0  0.592047\n",
       "1  0.736791\n",
       "2  0.459491\n",
       "3  0.477040"
      ],
      "text/html": [
       "<div>\n",
       "<style scoped>\n",
       "    .dataframe tbody tr th:only-of-type {\n",
       "        vertical-align: middle;\n",
       "    }\n",
       "\n",
       "    .dataframe tbody tr th {\n",
       "        vertical-align: top;\n",
       "    }\n",
       "\n",
       "    .dataframe thead th {\n",
       "        text-align: right;\n",
       "    }\n",
       "</style>\n",
       "<table border=\"1\" class=\"dataframe\">\n",
       "  <thead>\n",
       "    <tr style=\"text-align: right;\">\n",
       "      <th></th>\n",
       "      <th>0</th>\n",
       "    </tr>\n",
       "  </thead>\n",
       "  <tbody>\n",
       "    <tr>\n",
       "      <th>0</th>\n",
       "      <td>0.592047</td>\n",
       "    </tr>\n",
       "    <tr>\n",
       "      <th>1</th>\n",
       "      <td>0.736791</td>\n",
       "    </tr>\n",
       "    <tr>\n",
       "      <th>2</th>\n",
       "      <td>0.459491</td>\n",
       "    </tr>\n",
       "    <tr>\n",
       "      <th>3</th>\n",
       "      <td>0.477040</td>\n",
       "    </tr>\n",
       "  </tbody>\n",
       "</table>\n",
       "</div>"
      ]
     },
     "execution_count": 28,
     "metadata": {},
     "output_type": "execute_result"
    }
   ],
   "execution_count": 28
  },
  {
   "metadata": {},
   "cell_type": "markdown",
   "source": "Норма разности решений",
   "id": "4e75b17930968cd2"
  },
  {
   "metadata": {
    "ExecuteTime": {
     "end_time": "2024-05-02T20:02:01.135614Z",
     "start_time": "2024-05-02T20:02:01.128934Z"
    }
   },
   "cell_type": "code",
   "source": "np.linalg.norm(np_sol - my_sol)",
   "id": "d2204439c2740c03",
   "outputs": [
    {
     "data": {
      "text/plain": [
       "4.828193870057736e-15"
      ]
     },
     "execution_count": 29,
     "metadata": {},
     "output_type": "execute_result"
    }
   ],
   "execution_count": 29
  }
 ],
 "metadata": {
  "kernelspec": {
   "display_name": "Python 3",
   "language": "python",
   "name": "python3"
  },
  "language_info": {
   "codemirror_mode": {
    "name": "ipython",
    "version": 2
   },
   "file_extension": ".py",
   "mimetype": "text/x-python",
   "name": "python",
   "nbconvert_exporter": "python",
   "pygments_lexer": "ipython2",
   "version": "2.7.6"
  }
 },
 "nbformat": 4,
 "nbformat_minor": 5
}
