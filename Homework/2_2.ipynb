{
 "cells": [
  {
   "metadata": {},
   "cell_type": "markdown",
   "source": "# Задача 2.2  Метод Гаусса с выбором главного элемента по строке",
   "id": "709398ba0ea38c10"
  },
  {
   "metadata": {
    "ExecuteTime": {
     "end_time": "2024-05-02T20:08:11.489791Z",
     "start_time": "2024-05-02T20:08:11.482214Z"
    }
   },
   "cell_type": "code",
   "source": [
    "import numpy as np\n",
    "import pandas as pd\n",
    "import warnings\n",
    "warnings.filterwarnings('ignore')\n",
    "\n",
    "def QLU_decomposition(A):\n",
    "    n = A.shape[1]\n",
    "    \n",
    "    U = A.T.copy()\n",
    "    L = np.eye(n, dtype=np.double)\n",
    "    Q = np.eye(n, dtype=np.double)\n",
    "    \n",
    "    #Loop over columns\n",
    "    for i in range(n):\n",
    "        factor = U[i+1:, i] / U[i, i]\n",
    "        L[i+1:, i] = factor\n",
    "        U[i+1:] -= factor[:, np.newaxis] * U[i]\n",
    "        \n",
    "    return Q.T, U.T, L.T\n",
    "\n",
    "\n",
    "def LowerTriangular_solver(L, b):\n",
    "\tassert np.allclose(L, np.tril(L));  # checks if L is Lower Triangular \n",
    "\tn = L.shape[0]\n",
    "\ty = np.zeros(n)\n",
    "\tfor i in range(n):\n",
    "\t\ttmp_sum = 0\n",
    "\t\tfor j in range(i):\n",
    "\t\t\ttmp_sum += L[i][j] * y[j]\n",
    "\t\ty[i] = (b[i] - tmp_sum) / L[i][i]\n",
    "\t\t\n",
    "\treturn y\n",
    "\n",
    "\n",
    "def UpperTriangular_solver(U, y):\n",
    "\tassert np.allclose(U, np.triu(U));  # checks if L is Upper Triangular \n",
    "\treturn LowerTriangular_solver(np.flip(np.flip(U, 1), 0), y[::-1])[::-1]\n",
    "\n",
    "\n",
    "def solve(A, b):\n",
    "    Q, L, U = QLU_decomposition(A)\n",
    "    y = LowerTriangular_solver(L, np.dot(Q, b)) # перестановка строк b\n",
    "    x = UpperTriangular_solver(U, y)\n",
    "    return L, U, Q, x"
   ],
   "id": "initial_id",
   "outputs": [],
   "execution_count": 117
  },
  {
   "metadata": {},
   "cell_type": "markdown",
   "source": "### Квадратная невырожденная матрица",
   "id": "2f9c4dc92e35942f"
  },
  {
   "metadata": {
    "ExecuteTime": {
     "end_time": "2024-05-02T20:08:11.564830Z",
     "start_time": "2024-05-02T20:08:11.559790Z"
    }
   },
   "cell_type": "code",
   "source": [
    "n = 3\n",
    "A = np.random.rand(n,n).astype(np.float64)\n",
    "A"
   ],
   "id": "bcbf67bf3dba07b6",
   "outputs": [
    {
     "data": {
      "text/plain": [
       "array([[0.50343312, 0.43212911, 0.222774  ],\n",
       "       [0.62845596, 0.97632949, 0.9734666 ],\n",
       "       [0.31451392, 0.68202337, 0.31418181]])"
      ]
     },
     "execution_count": 118,
     "metadata": {},
     "output_type": "execute_result"
    }
   ],
   "execution_count": 118
  },
  {
   "metadata": {
    "ExecuteTime": {
     "end_time": "2024-05-02T20:08:11.593301Z",
     "start_time": "2024-05-02T20:08:11.587825Z"
    }
   },
   "cell_type": "code",
   "source": "QLU_decomposition(A)",
   "id": "d31d26b17616d120",
   "outputs": [
    {
     "data": {
      "text/plain": [
       "(array([[1., 0., 0.],\n",
       "        [0., 1., 0.],\n",
       "        [0., 0., 1.]]),\n",
       " array([[ 0.50343312,  0.        ,  0.        ],\n",
       "        [ 0.62845596,  0.43688521,  0.        ],\n",
       "        [ 0.31451392,  0.41205579, -0.48084264]]),\n",
       " array([[1.        , 0.8583645 , 0.44250963],\n",
       "        [0.        , 1.        , 1.591651  ],\n",
       "        [0.        , 0.        , 1.        ]]))"
      ]
     },
     "execution_count": 119,
     "metadata": {},
     "output_type": "execute_result"
    }
   ],
   "execution_count": 119
  },
  {
   "metadata": {},
   "cell_type": "markdown",
   "source": "Посмотрим на решение системы $Ax = b$ методом Гаусса",
   "id": "59daa917101be4f9"
  },
  {
   "metadata": {
    "ExecuteTime": {
     "end_time": "2024-05-02T20:08:11.647951Z",
     "start_time": "2024-05-02T20:08:11.641296Z"
    }
   },
   "cell_type": "code",
   "source": [
    "x = np.random.rand(n).astype(np.float64)\n",
    "pd.DataFrame(x)"
   ],
   "id": "4104d73b6f097c8",
   "outputs": [
    {
     "data": {
      "text/plain": [
       "          0\n",
       "0  0.455010\n",
       "1  0.569876\n",
       "2  0.016733"
      ],
      "text/html": [
       "<div>\n",
       "<style scoped>\n",
       "    .dataframe tbody tr th:only-of-type {\n",
       "        vertical-align: middle;\n",
       "    }\n",
       "\n",
       "    .dataframe tbody tr th {\n",
       "        vertical-align: top;\n",
       "    }\n",
       "\n",
       "    .dataframe thead th {\n",
       "        text-align: right;\n",
       "    }\n",
       "</style>\n",
       "<table border=\"1\" class=\"dataframe\">\n",
       "  <thead>\n",
       "    <tr style=\"text-align: right;\">\n",
       "      <th></th>\n",
       "      <th>0</th>\n",
       "    </tr>\n",
       "  </thead>\n",
       "  <tbody>\n",
       "    <tr>\n",
       "      <th>0</th>\n",
       "      <td>0.455010</td>\n",
       "    </tr>\n",
       "    <tr>\n",
       "      <th>1</th>\n",
       "      <td>0.569876</td>\n",
       "    </tr>\n",
       "    <tr>\n",
       "      <th>2</th>\n",
       "      <td>0.016733</td>\n",
       "    </tr>\n",
       "  </tbody>\n",
       "</table>\n",
       "</div>"
      ]
     },
     "execution_count": 120,
     "metadata": {},
     "output_type": "execute_result"
    }
   ],
   "execution_count": 120
  },
  {
   "metadata": {
    "ExecuteTime": {
     "end_time": "2024-05-02T20:08:11.666948Z",
     "start_time": "2024-05-02T20:08:11.659948Z"
    }
   },
   "cell_type": "code",
   "source": [
    "# Использую матричное умножение для проверки примера. Это не реализация требуемой функции\n",
    "b = np.dot(A, x.T)\n",
    "pd.DataFrame(b)"
   ],
   "id": "81dbb92158b5f302",
   "outputs": [
    {
     "data": {
      "text/plain": [
       "          0\n",
       "0  0.479055\n",
       "1  0.858629\n",
       "2  0.537033"
      ],
      "text/html": [
       "<div>\n",
       "<style scoped>\n",
       "    .dataframe tbody tr th:only-of-type {\n",
       "        vertical-align: middle;\n",
       "    }\n",
       "\n",
       "    .dataframe tbody tr th {\n",
       "        vertical-align: top;\n",
       "    }\n",
       "\n",
       "    .dataframe thead th {\n",
       "        text-align: right;\n",
       "    }\n",
       "</style>\n",
       "<table border=\"1\" class=\"dataframe\">\n",
       "  <thead>\n",
       "    <tr style=\"text-align: right;\">\n",
       "      <th></th>\n",
       "      <th>0</th>\n",
       "    </tr>\n",
       "  </thead>\n",
       "  <tbody>\n",
       "    <tr>\n",
       "      <th>0</th>\n",
       "      <td>0.479055</td>\n",
       "    </tr>\n",
       "    <tr>\n",
       "      <th>1</th>\n",
       "      <td>0.858629</td>\n",
       "    </tr>\n",
       "    <tr>\n",
       "      <th>2</th>\n",
       "      <td>0.537033</td>\n",
       "    </tr>\n",
       "  </tbody>\n",
       "</table>\n",
       "</div>"
      ]
     },
     "execution_count": 121,
     "metadata": {},
     "output_type": "execute_result"
    }
   ],
   "execution_count": 121
  },
  {
   "metadata": {},
   "cell_type": "markdown",
   "source": "Библиотечное решение системы",
   "id": "474719b6e7bbdefe"
  },
  {
   "metadata": {
    "ExecuteTime": {
     "end_time": "2024-05-02T20:08:11.683489Z",
     "start_time": "2024-05-02T20:08:11.675952Z"
    }
   },
   "cell_type": "code",
   "source": [
    "np_sol = np.linalg.solve(A, b)\n",
    "pd.DataFrame(np_sol)"
   ],
   "id": "a28774c8a931ed07",
   "outputs": [
    {
     "data": {
      "text/plain": [
       "          0\n",
       "0  0.455010\n",
       "1  0.569876\n",
       "2  0.016733"
      ],
      "text/html": [
       "<div>\n",
       "<style scoped>\n",
       "    .dataframe tbody tr th:only-of-type {\n",
       "        vertical-align: middle;\n",
       "    }\n",
       "\n",
       "    .dataframe tbody tr th {\n",
       "        vertical-align: top;\n",
       "    }\n",
       "\n",
       "    .dataframe thead th {\n",
       "        text-align: right;\n",
       "    }\n",
       "</style>\n",
       "<table border=\"1\" class=\"dataframe\">\n",
       "  <thead>\n",
       "    <tr style=\"text-align: right;\">\n",
       "      <th></th>\n",
       "      <th>0</th>\n",
       "    </tr>\n",
       "  </thead>\n",
       "  <tbody>\n",
       "    <tr>\n",
       "      <th>0</th>\n",
       "      <td>0.455010</td>\n",
       "    </tr>\n",
       "    <tr>\n",
       "      <th>1</th>\n",
       "      <td>0.569876</td>\n",
       "    </tr>\n",
       "    <tr>\n",
       "      <th>2</th>\n",
       "      <td>0.016733</td>\n",
       "    </tr>\n",
       "  </tbody>\n",
       "</table>\n",
       "</div>"
      ]
     },
     "execution_count": 122,
     "metadata": {},
     "output_type": "execute_result"
    }
   ],
   "execution_count": 122
  },
  {
   "metadata": {},
   "cell_type": "markdown",
   "source": "Кастомное решение системы",
   "id": "771890731229e461"
  },
  {
   "metadata": {
    "ExecuteTime": {
     "end_time": "2024-05-02T20:08:11.724945Z",
     "start_time": "2024-05-02T20:08:11.715490Z"
    }
   },
   "cell_type": "code",
   "source": [
    "my_sol = solve(A, b)[3]\n",
    "pd.DataFrame(my_sol)"
   ],
   "id": "85500a38b44d7a3",
   "outputs": [
    {
     "data": {
      "text/plain": [
       "          0\n",
       "0  0.455010\n",
       "1  0.569876\n",
       "2  0.016733"
      ],
      "text/html": [
       "<div>\n",
       "<style scoped>\n",
       "    .dataframe tbody tr th:only-of-type {\n",
       "        vertical-align: middle;\n",
       "    }\n",
       "\n",
       "    .dataframe tbody tr th {\n",
       "        vertical-align: top;\n",
       "    }\n",
       "\n",
       "    .dataframe thead th {\n",
       "        text-align: right;\n",
       "    }\n",
       "</style>\n",
       "<table border=\"1\" class=\"dataframe\">\n",
       "  <thead>\n",
       "    <tr style=\"text-align: right;\">\n",
       "      <th></th>\n",
       "      <th>0</th>\n",
       "    </tr>\n",
       "  </thead>\n",
       "  <tbody>\n",
       "    <tr>\n",
       "      <th>0</th>\n",
       "      <td>0.455010</td>\n",
       "    </tr>\n",
       "    <tr>\n",
       "      <th>1</th>\n",
       "      <td>0.569876</td>\n",
       "    </tr>\n",
       "    <tr>\n",
       "      <th>2</th>\n",
       "      <td>0.016733</td>\n",
       "    </tr>\n",
       "  </tbody>\n",
       "</table>\n",
       "</div>"
      ]
     },
     "execution_count": 123,
     "metadata": {},
     "output_type": "execute_result"
    }
   ],
   "execution_count": 123
  },
  {
   "metadata": {},
   "cell_type": "markdown",
   "source": "Норма разности решений",
   "id": "5fbf9f5b0260070e"
  },
  {
   "metadata": {
    "ExecuteTime": {
     "end_time": "2024-05-02T20:08:11.771466Z",
     "start_time": "2024-05-02T20:08:11.764943Z"
    }
   },
   "cell_type": "code",
   "source": "np.linalg.norm(np_sol - my_sol)",
   "id": "3892e9e79572ebc",
   "outputs": [
    {
     "data": {
      "text/plain": [
       "8.617927446923233e-17"
      ]
     },
     "execution_count": 124,
     "metadata": {},
     "output_type": "execute_result"
    }
   ],
   "execution_count": 124
  },
  {
   "metadata": {},
   "cell_type": "markdown",
   "source": "### Ещё матрица большего размера",
   "id": "46fdc2459eb35aca"
  },
  {
   "metadata": {
    "ExecuteTime": {
     "end_time": "2024-05-02T20:08:11.900907Z",
     "start_time": "2024-05-02T20:08:11.897461Z"
    }
   },
   "cell_type": "code",
   "source": [
    "n = 8\n",
    "A = np.random.rand(n,n).astype(np.float64)"
   ],
   "id": "a7872d41627c41ae",
   "outputs": [],
   "execution_count": 125
  },
  {
   "metadata": {},
   "cell_type": "markdown",
   "source": "Посмотрим на решение системы $Ax = b$ методом наименьших квадратов",
   "id": "2e1f9f5ccb05da8a"
  },
  {
   "metadata": {
    "ExecuteTime": {
     "end_time": "2024-05-02T20:08:12.079251Z",
     "start_time": "2024-05-02T20:08:12.069903Z"
    }
   },
   "cell_type": "code",
   "source": [
    "x = np.random.rand(n).astype(np.float64)\n",
    "pd.DataFrame(x)"
   ],
   "id": "726466af325bf6c9",
   "outputs": [
    {
     "data": {
      "text/plain": [
       "          0\n",
       "0  0.306985\n",
       "1  0.421279\n",
       "2  0.300836\n",
       "3  0.604379\n",
       "4  0.533455\n",
       "5  0.736683\n",
       "6  0.172047\n",
       "7  0.589584"
      ],
      "text/html": [
       "<div>\n",
       "<style scoped>\n",
       "    .dataframe tbody tr th:only-of-type {\n",
       "        vertical-align: middle;\n",
       "    }\n",
       "\n",
       "    .dataframe tbody tr th {\n",
       "        vertical-align: top;\n",
       "    }\n",
       "\n",
       "    .dataframe thead th {\n",
       "        text-align: right;\n",
       "    }\n",
       "</style>\n",
       "<table border=\"1\" class=\"dataframe\">\n",
       "  <thead>\n",
       "    <tr style=\"text-align: right;\">\n",
       "      <th></th>\n",
       "      <th>0</th>\n",
       "    </tr>\n",
       "  </thead>\n",
       "  <tbody>\n",
       "    <tr>\n",
       "      <th>0</th>\n",
       "      <td>0.306985</td>\n",
       "    </tr>\n",
       "    <tr>\n",
       "      <th>1</th>\n",
       "      <td>0.421279</td>\n",
       "    </tr>\n",
       "    <tr>\n",
       "      <th>2</th>\n",
       "      <td>0.300836</td>\n",
       "    </tr>\n",
       "    <tr>\n",
       "      <th>3</th>\n",
       "      <td>0.604379</td>\n",
       "    </tr>\n",
       "    <tr>\n",
       "      <th>4</th>\n",
       "      <td>0.533455</td>\n",
       "    </tr>\n",
       "    <tr>\n",
       "      <th>5</th>\n",
       "      <td>0.736683</td>\n",
       "    </tr>\n",
       "    <tr>\n",
       "      <th>6</th>\n",
       "      <td>0.172047</td>\n",
       "    </tr>\n",
       "    <tr>\n",
       "      <th>7</th>\n",
       "      <td>0.589584</td>\n",
       "    </tr>\n",
       "  </tbody>\n",
       "</table>\n",
       "</div>"
      ]
     },
     "execution_count": 126,
     "metadata": {},
     "output_type": "execute_result"
    }
   ],
   "execution_count": 126
  },
  {
   "metadata": {
    "ExecuteTime": {
     "end_time": "2024-05-02T20:08:12.285969Z",
     "start_time": "2024-05-02T20:08:12.276246Z"
    }
   },
   "cell_type": "code",
   "source": [
    "# Использую матричное умножение для проверки примера. Это не реализация требуемой функции\n",
    "b = np.dot(A, x.T)\n",
    "pd.DataFrame(b)"
   ],
   "id": "51b7ed181cf18754",
   "outputs": [
    {
     "data": {
      "text/plain": [
       "          0\n",
       "0  1.411680\n",
       "1  1.817810\n",
       "2  1.804504\n",
       "3  1.554133\n",
       "4  2.048119\n",
       "5  1.485364\n",
       "6  1.971326\n",
       "7  1.281572"
      ],
      "text/html": [
       "<div>\n",
       "<style scoped>\n",
       "    .dataframe tbody tr th:only-of-type {\n",
       "        vertical-align: middle;\n",
       "    }\n",
       "\n",
       "    .dataframe tbody tr th {\n",
       "        vertical-align: top;\n",
       "    }\n",
       "\n",
       "    .dataframe thead th {\n",
       "        text-align: right;\n",
       "    }\n",
       "</style>\n",
       "<table border=\"1\" class=\"dataframe\">\n",
       "  <thead>\n",
       "    <tr style=\"text-align: right;\">\n",
       "      <th></th>\n",
       "      <th>0</th>\n",
       "    </tr>\n",
       "  </thead>\n",
       "  <tbody>\n",
       "    <tr>\n",
       "      <th>0</th>\n",
       "      <td>1.411680</td>\n",
       "    </tr>\n",
       "    <tr>\n",
       "      <th>1</th>\n",
       "      <td>1.817810</td>\n",
       "    </tr>\n",
       "    <tr>\n",
       "      <th>2</th>\n",
       "      <td>1.804504</td>\n",
       "    </tr>\n",
       "    <tr>\n",
       "      <th>3</th>\n",
       "      <td>1.554133</td>\n",
       "    </tr>\n",
       "    <tr>\n",
       "      <th>4</th>\n",
       "      <td>2.048119</td>\n",
       "    </tr>\n",
       "    <tr>\n",
       "      <th>5</th>\n",
       "      <td>1.485364</td>\n",
       "    </tr>\n",
       "    <tr>\n",
       "      <th>6</th>\n",
       "      <td>1.971326</td>\n",
       "    </tr>\n",
       "    <tr>\n",
       "      <th>7</th>\n",
       "      <td>1.281572</td>\n",
       "    </tr>\n",
       "  </tbody>\n",
       "</table>\n",
       "</div>"
      ]
     },
     "execution_count": 127,
     "metadata": {},
     "output_type": "execute_result"
    }
   ],
   "execution_count": 127
  },
  {
   "metadata": {},
   "cell_type": "markdown",
   "source": "Библиотечное решение системы",
   "id": "d9059466254a6771"
  },
  {
   "metadata": {
    "ExecuteTime": {
     "end_time": "2024-05-02T20:08:12.342069Z",
     "start_time": "2024-05-02T20:08:12.334967Z"
    }
   },
   "cell_type": "code",
   "source": [
    "np_sol = np.linalg.solve(A, b)\n",
    "pd.DataFrame(np_sol)"
   ],
   "id": "3c072de0750759e",
   "outputs": [
    {
     "data": {
      "text/plain": [
       "          0\n",
       "0  0.306985\n",
       "1  0.421279\n",
       "2  0.300836\n",
       "3  0.604379\n",
       "4  0.533455\n",
       "5  0.736683\n",
       "6  0.172047\n",
       "7  0.589584"
      ],
      "text/html": [
       "<div>\n",
       "<style scoped>\n",
       "    .dataframe tbody tr th:only-of-type {\n",
       "        vertical-align: middle;\n",
       "    }\n",
       "\n",
       "    .dataframe tbody tr th {\n",
       "        vertical-align: top;\n",
       "    }\n",
       "\n",
       "    .dataframe thead th {\n",
       "        text-align: right;\n",
       "    }\n",
       "</style>\n",
       "<table border=\"1\" class=\"dataframe\">\n",
       "  <thead>\n",
       "    <tr style=\"text-align: right;\">\n",
       "      <th></th>\n",
       "      <th>0</th>\n",
       "    </tr>\n",
       "  </thead>\n",
       "  <tbody>\n",
       "    <tr>\n",
       "      <th>0</th>\n",
       "      <td>0.306985</td>\n",
       "    </tr>\n",
       "    <tr>\n",
       "      <th>1</th>\n",
       "      <td>0.421279</td>\n",
       "    </tr>\n",
       "    <tr>\n",
       "      <th>2</th>\n",
       "      <td>0.300836</td>\n",
       "    </tr>\n",
       "    <tr>\n",
       "      <th>3</th>\n",
       "      <td>0.604379</td>\n",
       "    </tr>\n",
       "    <tr>\n",
       "      <th>4</th>\n",
       "      <td>0.533455</td>\n",
       "    </tr>\n",
       "    <tr>\n",
       "      <th>5</th>\n",
       "      <td>0.736683</td>\n",
       "    </tr>\n",
       "    <tr>\n",
       "      <th>6</th>\n",
       "      <td>0.172047</td>\n",
       "    </tr>\n",
       "    <tr>\n",
       "      <th>7</th>\n",
       "      <td>0.589584</td>\n",
       "    </tr>\n",
       "  </tbody>\n",
       "</table>\n",
       "</div>"
      ]
     },
     "execution_count": 128,
     "metadata": {},
     "output_type": "execute_result"
    }
   ],
   "execution_count": 128
  },
  {
   "metadata": {},
   "cell_type": "markdown",
   "source": "Кастомное решение системы",
   "id": "99a9b4b2aa03c8cc"
  },
  {
   "metadata": {
    "ExecuteTime": {
     "end_time": "2024-05-02T20:08:12.398441Z",
     "start_time": "2024-05-02T20:08:12.390174Z"
    }
   },
   "cell_type": "code",
   "source": [
    "my_sol = solve(A, b)[3]\n",
    "pd.DataFrame(my_sol)"
   ],
   "id": "360811faedc8f295",
   "outputs": [
    {
     "data": {
      "text/plain": [
       "          0\n",
       "0  0.306985\n",
       "1  0.421279\n",
       "2  0.300836\n",
       "3  0.604379\n",
       "4  0.533455\n",
       "5  0.736683\n",
       "6  0.172047\n",
       "7  0.589584"
      ],
      "text/html": [
       "<div>\n",
       "<style scoped>\n",
       "    .dataframe tbody tr th:only-of-type {\n",
       "        vertical-align: middle;\n",
       "    }\n",
       "\n",
       "    .dataframe tbody tr th {\n",
       "        vertical-align: top;\n",
       "    }\n",
       "\n",
       "    .dataframe thead th {\n",
       "        text-align: right;\n",
       "    }\n",
       "</style>\n",
       "<table border=\"1\" class=\"dataframe\">\n",
       "  <thead>\n",
       "    <tr style=\"text-align: right;\">\n",
       "      <th></th>\n",
       "      <th>0</th>\n",
       "    </tr>\n",
       "  </thead>\n",
       "  <tbody>\n",
       "    <tr>\n",
       "      <th>0</th>\n",
       "      <td>0.306985</td>\n",
       "    </tr>\n",
       "    <tr>\n",
       "      <th>1</th>\n",
       "      <td>0.421279</td>\n",
       "    </tr>\n",
       "    <tr>\n",
       "      <th>2</th>\n",
       "      <td>0.300836</td>\n",
       "    </tr>\n",
       "    <tr>\n",
       "      <th>3</th>\n",
       "      <td>0.604379</td>\n",
       "    </tr>\n",
       "    <tr>\n",
       "      <th>4</th>\n",
       "      <td>0.533455</td>\n",
       "    </tr>\n",
       "    <tr>\n",
       "      <th>5</th>\n",
       "      <td>0.736683</td>\n",
       "    </tr>\n",
       "    <tr>\n",
       "      <th>6</th>\n",
       "      <td>0.172047</td>\n",
       "    </tr>\n",
       "    <tr>\n",
       "      <th>7</th>\n",
       "      <td>0.589584</td>\n",
       "    </tr>\n",
       "  </tbody>\n",
       "</table>\n",
       "</div>"
      ]
     },
     "execution_count": 129,
     "metadata": {},
     "output_type": "execute_result"
    }
   ],
   "execution_count": 129
  },
  {
   "metadata": {},
   "cell_type": "markdown",
   "source": "Норма разности решений",
   "id": "b3d87485d25d0b0e"
  },
  {
   "metadata": {
    "ExecuteTime": {
     "end_time": "2024-05-02T20:08:12.532421Z",
     "start_time": "2024-05-02T20:08:12.526418Z"
    }
   },
   "cell_type": "code",
   "source": "np.linalg.norm(np_sol - my_sol)",
   "id": "5b39867fe75d3682",
   "outputs": [
    {
     "data": {
      "text/plain": [
       "5.4274039202379156e-15"
      ]
     },
     "execution_count": 130,
     "metadata": {},
     "output_type": "execute_result"
    }
   ],
   "execution_count": 130
  }
 ],
 "metadata": {
  "kernelspec": {
   "display_name": "Python 3",
   "language": "python",
   "name": "python3"
  },
  "language_info": {
   "codemirror_mode": {
    "name": "ipython",
    "version": 2
   },
   "file_extension": ".py",
   "mimetype": "text/x-python",
   "name": "python",
   "nbconvert_exporter": "python",
   "pygments_lexer": "ipython2",
   "version": "2.7.6"
  }
 },
 "nbformat": 4,
 "nbformat_minor": 5
}
