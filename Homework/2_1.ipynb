{
 "cells": [
  {
   "metadata": {},
   "cell_type": "markdown",
   "source": "# Задача 2.1 Метод Гаусса с выбором главного элемента по столбцу",
   "id": "d7a2fc535d0e60df"
  },
  {
   "metadata": {
    "ExecuteTime": {
     "end_time": "2024-05-02T20:08:13.913639Z",
     "start_time": "2024-05-02T20:08:13.904464Z"
    }
   },
   "cell_type": "code",
   "source": [
    "import numpy as np\n",
    "import pandas as pd\n",
    "import warnings\n",
    "warnings.filterwarnings('ignore')\n",
    "\n",
    "def PLU_decomposition(A):\n",
    "    n = A.shape[0]\n",
    "    \n",
    "    U = A.copy()\n",
    "    L = np.eye(n, dtype=np.double)\n",
    "    P = np.eye(n, dtype=np.double)\n",
    "    \n",
    "    #Loop over rows\n",
    "    for i in range(n):\n",
    "        factor = U[i+1:, i] / U[i, i]\n",
    "        L[i+1:, i] = factor\n",
    "        U[i+1:] -= factor[:, np.newaxis] * U[i]\n",
    "        \n",
    "    return P, L, U\n",
    "\n",
    "\n",
    "def LowerTriangular_solver(L, b):\n",
    "\tassert np.allclose(L, np.tril(L));  # checks if L is Lower Triangular \n",
    "\tn = L.shape[0]\n",
    "\ty = np.zeros(n)\n",
    "\tfor i in range(n):\n",
    "\t\ttmp_sum = 0\n",
    "\t\tfor j in range(i):\n",
    "\t\t\ttmp_sum += L[i][j] * y[j]\n",
    "\t\ty[i] = (b[i] - tmp_sum) / L[i][i]\n",
    "\t\t\n",
    "\treturn y\n",
    "\n",
    "\n",
    "def UpperTriangular_solver(U, y):\n",
    "\tassert np.allclose(U, np.triu(U));  # checks if L is Upper Triangular \n",
    "\treturn LowerTriangular_solver(np.flip(np.flip(U, 1), 0), y[::-1])[::-1]\n",
    "\n",
    "\n",
    "def solve(A, b):\n",
    "    P, L, U = PLU_decomposition(A)\n",
    "    y = LowerTriangular_solver(L, np.dot(P, b)) # перестановка строк b\n",
    "    x = UpperTriangular_solver(U, y)\n",
    "    return L, U, P, x"
   ],
   "id": "initial_id",
   "outputs": [],
   "execution_count": 116
  },
  {
   "metadata": {},
   "cell_type": "markdown",
   "source": "### Квадратная невырожденная матрица",
   "id": "a6a6dea3b3efca37"
  },
  {
   "metadata": {
    "ExecuteTime": {
     "end_time": "2024-05-02T20:08:14.393113Z",
     "start_time": "2024-05-02T20:08:14.386380Z"
    }
   },
   "cell_type": "code",
   "source": [
    "n = 3\n",
    "A = np.random.rand(n,n).astype(np.float64)\n",
    "A"
   ],
   "id": "7fab38f45e7e7341",
   "outputs": [
    {
     "data": {
      "text/plain": [
       "array([[0.56255759, 0.74744421, 0.62906831],\n",
       "       [0.41296807, 0.66440335, 0.05829318],\n",
       "       [0.11596266, 0.00812188, 0.99802859]])"
      ]
     },
     "execution_count": 117,
     "metadata": {},
     "output_type": "execute_result"
    }
   ],
   "execution_count": 117
  },
  {
   "metadata": {
    "ExecuteTime": {
     "end_time": "2024-05-02T20:08:14.475865Z",
     "start_time": "2024-05-02T20:08:14.469012Z"
    }
   },
   "cell_type": "code",
   "source": "PLU_decomposition(A)",
   "id": "6c5ff2001ac63aa7",
   "outputs": [
    {
     "data": {
      "text/plain": [
       "(array([[1., 0., 0.],\n",
       "        [0., 1., 0.],\n",
       "        [0., 0., 1.]]),\n",
       " array([[ 1.        ,  0.        ,  0.        ],\n",
       "        [ 0.73409029,  1.        ,  0.        ],\n",
       "        [ 0.20613473, -1.26134338,  1.        ]]),\n",
       " array([[ 5.62557594e-01,  7.47444205e-01,  6.29068307e-01],\n",
       "        [-5.55111512e-17,  1.15711813e-01, -4.03499754e-01],\n",
       "        [-7.00186234e-17,  0.00000000e+00,  3.59404022e-01]]))"
      ]
     },
     "execution_count": 118,
     "metadata": {},
     "output_type": "execute_result"
    }
   ],
   "execution_count": 118
  },
  {
   "metadata": {},
   "cell_type": "markdown",
   "source": "Посмотрим на решение системы $Ax = b$ методом Гаусса",
   "id": "7fd0ea94e2b07119"
  },
  {
   "metadata": {
    "ExecuteTime": {
     "end_time": "2024-05-02T20:08:14.552219Z",
     "start_time": "2024-05-02T20:08:14.542747Z"
    }
   },
   "cell_type": "code",
   "source": [
    "x = np.random.rand(n).astype(np.float64)\n",
    "pd.DataFrame(x)"
   ],
   "id": "45bcd5bed25193fe",
   "outputs": [
    {
     "data": {
      "text/plain": [
       "          0\n",
       "0  0.008075\n",
       "1  0.461732\n",
       "2  0.815113"
      ],
      "text/html": [
       "<div>\n",
       "<style scoped>\n",
       "    .dataframe tbody tr th:only-of-type {\n",
       "        vertical-align: middle;\n",
       "    }\n",
       "\n",
       "    .dataframe tbody tr th {\n",
       "        vertical-align: top;\n",
       "    }\n",
       "\n",
       "    .dataframe thead th {\n",
       "        text-align: right;\n",
       "    }\n",
       "</style>\n",
       "<table border=\"1\" class=\"dataframe\">\n",
       "  <thead>\n",
       "    <tr style=\"text-align: right;\">\n",
       "      <th></th>\n",
       "      <th>0</th>\n",
       "    </tr>\n",
       "  </thead>\n",
       "  <tbody>\n",
       "    <tr>\n",
       "      <th>0</th>\n",
       "      <td>0.008075</td>\n",
       "    </tr>\n",
       "    <tr>\n",
       "      <th>1</th>\n",
       "      <td>0.461732</td>\n",
       "    </tr>\n",
       "    <tr>\n",
       "      <th>2</th>\n",
       "      <td>0.815113</td>\n",
       "    </tr>\n",
       "  </tbody>\n",
       "</table>\n",
       "</div>"
      ]
     },
     "execution_count": 119,
     "metadata": {},
     "output_type": "execute_result"
    }
   ],
   "execution_count": 119
  },
  {
   "metadata": {
    "ExecuteTime": {
     "end_time": "2024-05-02T20:08:14.594731Z",
     "start_time": "2024-05-02T20:08:14.585211Z"
    }
   },
   "cell_type": "code",
   "source": [
    "# Использую матричное умножение для проверки примера. Это не реализация требуемой функции\n",
    "b = np.dot(A, x.T)\n",
    "pd.DataFrame(b)"
   ],
   "id": "e1c9f10e3b945b8",
   "outputs": [
    {
     "data": {
      "text/plain": [
       "          0\n",
       "0  0.862423\n",
       "1  0.357627\n",
       "2  0.818192"
      ],
      "text/html": [
       "<div>\n",
       "<style scoped>\n",
       "    .dataframe tbody tr th:only-of-type {\n",
       "        vertical-align: middle;\n",
       "    }\n",
       "\n",
       "    .dataframe tbody tr th {\n",
       "        vertical-align: top;\n",
       "    }\n",
       "\n",
       "    .dataframe thead th {\n",
       "        text-align: right;\n",
       "    }\n",
       "</style>\n",
       "<table border=\"1\" class=\"dataframe\">\n",
       "  <thead>\n",
       "    <tr style=\"text-align: right;\">\n",
       "      <th></th>\n",
       "      <th>0</th>\n",
       "    </tr>\n",
       "  </thead>\n",
       "  <tbody>\n",
       "    <tr>\n",
       "      <th>0</th>\n",
       "      <td>0.862423</td>\n",
       "    </tr>\n",
       "    <tr>\n",
       "      <th>1</th>\n",
       "      <td>0.357627</td>\n",
       "    </tr>\n",
       "    <tr>\n",
       "      <th>2</th>\n",
       "      <td>0.818192</td>\n",
       "    </tr>\n",
       "  </tbody>\n",
       "</table>\n",
       "</div>"
      ]
     },
     "execution_count": 120,
     "metadata": {},
     "output_type": "execute_result"
    }
   ],
   "execution_count": 120
  },
  {
   "metadata": {},
   "cell_type": "markdown",
   "source": "Библиотечное решение системы",
   "id": "8449447e042058b3"
  },
  {
   "metadata": {
    "ExecuteTime": {
     "end_time": "2024-05-02T20:08:14.661966Z",
     "start_time": "2024-05-02T20:08:14.653730Z"
    }
   },
   "cell_type": "code",
   "source": [
    "np_sol = np.linalg.solve(A, b)\n",
    "pd.DataFrame(np_sol)"
   ],
   "id": "16615020c3cfed00",
   "outputs": [
    {
     "data": {
      "text/plain": [
       "          0\n",
       "0  0.008075\n",
       "1  0.461732\n",
       "2  0.815113"
      ],
      "text/html": [
       "<div>\n",
       "<style scoped>\n",
       "    .dataframe tbody tr th:only-of-type {\n",
       "        vertical-align: middle;\n",
       "    }\n",
       "\n",
       "    .dataframe tbody tr th {\n",
       "        vertical-align: top;\n",
       "    }\n",
       "\n",
       "    .dataframe thead th {\n",
       "        text-align: right;\n",
       "    }\n",
       "</style>\n",
       "<table border=\"1\" class=\"dataframe\">\n",
       "  <thead>\n",
       "    <tr style=\"text-align: right;\">\n",
       "      <th></th>\n",
       "      <th>0</th>\n",
       "    </tr>\n",
       "  </thead>\n",
       "  <tbody>\n",
       "    <tr>\n",
       "      <th>0</th>\n",
       "      <td>0.008075</td>\n",
       "    </tr>\n",
       "    <tr>\n",
       "      <th>1</th>\n",
       "      <td>0.461732</td>\n",
       "    </tr>\n",
       "    <tr>\n",
       "      <th>2</th>\n",
       "      <td>0.815113</td>\n",
       "    </tr>\n",
       "  </tbody>\n",
       "</table>\n",
       "</div>"
      ]
     },
     "execution_count": 121,
     "metadata": {},
     "output_type": "execute_result"
    }
   ],
   "execution_count": 121
  },
  {
   "metadata": {},
   "cell_type": "markdown",
   "source": "Кастомное решение системы",
   "id": "530341736fbddac4"
  },
  {
   "metadata": {
    "ExecuteTime": {
     "end_time": "2024-05-02T20:08:14.698150Z",
     "start_time": "2024-05-02T20:08:14.689960Z"
    }
   },
   "cell_type": "code",
   "source": [
    "my_sol = solve(A, b)[3]\n",
    "pd.DataFrame(my_sol)"
   ],
   "id": "edcb3639fb7d9860",
   "outputs": [
    {
     "data": {
      "text/plain": [
       "          0\n",
       "0  0.008075\n",
       "1  0.461732\n",
       "2  0.815113"
      ],
      "text/html": [
       "<div>\n",
       "<style scoped>\n",
       "    .dataframe tbody tr th:only-of-type {\n",
       "        vertical-align: middle;\n",
       "    }\n",
       "\n",
       "    .dataframe tbody tr th {\n",
       "        vertical-align: top;\n",
       "    }\n",
       "\n",
       "    .dataframe thead th {\n",
       "        text-align: right;\n",
       "    }\n",
       "</style>\n",
       "<table border=\"1\" class=\"dataframe\">\n",
       "  <thead>\n",
       "    <tr style=\"text-align: right;\">\n",
       "      <th></th>\n",
       "      <th>0</th>\n",
       "    </tr>\n",
       "  </thead>\n",
       "  <tbody>\n",
       "    <tr>\n",
       "      <th>0</th>\n",
       "      <td>0.008075</td>\n",
       "    </tr>\n",
       "    <tr>\n",
       "      <th>1</th>\n",
       "      <td>0.461732</td>\n",
       "    </tr>\n",
       "    <tr>\n",
       "      <th>2</th>\n",
       "      <td>0.815113</td>\n",
       "    </tr>\n",
       "  </tbody>\n",
       "</table>\n",
       "</div>"
      ]
     },
     "execution_count": 122,
     "metadata": {},
     "output_type": "execute_result"
    }
   ],
   "execution_count": 122
  },
  {
   "metadata": {},
   "cell_type": "markdown",
   "source": "Норма разности решений",
   "id": "c4cf17cb39f31255"
  },
  {
   "metadata": {
    "ExecuteTime": {
     "end_time": "2024-05-02T20:08:14.813795Z",
     "start_time": "2024-05-02T20:08:14.809142Z"
    }
   },
   "cell_type": "code",
   "source": "np.linalg.norm(np_sol - my_sol)",
   "id": "5a1fcab9b0595682",
   "outputs": [
    {
     "data": {
      "text/plain": [
       "3.878336215544695e-15"
      ]
     },
     "execution_count": 123,
     "metadata": {},
     "output_type": "execute_result"
    }
   ],
   "execution_count": 123
  },
  {
   "metadata": {},
   "cell_type": "markdown",
   "source": "### Ещё матрица большего размера",
   "id": "519aad49a85068ab"
  },
  {
   "metadata": {
    "ExecuteTime": {
     "end_time": "2024-05-02T20:08:14.920788Z",
     "start_time": "2024-05-02T20:08:14.916789Z"
    }
   },
   "cell_type": "code",
   "source": [
    "n = 8\n",
    "A = np.random.rand(n,n).astype(np.float64)"
   ],
   "id": "bb479bd5a24a804d",
   "outputs": [],
   "execution_count": 124
  },
  {
   "metadata": {},
   "cell_type": "markdown",
   "source": "Посмотрим на решение системы $Ax = b$ методом наименьших квадратов",
   "id": "9aeb396facfaf808"
  },
  {
   "metadata": {
    "ExecuteTime": {
     "end_time": "2024-05-02T20:08:15.060159Z",
     "start_time": "2024-05-02T20:08:15.050789Z"
    }
   },
   "cell_type": "code",
   "source": [
    "x = np.random.rand(n).astype(np.float64)\n",
    "pd.DataFrame(x)"
   ],
   "id": "a6eda17374dec3bc",
   "outputs": [
    {
     "data": {
      "text/plain": [
       "          0\n",
       "0  0.924925\n",
       "1  0.682334\n",
       "2  0.149404\n",
       "3  0.725623\n",
       "4  0.532569\n",
       "5  0.887934\n",
       "6  0.028158\n",
       "7  0.503164"
      ],
      "text/html": [
       "<div>\n",
       "<style scoped>\n",
       "    .dataframe tbody tr th:only-of-type {\n",
       "        vertical-align: middle;\n",
       "    }\n",
       "\n",
       "    .dataframe tbody tr th {\n",
       "        vertical-align: top;\n",
       "    }\n",
       "\n",
       "    .dataframe thead th {\n",
       "        text-align: right;\n",
       "    }\n",
       "</style>\n",
       "<table border=\"1\" class=\"dataframe\">\n",
       "  <thead>\n",
       "    <tr style=\"text-align: right;\">\n",
       "      <th></th>\n",
       "      <th>0</th>\n",
       "    </tr>\n",
       "  </thead>\n",
       "  <tbody>\n",
       "    <tr>\n",
       "      <th>0</th>\n",
       "      <td>0.924925</td>\n",
       "    </tr>\n",
       "    <tr>\n",
       "      <th>1</th>\n",
       "      <td>0.682334</td>\n",
       "    </tr>\n",
       "    <tr>\n",
       "      <th>2</th>\n",
       "      <td>0.149404</td>\n",
       "    </tr>\n",
       "    <tr>\n",
       "      <th>3</th>\n",
       "      <td>0.725623</td>\n",
       "    </tr>\n",
       "    <tr>\n",
       "      <th>4</th>\n",
       "      <td>0.532569</td>\n",
       "    </tr>\n",
       "    <tr>\n",
       "      <th>5</th>\n",
       "      <td>0.887934</td>\n",
       "    </tr>\n",
       "    <tr>\n",
       "      <th>6</th>\n",
       "      <td>0.028158</td>\n",
       "    </tr>\n",
       "    <tr>\n",
       "      <th>7</th>\n",
       "      <td>0.503164</td>\n",
       "    </tr>\n",
       "  </tbody>\n",
       "</table>\n",
       "</div>"
      ]
     },
     "execution_count": 125,
     "metadata": {},
     "output_type": "execute_result"
    }
   ],
   "execution_count": 125
  },
  {
   "metadata": {
    "ExecuteTime": {
     "end_time": "2024-05-02T20:08:15.156229Z",
     "start_time": "2024-05-02T20:08:15.147155Z"
    }
   },
   "cell_type": "code",
   "source": [
    "# Использую матричное умножение для проверки примера. Это не реализация требуемой функции\n",
    "b = np.dot(A, x.T)\n",
    "pd.DataFrame(b)"
   ],
   "id": "206f51784b206322",
   "outputs": [
    {
     "data": {
      "text/plain": [
       "          0\n",
       "0  2.175601\n",
       "1  2.549109\n",
       "2  1.978502\n",
       "3  1.965412\n",
       "4  2.083275\n",
       "5  2.430153\n",
       "6  2.449062\n",
       "7  2.453794"
      ],
      "text/html": [
       "<div>\n",
       "<style scoped>\n",
       "    .dataframe tbody tr th:only-of-type {\n",
       "        vertical-align: middle;\n",
       "    }\n",
       "\n",
       "    .dataframe tbody tr th {\n",
       "        vertical-align: top;\n",
       "    }\n",
       "\n",
       "    .dataframe thead th {\n",
       "        text-align: right;\n",
       "    }\n",
       "</style>\n",
       "<table border=\"1\" class=\"dataframe\">\n",
       "  <thead>\n",
       "    <tr style=\"text-align: right;\">\n",
       "      <th></th>\n",
       "      <th>0</th>\n",
       "    </tr>\n",
       "  </thead>\n",
       "  <tbody>\n",
       "    <tr>\n",
       "      <th>0</th>\n",
       "      <td>2.175601</td>\n",
       "    </tr>\n",
       "    <tr>\n",
       "      <th>1</th>\n",
       "      <td>2.549109</td>\n",
       "    </tr>\n",
       "    <tr>\n",
       "      <th>2</th>\n",
       "      <td>1.978502</td>\n",
       "    </tr>\n",
       "    <tr>\n",
       "      <th>3</th>\n",
       "      <td>1.965412</td>\n",
       "    </tr>\n",
       "    <tr>\n",
       "      <th>4</th>\n",
       "      <td>2.083275</td>\n",
       "    </tr>\n",
       "    <tr>\n",
       "      <th>5</th>\n",
       "      <td>2.430153</td>\n",
       "    </tr>\n",
       "    <tr>\n",
       "      <th>6</th>\n",
       "      <td>2.449062</td>\n",
       "    </tr>\n",
       "    <tr>\n",
       "      <th>7</th>\n",
       "      <td>2.453794</td>\n",
       "    </tr>\n",
       "  </tbody>\n",
       "</table>\n",
       "</div>"
      ]
     },
     "execution_count": 126,
     "metadata": {},
     "output_type": "execute_result"
    }
   ],
   "execution_count": 126
  },
  {
   "metadata": {},
   "cell_type": "markdown",
   "source": "Библиотечное решение системы",
   "id": "8763c3d6a95a148"
  },
  {
   "metadata": {
    "ExecuteTime": {
     "end_time": "2024-05-02T20:08:15.273219Z",
     "start_time": "2024-05-02T20:08:15.264217Z"
    }
   },
   "cell_type": "code",
   "source": [
    "np_sol = np.linalg.solve(A, b)\n",
    "pd.DataFrame(np_sol)"
   ],
   "id": "d94644bbd608700e",
   "outputs": [
    {
     "data": {
      "text/plain": [
       "          0\n",
       "0  0.924925\n",
       "1  0.682334\n",
       "2  0.149404\n",
       "3  0.725623\n",
       "4  0.532569\n",
       "5  0.887934\n",
       "6  0.028158\n",
       "7  0.503164"
      ],
      "text/html": [
       "<div>\n",
       "<style scoped>\n",
       "    .dataframe tbody tr th:only-of-type {\n",
       "        vertical-align: middle;\n",
       "    }\n",
       "\n",
       "    .dataframe tbody tr th {\n",
       "        vertical-align: top;\n",
       "    }\n",
       "\n",
       "    .dataframe thead th {\n",
       "        text-align: right;\n",
       "    }\n",
       "</style>\n",
       "<table border=\"1\" class=\"dataframe\">\n",
       "  <thead>\n",
       "    <tr style=\"text-align: right;\">\n",
       "      <th></th>\n",
       "      <th>0</th>\n",
       "    </tr>\n",
       "  </thead>\n",
       "  <tbody>\n",
       "    <tr>\n",
       "      <th>0</th>\n",
       "      <td>0.924925</td>\n",
       "    </tr>\n",
       "    <tr>\n",
       "      <th>1</th>\n",
       "      <td>0.682334</td>\n",
       "    </tr>\n",
       "    <tr>\n",
       "      <th>2</th>\n",
       "      <td>0.149404</td>\n",
       "    </tr>\n",
       "    <tr>\n",
       "      <th>3</th>\n",
       "      <td>0.725623</td>\n",
       "    </tr>\n",
       "    <tr>\n",
       "      <th>4</th>\n",
       "      <td>0.532569</td>\n",
       "    </tr>\n",
       "    <tr>\n",
       "      <th>5</th>\n",
       "      <td>0.887934</td>\n",
       "    </tr>\n",
       "    <tr>\n",
       "      <th>6</th>\n",
       "      <td>0.028158</td>\n",
       "    </tr>\n",
       "    <tr>\n",
       "      <th>7</th>\n",
       "      <td>0.503164</td>\n",
       "    </tr>\n",
       "  </tbody>\n",
       "</table>\n",
       "</div>"
      ]
     },
     "execution_count": 127,
     "metadata": {},
     "output_type": "execute_result"
    }
   ],
   "execution_count": 127
  },
  {
   "metadata": {},
   "cell_type": "markdown",
   "source": "Кастомное решение системы",
   "id": "149698700e9d5b13"
  },
  {
   "metadata": {
    "ExecuteTime": {
     "end_time": "2024-05-02T20:08:15.364162Z",
     "start_time": "2024-05-02T20:08:15.353219Z"
    }
   },
   "cell_type": "code",
   "source": [
    "my_sol = solve(A, b)[3]\n",
    "pd.DataFrame(my_sol)"
   ],
   "id": "b24b65017e6f6fb6",
   "outputs": [
    {
     "data": {
      "text/plain": [
       "          0\n",
       "0  0.924925\n",
       "1  0.682334\n",
       "2  0.149404\n",
       "3  0.725623\n",
       "4  0.532569\n",
       "5  0.887934\n",
       "6  0.028158\n",
       "7  0.503164"
      ],
      "text/html": [
       "<div>\n",
       "<style scoped>\n",
       "    .dataframe tbody tr th:only-of-type {\n",
       "        vertical-align: middle;\n",
       "    }\n",
       "\n",
       "    .dataframe tbody tr th {\n",
       "        vertical-align: top;\n",
       "    }\n",
       "\n",
       "    .dataframe thead th {\n",
       "        text-align: right;\n",
       "    }\n",
       "</style>\n",
       "<table border=\"1\" class=\"dataframe\">\n",
       "  <thead>\n",
       "    <tr style=\"text-align: right;\">\n",
       "      <th></th>\n",
       "      <th>0</th>\n",
       "    </tr>\n",
       "  </thead>\n",
       "  <tbody>\n",
       "    <tr>\n",
       "      <th>0</th>\n",
       "      <td>0.924925</td>\n",
       "    </tr>\n",
       "    <tr>\n",
       "      <th>1</th>\n",
       "      <td>0.682334</td>\n",
       "    </tr>\n",
       "    <tr>\n",
       "      <th>2</th>\n",
       "      <td>0.149404</td>\n",
       "    </tr>\n",
       "    <tr>\n",
       "      <th>3</th>\n",
       "      <td>0.725623</td>\n",
       "    </tr>\n",
       "    <tr>\n",
       "      <th>4</th>\n",
       "      <td>0.532569</td>\n",
       "    </tr>\n",
       "    <tr>\n",
       "      <th>5</th>\n",
       "      <td>0.887934</td>\n",
       "    </tr>\n",
       "    <tr>\n",
       "      <th>6</th>\n",
       "      <td>0.028158</td>\n",
       "    </tr>\n",
       "    <tr>\n",
       "      <th>7</th>\n",
       "      <td>0.503164</td>\n",
       "    </tr>\n",
       "  </tbody>\n",
       "</table>\n",
       "</div>"
      ]
     },
     "execution_count": 128,
     "metadata": {},
     "output_type": "execute_result"
    }
   ],
   "execution_count": 128
  },
  {
   "metadata": {},
   "cell_type": "markdown",
   "source": "Норма разности решений",
   "id": "76416b7bba19dbcf"
  },
  {
   "metadata": {
    "ExecuteTime": {
     "end_time": "2024-05-02T20:08:15.572194Z",
     "start_time": "2024-05-02T20:08:15.564156Z"
    }
   },
   "cell_type": "code",
   "source": "np.linalg.norm(np_sol - my_sol)",
   "id": "db844fc16763516",
   "outputs": [
    {
     "data": {
      "text/plain": [
       "3.4964934218771106e-15"
      ]
     },
     "execution_count": 129,
     "metadata": {},
     "output_type": "execute_result"
    }
   ],
   "execution_count": 129
  }
 ],
 "metadata": {
  "kernelspec": {
   "display_name": "Python 3",
   "language": "python",
   "name": "python3"
  },
  "language_info": {
   "codemirror_mode": {
    "name": "ipython",
    "version": 2
   },
   "file_extension": ".py",
   "mimetype": "text/x-python",
   "name": "python",
   "nbconvert_exporter": "python",
   "pygments_lexer": "ipython2",
   "version": "2.7.6"
  }
 },
 "nbformat": 4,
 "nbformat_minor": 5
}
