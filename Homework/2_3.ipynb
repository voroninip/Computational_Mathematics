{
 "cells": [
  {
   "metadata": {},
   "cell_type": "markdown",
   "source": "# Задача 2.3 Метод Холецкого",
   "id": "8ccf43f98c4c880d"
  },
  {
   "metadata": {
    "ExecuteTime": {
     "end_time": "2024-05-02T20:02:14.547261Z",
     "start_time": "2024-05-02T20:02:13.838903Z"
    }
   },
   "cell_type": "code",
   "source": [
    "import math\n",
    "import numpy as np\n",
    "import pandas as pd\n",
    "import warnings\n",
    "warnings.filterwarnings('ignore')\n",
    "\n",
    "\n",
    "def Cholesky_decomposition(A):\n",
    "\tassert np.linalg.eigvals(A).min() > 0  # checks if A is Positive Semidefinite\n",
    "\tn = A.shape[0]\n",
    "\tL = np.zeros((n,n), dtype=np.float64)\n",
    "\tfor i in range(n): \n",
    "\t\tfor j in range(i + 1): \n",
    "\t\t\tsum1 = 0\n",
    "\t\t\tif j == i: \n",
    "\t\t\t\tfor k in range(j):\n",
    "\t\t\t\t\tsum1 += pow(L[j][k], 2)\n",
    "\t\t\t\tL[j][j] = math.sqrt(A[j][j] - sum1)\n",
    "\t\t\telse:\n",
    "\t\t\t\tfor k in range(j):\n",
    "\t\t\t\t\tsum1 += (L[i][k] * L[j][k])\n",
    "\t\t\t\tif L[j][j] > 0:\n",
    "\t\t\t\t\tL[i][j] = (A[i][j] - sum1) / L[j][j]\n",
    "\n",
    "\treturn L\n",
    "\n",
    "\n",
    "def LowerTriangular_solver(L, b):\n",
    "\tassert np.allclose(L, np.tril(L));  # checks if L is Lower Triangular \n",
    "\tn = L.shape[0]\n",
    "\ty = np.zeros(n, dtype=np.float64)\n",
    "\tfor i in range(n):\n",
    "\t\ttmp_sum = 0\n",
    "\t\tfor j in range(i):\n",
    "\t\t\ttmp_sum += L[i][j] * y[j]\n",
    "\t\ty[i] = (b[i] - tmp_sum) / L[i][i]\n",
    "\t\t\n",
    "\treturn y\n",
    "\n",
    "\n",
    "def UpperTriangular_solver(U, y):\n",
    "\tassert np.allclose(U, np.triu(U));  # checks if L is Upper Triangular \n",
    "\treturn LowerTriangular_solver(np.flip(np.flip(U, 1), 0), y[::-1])[::-1]\n",
    "\n",
    "\n",
    "def solve(A, b):\n",
    "\tassert np.allclose(A, A.T)\n",
    "\tn = A.shape[0]\n",
    "\t# A = L @ L.T\n",
    "\tL = Cholesky_decomposition(A)\n",
    "\t# L @ y = b\n",
    "\ty = LowerTriangular_solver(L, b)\n",
    "\t# U @ x = y\n",
    "\tU = L.T\n",
    "\tx = UpperTriangular_solver(U, y)\n",
    "\treturn L, x"
   ],
   "id": "initial_id",
   "outputs": [],
   "execution_count": 1
  },
  {
   "metadata": {},
   "cell_type": "markdown",
   "source": "### Пример из Википедии https://en.wikipedia.org/wiki/Cholesky_decomposition",
   "id": "59f0e3adb8a3f3e7"
  },
  {
   "metadata": {
    "ExecuteTime": {
     "end_time": "2024-05-02T20:02:14.556263Z",
     "start_time": "2024-05-02T20:02:14.549262Z"
    }
   },
   "cell_type": "code",
   "source": [
    "A = np.array([[4, 12, -16],\n",
    "\t\t      [12, 37, -43],\n",
    "\t\t      [-16, -43, 98]])\n",
    "A"
   ],
   "id": "4d20809af8944da0",
   "outputs": [
    {
     "data": {
      "text/plain": [
       "array([[  4,  12, -16],\n",
       "       [ 12,  37, -43],\n",
       "       [-16, -43,  98]])"
      ]
     },
     "execution_count": 2,
     "metadata": {},
     "output_type": "execute_result"
    }
   ],
   "execution_count": 2
  },
  {
   "metadata": {},
   "cell_type": "markdown",
   "source": "Библиотечное разложение Холецкого",
   "id": "3d1219012b1fc741"
  },
  {
   "metadata": {
    "ExecuteTime": {
     "end_time": "2024-05-02T20:02:14.568094Z",
     "start_time": "2024-05-02T20:02:14.557263Z"
    }
   },
   "cell_type": "code",
   "source": "np.linalg.cholesky(A)",
   "id": "8dce4ea272ddd756",
   "outputs": [
    {
     "data": {
      "text/plain": [
       "array([[ 2.,  0.,  0.],\n",
       "       [ 6.,  1.,  0.],\n",
       "       [-8.,  5.,  3.]])"
      ]
     },
     "execution_count": 3,
     "metadata": {},
     "output_type": "execute_result"
    }
   ],
   "execution_count": 3
  },
  {
   "metadata": {},
   "cell_type": "markdown",
   "source": "Кастомное разложение Холецкого",
   "id": "125900c54ef76e4f"
  },
  {
   "metadata": {
    "ExecuteTime": {
     "end_time": "2024-05-02T20:02:14.579124Z",
     "start_time": "2024-05-02T20:02:14.569090Z"
    }
   },
   "cell_type": "code",
   "source": "Cholesky_decomposition(A)",
   "id": "1ca1f3f4f2f96884",
   "outputs": [
    {
     "data": {
      "text/plain": [
       "array([[ 2.,  0.,  0.],\n",
       "       [ 6.,  1.,  0.],\n",
       "       [-8.,  5.,  3.]])"
      ]
     },
     "execution_count": 4,
     "metadata": {},
     "output_type": "execute_result"
    }
   ],
   "execution_count": 4
  },
  {
   "metadata": {
    "ExecuteTime": {
     "end_time": "2024-05-02T20:02:14.591622Z",
     "start_time": "2024-05-02T20:02:14.580118Z"
    }
   },
   "cell_type": "code",
   "source": [
    "x = np.array([[3, 1, 1]]) # искомый вектор-решение\n",
    "# Использую матричное умножение для проверки примера. Это не реализация требуемой функции\n",
    "b = np.dot(A, x.T)\n",
    "pd.DataFrame(b)"
   ],
   "id": "7351c7cef6e3d4d9",
   "outputs": [
    {
     "data": {
      "text/plain": [
       "    0\n",
       "0   8\n",
       "1  30\n",
       "2   7"
      ],
      "text/html": [
       "<div>\n",
       "<style scoped>\n",
       "    .dataframe tbody tr th:only-of-type {\n",
       "        vertical-align: middle;\n",
       "    }\n",
       "\n",
       "    .dataframe tbody tr th {\n",
       "        vertical-align: top;\n",
       "    }\n",
       "\n",
       "    .dataframe thead th {\n",
       "        text-align: right;\n",
       "    }\n",
       "</style>\n",
       "<table border=\"1\" class=\"dataframe\">\n",
       "  <thead>\n",
       "    <tr style=\"text-align: right;\">\n",
       "      <th></th>\n",
       "      <th>0</th>\n",
       "    </tr>\n",
       "  </thead>\n",
       "  <tbody>\n",
       "    <tr>\n",
       "      <th>0</th>\n",
       "      <td>8</td>\n",
       "    </tr>\n",
       "    <tr>\n",
       "      <th>1</th>\n",
       "      <td>30</td>\n",
       "    </tr>\n",
       "    <tr>\n",
       "      <th>2</th>\n",
       "      <td>7</td>\n",
       "    </tr>\n",
       "  </tbody>\n",
       "</table>\n",
       "</div>"
      ]
     },
     "execution_count": 5,
     "metadata": {},
     "output_type": "execute_result"
    }
   ],
   "execution_count": 5
  },
  {
   "metadata": {},
   "cell_type": "markdown",
   "source": "Библиотечное решение системы",
   "id": "1dabe51f1d60d635"
  },
  {
   "metadata": {
    "ExecuteTime": {
     "end_time": "2024-05-02T20:02:14.602629Z",
     "start_time": "2024-05-02T20:02:14.593631Z"
    }
   },
   "cell_type": "code",
   "source": "pd.DataFrame(np.linalg.solve(A, b))",
   "id": "c09dbe7ed2caaa2a",
   "outputs": [
    {
     "data": {
      "text/plain": [
       "     0\n",
       "0  3.0\n",
       "1  1.0\n",
       "2  1.0"
      ],
      "text/html": [
       "<div>\n",
       "<style scoped>\n",
       "    .dataframe tbody tr th:only-of-type {\n",
       "        vertical-align: middle;\n",
       "    }\n",
       "\n",
       "    .dataframe tbody tr th {\n",
       "        vertical-align: top;\n",
       "    }\n",
       "\n",
       "    .dataframe thead th {\n",
       "        text-align: right;\n",
       "    }\n",
       "</style>\n",
       "<table border=\"1\" class=\"dataframe\">\n",
       "  <thead>\n",
       "    <tr style=\"text-align: right;\">\n",
       "      <th></th>\n",
       "      <th>0</th>\n",
       "    </tr>\n",
       "  </thead>\n",
       "  <tbody>\n",
       "    <tr>\n",
       "      <th>0</th>\n",
       "      <td>3.0</td>\n",
       "    </tr>\n",
       "    <tr>\n",
       "      <th>1</th>\n",
       "      <td>1.0</td>\n",
       "    </tr>\n",
       "    <tr>\n",
       "      <th>2</th>\n",
       "      <td>1.0</td>\n",
       "    </tr>\n",
       "  </tbody>\n",
       "</table>\n",
       "</div>"
      ]
     },
     "execution_count": 6,
     "metadata": {},
     "output_type": "execute_result"
    }
   ],
   "execution_count": 6
  },
  {
   "metadata": {},
   "cell_type": "markdown",
   "source": "Кастомное решение системы",
   "id": "829ebb11b27aee04"
  },
  {
   "metadata": {
    "ExecuteTime": {
     "end_time": "2024-05-02T20:02:14.612213Z",
     "start_time": "2024-05-02T20:02:14.603629Z"
    }
   },
   "cell_type": "code",
   "source": "pd.DataFrame(solve(A, b)[1])",
   "id": "6f8fac02ec611a33",
   "outputs": [
    {
     "data": {
      "text/plain": [
       "     0\n",
       "0  3.0\n",
       "1  1.0\n",
       "2  1.0"
      ],
      "text/html": [
       "<div>\n",
       "<style scoped>\n",
       "    .dataframe tbody tr th:only-of-type {\n",
       "        vertical-align: middle;\n",
       "    }\n",
       "\n",
       "    .dataframe tbody tr th {\n",
       "        vertical-align: top;\n",
       "    }\n",
       "\n",
       "    .dataframe thead th {\n",
       "        text-align: right;\n",
       "    }\n",
       "</style>\n",
       "<table border=\"1\" class=\"dataframe\">\n",
       "  <thead>\n",
       "    <tr style=\"text-align: right;\">\n",
       "      <th></th>\n",
       "      <th>0</th>\n",
       "    </tr>\n",
       "  </thead>\n",
       "  <tbody>\n",
       "    <tr>\n",
       "      <th>0</th>\n",
       "      <td>3.0</td>\n",
       "    </tr>\n",
       "    <tr>\n",
       "      <th>1</th>\n",
       "      <td>1.0</td>\n",
       "    </tr>\n",
       "    <tr>\n",
       "      <th>2</th>\n",
       "      <td>1.0</td>\n",
       "    </tr>\n",
       "  </tbody>\n",
       "</table>\n",
       "</div>"
      ]
     },
     "execution_count": 7,
     "metadata": {},
     "output_type": "execute_result"
    }
   ],
   "execution_count": 7
  },
  {
   "metadata": {},
   "cell_type": "markdown",
   "source": "### Теперь генерим положительно определённую матрицу рандомно: $A \\cdot A^\\top$",
   "id": "41c60a649530507"
  },
  {
   "metadata": {
    "ExecuteTime": {
     "end_time": "2024-05-02T20:02:14.633151Z",
     "start_time": "2024-05-02T20:02:14.614182Z"
    }
   },
   "cell_type": "code",
   "source": [
    "n = 5\n",
    "A = np.random.rand(n, n).astype(np.float64)\n",
    "# Использую матричное умножение для проверки примера. Это не реализация требуемой функции\n",
    "A = np.dot(A, A.T)\n",
    "A"
   ],
   "id": "e2e0f02a336347eb",
   "outputs": [
    {
     "data": {
      "text/plain": [
       "array([[3.00122745, 2.46997351, 2.16489758, 1.51654762, 1.78850754],\n",
       "       [2.46997351, 2.71103241, 2.28565905, 1.38786911, 1.65935825],\n",
       "       [2.16489758, 2.28565905, 2.49368623, 1.31515801, 1.12747426],\n",
       "       [1.51654762, 1.38786911, 1.31515801, 1.28742118, 1.11463908],\n",
       "       [1.78850754, 1.65935825, 1.12747426, 1.11463908, 1.48630321]])"
      ]
     },
     "execution_count": 8,
     "metadata": {},
     "output_type": "execute_result"
    }
   ],
   "execution_count": 8
  },
  {
   "metadata": {
    "ExecuteTime": {
     "end_time": "2024-05-02T20:02:14.642403Z",
     "start_time": "2024-05-02T20:02:14.635148Z"
    }
   },
   "cell_type": "code",
   "source": [
    "x = np.random.rand(n).astype(np.float64) # искомый вектор-решение\n",
    "pd.DataFrame(x)"
   ],
   "id": "be3cbe8fb50d7d24",
   "outputs": [
    {
     "data": {
      "text/plain": [
       "          0\n",
       "0  0.516980\n",
       "1  0.441090\n",
       "2  0.759584\n",
       "3  0.901290\n",
       "4  0.640579"
      ],
      "text/html": [
       "<div>\n",
       "<style scoped>\n",
       "    .dataframe tbody tr th:only-of-type {\n",
       "        vertical-align: middle;\n",
       "    }\n",
       "\n",
       "    .dataframe tbody tr th {\n",
       "        vertical-align: top;\n",
       "    }\n",
       "\n",
       "    .dataframe thead th {\n",
       "        text-align: right;\n",
       "    }\n",
       "</style>\n",
       "<table border=\"1\" class=\"dataframe\">\n",
       "  <thead>\n",
       "    <tr style=\"text-align: right;\">\n",
       "      <th></th>\n",
       "      <th>0</th>\n",
       "    </tr>\n",
       "  </thead>\n",
       "  <tbody>\n",
       "    <tr>\n",
       "      <th>0</th>\n",
       "      <td>0.516980</td>\n",
       "    </tr>\n",
       "    <tr>\n",
       "      <th>1</th>\n",
       "      <td>0.441090</td>\n",
       "    </tr>\n",
       "    <tr>\n",
       "      <th>2</th>\n",
       "      <td>0.759584</td>\n",
       "    </tr>\n",
       "    <tr>\n",
       "      <th>3</th>\n",
       "      <td>0.901290</td>\n",
       "    </tr>\n",
       "    <tr>\n",
       "      <th>4</th>\n",
       "      <td>0.640579</td>\n",
       "    </tr>\n",
       "  </tbody>\n",
       "</table>\n",
       "</div>"
      ]
     },
     "execution_count": 9,
     "metadata": {},
     "output_type": "execute_result"
    }
   ],
   "execution_count": 9
  },
  {
   "metadata": {
    "ExecuteTime": {
     "end_time": "2024-05-02T20:02:14.651083Z",
     "start_time": "2024-05-02T20:02:14.643399Z"
    }
   },
   "cell_type": "code",
   "source": [
    "# Использую матричное умножение для проверки примера. Это не реализация требуемой функции\n",
    "b = np.dot(A, x)\n",
    "pd.DataFrame(b)"
   ],
   "id": "4f676499b059484b",
   "outputs": [
    {
     "data": {
      "text/plain": [
       "          0\n",
       "0  6.798009\n",
       "1  6.522711\n",
       "2  5.929131\n",
       "3  4.269528\n",
       "4  4.469670"
      ],
      "text/html": [
       "<div>\n",
       "<style scoped>\n",
       "    .dataframe tbody tr th:only-of-type {\n",
       "        vertical-align: middle;\n",
       "    }\n",
       "\n",
       "    .dataframe tbody tr th {\n",
       "        vertical-align: top;\n",
       "    }\n",
       "\n",
       "    .dataframe thead th {\n",
       "        text-align: right;\n",
       "    }\n",
       "</style>\n",
       "<table border=\"1\" class=\"dataframe\">\n",
       "  <thead>\n",
       "    <tr style=\"text-align: right;\">\n",
       "      <th></th>\n",
       "      <th>0</th>\n",
       "    </tr>\n",
       "  </thead>\n",
       "  <tbody>\n",
       "    <tr>\n",
       "      <th>0</th>\n",
       "      <td>6.798009</td>\n",
       "    </tr>\n",
       "    <tr>\n",
       "      <th>1</th>\n",
       "      <td>6.522711</td>\n",
       "    </tr>\n",
       "    <tr>\n",
       "      <th>2</th>\n",
       "      <td>5.929131</td>\n",
       "    </tr>\n",
       "    <tr>\n",
       "      <th>3</th>\n",
       "      <td>4.269528</td>\n",
       "    </tr>\n",
       "    <tr>\n",
       "      <th>4</th>\n",
       "      <td>4.469670</td>\n",
       "    </tr>\n",
       "  </tbody>\n",
       "</table>\n",
       "</div>"
      ]
     },
     "execution_count": 10,
     "metadata": {},
     "output_type": "execute_result"
    }
   ],
   "execution_count": 10
  },
  {
   "metadata": {},
   "cell_type": "markdown",
   "source": "Библиотечное разложение Холецкого",
   "id": "21035f0ba88d6004"
  },
  {
   "metadata": {
    "ExecuteTime": {
     "end_time": "2024-05-02T20:02:14.659183Z",
     "start_time": "2024-05-02T20:02:14.653082Z"
    }
   },
   "cell_type": "code",
   "source": [
    "npL = np.linalg.cholesky(A)\n",
    "npL"
   ],
   "id": "9bdbb2bafe71b7ee",
   "outputs": [
    {
     "data": {
      "text/plain": [
       "array([[ 1.73240511,  0.        ,  0.        ,  0.        ,  0.        ],\n",
       "       [ 1.42574823,  0.82357416,  0.        ,  0.        ,  0.        ],\n",
       "       [ 1.24964858,  0.61193616,  0.74672539,  0.        ,  0.        ],\n",
       "       [ 0.87540011,  0.16971022,  0.15717114,  0.68380662,  0.        ],\n",
       "       [ 1.03238413,  0.22759141, -0.404318  ,  0.34485251,  0.29375511]])"
      ]
     },
     "execution_count": 11,
     "metadata": {},
     "output_type": "execute_result"
    }
   ],
   "execution_count": 11
  },
  {
   "metadata": {},
   "cell_type": "markdown",
   "source": "Кастомное разложение Холецкого",
   "id": "fdadcb18a037b592"
  },
  {
   "metadata": {
    "ExecuteTime": {
     "end_time": "2024-05-02T20:02:14.668177Z",
     "start_time": "2024-05-02T20:02:14.660178Z"
    }
   },
   "cell_type": "code",
   "source": [
    "my_L = Cholesky_decomposition(A)\n",
    "my_L"
   ],
   "id": "8232ad675232485",
   "outputs": [
    {
     "data": {
      "text/plain": [
       "array([[ 1.73240511,  0.        ,  0.        ,  0.        ,  0.        ],\n",
       "       [ 1.42574823,  0.82357416,  0.        ,  0.        ,  0.        ],\n",
       "       [ 1.24964858,  0.61193616,  0.74672539,  0.        ,  0.        ],\n",
       "       [ 0.87540011,  0.16971022,  0.15717114,  0.68380662,  0.        ],\n",
       "       [ 1.03238413,  0.22759141, -0.404318  ,  0.34485251,  0.29375511]])"
      ]
     },
     "execution_count": 12,
     "metadata": {},
     "output_type": "execute_result"
    }
   ],
   "execution_count": 12
  },
  {
   "metadata": {},
   "cell_type": "markdown",
   "source": "Норма разности разложений Холецкого",
   "id": "ffc71bcac5ee0f22"
  },
  {
   "metadata": {
    "ExecuteTime": {
     "end_time": "2024-05-02T20:02:14.674729Z",
     "start_time": "2024-05-02T20:02:14.669176Z"
    }
   },
   "cell_type": "code",
   "source": "np.linalg.norm(npL - my_L)",
   "id": "5af2fb5c2d69aff9",
   "outputs": [
    {
     "data": {
      "text/plain": [
       "7.178989156685113e-16"
      ]
     },
     "execution_count": 13,
     "metadata": {},
     "output_type": "execute_result"
    }
   ],
   "execution_count": 13
  },
  {
   "metadata": {},
   "cell_type": "markdown",
   "source": "Библиотечное решение системы",
   "id": "2d25a6191793e418"
  },
  {
   "metadata": {
    "ExecuteTime": {
     "end_time": "2024-05-02T20:02:14.685040Z",
     "start_time": "2024-05-02T20:02:14.676730Z"
    }
   },
   "cell_type": "code",
   "source": [
    "np_sol = np.linalg.solve(A, b)\n",
    "pd.DataFrame(np_sol)"
   ],
   "id": "fdc9ba759bb451af",
   "outputs": [
    {
     "data": {
      "text/plain": [
       "          0\n",
       "0  0.516980\n",
       "1  0.441090\n",
       "2  0.759584\n",
       "3  0.901290\n",
       "4  0.640579"
      ],
      "text/html": [
       "<div>\n",
       "<style scoped>\n",
       "    .dataframe tbody tr th:only-of-type {\n",
       "        vertical-align: middle;\n",
       "    }\n",
       "\n",
       "    .dataframe tbody tr th {\n",
       "        vertical-align: top;\n",
       "    }\n",
       "\n",
       "    .dataframe thead th {\n",
       "        text-align: right;\n",
       "    }\n",
       "</style>\n",
       "<table border=\"1\" class=\"dataframe\">\n",
       "  <thead>\n",
       "    <tr style=\"text-align: right;\">\n",
       "      <th></th>\n",
       "      <th>0</th>\n",
       "    </tr>\n",
       "  </thead>\n",
       "  <tbody>\n",
       "    <tr>\n",
       "      <th>0</th>\n",
       "      <td>0.516980</td>\n",
       "    </tr>\n",
       "    <tr>\n",
       "      <th>1</th>\n",
       "      <td>0.441090</td>\n",
       "    </tr>\n",
       "    <tr>\n",
       "      <th>2</th>\n",
       "      <td>0.759584</td>\n",
       "    </tr>\n",
       "    <tr>\n",
       "      <th>3</th>\n",
       "      <td>0.901290</td>\n",
       "    </tr>\n",
       "    <tr>\n",
       "      <th>4</th>\n",
       "      <td>0.640579</td>\n",
       "    </tr>\n",
       "  </tbody>\n",
       "</table>\n",
       "</div>"
      ]
     },
     "execution_count": 14,
     "metadata": {},
     "output_type": "execute_result"
    }
   ],
   "execution_count": 14
  },
  {
   "metadata": {},
   "cell_type": "markdown",
   "source": "Кастомное решение системы",
   "id": "aa5e9e251802528"
  },
  {
   "metadata": {
    "ExecuteTime": {
     "end_time": "2024-05-02T20:02:14.697155Z",
     "start_time": "2024-05-02T20:02:14.687036Z"
    }
   },
   "cell_type": "code",
   "source": [
    "my_sol = solve(A, b)[1]\n",
    "pd.DataFrame(my_sol)"
   ],
   "id": "bbcb77a3c5c71a30",
   "outputs": [
    {
     "data": {
      "text/plain": [
       "          0\n",
       "0  0.516980\n",
       "1  0.441090\n",
       "2  0.759584\n",
       "3  0.901290\n",
       "4  0.640579"
      ],
      "text/html": [
       "<div>\n",
       "<style scoped>\n",
       "    .dataframe tbody tr th:only-of-type {\n",
       "        vertical-align: middle;\n",
       "    }\n",
       "\n",
       "    .dataframe tbody tr th {\n",
       "        vertical-align: top;\n",
       "    }\n",
       "\n",
       "    .dataframe thead th {\n",
       "        text-align: right;\n",
       "    }\n",
       "</style>\n",
       "<table border=\"1\" class=\"dataframe\">\n",
       "  <thead>\n",
       "    <tr style=\"text-align: right;\">\n",
       "      <th></th>\n",
       "      <th>0</th>\n",
       "    </tr>\n",
       "  </thead>\n",
       "  <tbody>\n",
       "    <tr>\n",
       "      <th>0</th>\n",
       "      <td>0.516980</td>\n",
       "    </tr>\n",
       "    <tr>\n",
       "      <th>1</th>\n",
       "      <td>0.441090</td>\n",
       "    </tr>\n",
       "    <tr>\n",
       "      <th>2</th>\n",
       "      <td>0.759584</td>\n",
       "    </tr>\n",
       "    <tr>\n",
       "      <th>3</th>\n",
       "      <td>0.901290</td>\n",
       "    </tr>\n",
       "    <tr>\n",
       "      <th>4</th>\n",
       "      <td>0.640579</td>\n",
       "    </tr>\n",
       "  </tbody>\n",
       "</table>\n",
       "</div>"
      ]
     },
     "execution_count": 15,
     "metadata": {},
     "output_type": "execute_result"
    }
   ],
   "execution_count": 15
  },
  {
   "metadata": {},
   "cell_type": "markdown",
   "source": "Норма разности решений",
   "id": "71e6463b1f9a45be"
  },
  {
   "metadata": {
    "ExecuteTime": {
     "end_time": "2024-05-02T20:02:14.703399Z",
     "start_time": "2024-05-02T20:02:14.698152Z"
    }
   },
   "cell_type": "code",
   "source": "np.linalg.norm(np_sol - my_sol)",
   "id": "1a10fc697ca59149",
   "outputs": [
    {
     "data": {
      "text/plain": [
       "4.030965858799381e-15"
      ]
     },
     "execution_count": 16,
     "metadata": {},
     "output_type": "execute_result"
    }
   ],
   "execution_count": 16
  }
 ],
 "metadata": {
  "kernelspec": {
   "display_name": "Python 3",
   "language": "python",
   "name": "python3"
  },
  "language_info": {
   "codemirror_mode": {
    "name": "ipython",
    "version": 2
   },
   "file_extension": ".py",
   "mimetype": "text/x-python",
   "name": "python",
   "nbconvert_exporter": "python",
   "pygments_lexer": "ipython2",
   "version": "2.7.6"
  }
 },
 "nbformat": 4,
 "nbformat_minor": 5
}
