{
 "cells": [
  {
   "cell_type": "markdown",
   "metadata": {},
   "source": [
    "# Численное дифференцирование\n",
    "\n",
    "**Задача 1**   \n",
    "Методом неопределенных коэффициентов вывести формулу максимального порядка для вычисления 1-й производной $f$ в точке $x$ по точкам $x, x+h, x+2h$. Найти \n",
    "1. порядок аппроксимации формулы \n",
    "2. главный член ошибки \n",
    "3. оптимальный шаг $h$\n",
    "\n",
    "**Задача 2**  \n",
    "Используя готовый код для формулы 1-го порядка в следующей ячейке \n",
    "\n",
    "Постройте на том же рисунке график убывания ошибки для выведенной в задаче 1 формулы. Убедитесь, что экспериментальный порядок совпадает с теоретическим, и что ошибка убывает быстрее, чем в формуле 1-го порядке. Сравните экспериментальный оптимальный шаг с теоретическим.\n",
    "\n",
    "**Задача 3**  \n",
    "Измените конечно-разностную формулу, вычтя главный член ошибки (нужную производную в точке возьмите для конкретной функций).\n",
    "\n",
    "Постройте график сходимости на том же рисунке, убедитесь, что порядок аппроксимации увеличится."
   ]
  },
  {
   "cell_type": "code",
   "execution_count": 1,
   "metadata": {},
   "outputs": [
    {
     "data": {
      "image/png": "[encoded data removed]",
      "text/plain": [
       "<Figure size 432x288 with 1 Axes>"
      ]
     },
     "metadata": {
      "needs_background": "light"
     },
     "output_type": "display_data"
    }
   ],
   "source": [
    "%matplotlib inline\n",
    "import numpy as np\n",
    "from matplotlib import pyplot as plt\n",
    "\n",
    "f = lambda x : np.sin(x)\n",
    "df = lambda x : np.cos(x)\n",
    "x0 = 0.1\n",
    "n = 30\n",
    "h = np.zeros(n)\n",
    "err = np.zeros(n)\n",
    "for i in range(n):\n",
    "    h[i] = 2**(-i)\n",
    "    df_num = (f(x0 + h[i]) - f(x0)) / h[i]\n",
    "    err[i] = np.abs(df_num - df(x0))\n",
    "fig, ax = plt.subplots()\n",
    "ax.loglog(h,err)\n",
    "ax.grid(True)"
   ]
  },
  {
   "cell_type": "markdown",
   "metadata": {},
   "source": [
    "**Задача 4**  (2 балла)  \n",
    "Для равномерной сетки $x_1, \\ldots, x_n$ составьте матрицу $D$ размера $n\\times n$ такую, чтобы \n",
    "$$D f = d$$\n",
    "где $f = [f(x_1), \\ldots, f(x_n)]$ , а вектор $d \\approx [f'(x_1), \\ldots, f'(x_n)]$. Для этого используйте для производных в крайних узлах $x_1$ и $x_n$ односторонние формулы из задачи 1, а для внутренних узлов симметричную формулу \n",
    "$$f'(x) = \\frac{f(x+h) - f(x-h)}{2h} + O(h^2)$$\n",
    "* Запрограммируйте заполнение матрицы, исследуйте на значениях гладкой функции, как убывает $\\infty$-норма ошибки $\\vec{d} - \\vec{f'}$.\n",
    "* Убедитесь, что $D^2 f$ есть вектор приближенных значений 2-й производной в узлах. Какой порядок аппроксимации в этом случае? Объясните, почему."
   ]
  },
  {
   "cell_type": "markdown",
   "metadata": {},
   "source": [
    "# Численное интегрирование\n",
    "$$\n",
    "I = \\int_{a}^{b} f(x) \\, dx \\approx S(f) = \\sum_{k=1}^n d_k f(x_k)\n",
    "$$\n",
    "\n",
    "**Задача 1**  \n",
    "Получите веса квадратурной формулы Симпсона - интерполяционной формулы, которая получается при замене $f$ многочленом 2-й степени по точкам $a, (a+b)/2, b$. Для упрощения выкладок можно взять отрезок $[-1, 1]$\n",
    "\n",
    "**Задача 2**  \n",
    "Получите оценку ошибки для формулы Симпсона, используя разложение $f$ в ряд Тейлора относительно середины отрезка $(b+a)/2$\n",
    "\n",
    "**Задача 3** (2 балла)\n",
    "* Используя код в следующей ячейке, постройте такой же график для составной формулы Симпсона (когда на каждом маленьком отрезке используется обычная формула Симпсона). Убедитесь, что порядок совпадает с теоретическим.  \n",
    "* Запрограммируйте оценку ошибки по правилу Рунге и справните с точным значением ошибки."
   ]
  },
  {
   "cell_type": "code",
   "execution_count": 4,
   "metadata": {},
   "outputs": [
    {
     "name": "stdout",
     "output_type": "stream",
     "text": [
      "1.212363542890671e-12\n"
     ]
    },
    {
     "data": {
      "image/png": "[encoded data removed]",
      "text/plain": [
       "<matplotlib.figure.Figure at 0x9e3dc18>"
      ]
     },
     "metadata": {},
     "output_type": "display_data"
    }
   ],
   "source": [
    "f = lambda x: 1/(1 + x**2)\n",
    "I_ex = np.pi/2 \n",
    "N = 20\n",
    "err = np.zeros(N)\n",
    "h = 2/2**np.arange(N)\n",
    "n = 2**np.arange(N)\n",
    "for k in range(N):\n",
    "    x = np.linspace(-1, 1, n[k] + 1)\n",
    "    fval = f(x)\n",
    "    # Измените эту формулу:\n",
    "    I_tr = h[k] * (np.sum(fval) - 0.5*(fval[0] + fval[-1]))\n",
    "    err[k] = np.abs(I_tr - I_ex)\n",
    "fig, ax = plt.subplots()\n",
    "plt.loglog(h, err, 'ko', label = 'Error')\n",
    "plt.loglog(h, err[-1]*(h/h[-1])**2, 'r-', label = '2nd order')\n",
    "plt.legend()\n",
    "plt.grid(True)\n",
    "print(err[-1])"
   ]
  },
  {
   "cell_type": "markdown",
   "metadata": {},
   "source": [
    "## Квадратуры Гаусса\n",
    "\n",
    "**Задача 4**  (1 балл)  \n",
    "Докажите, что все веса в квадратурной формуле Гаусса положительны.\n",
    "\n",
    "**Задача 5**  (1 балл)  \n",
    "Найдите узлы и веса квадратурной формулы Гаусса для числа узлов $n=3$. Напишите программу для вычисления интеграла по этой формуле."
   ]
  }
 ],
 "metadata": {
  "kernelspec": {
   "display_name": "Python 3",
   "language": "python",
   "name": "python3"
  },
  "language_info": {
   "codemirror_mode": {
    "name": "ipython",
    "version": 3
   },
   "file_extension": ".py",
   "mimetype": "text/x-python",
   "name": "python",
   "nbconvert_exporter": "python",
   "pygments_lexer": "ipython3",
   "version": "3.8.8"
  }
 },
 "nbformat": 4,
 "nbformat_minor": 2
}
