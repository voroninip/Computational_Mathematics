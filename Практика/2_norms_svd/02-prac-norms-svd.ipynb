{
 "cells": [
  {
   "cell_type": "markdown",
   "metadata": {},
   "source": [
    "**Задача 1**  \n",
    "Пусть $\\Vert x\\Vert$ - векторная норма в $\\mathbb{C}^n$, $A \\in \\mathbb{C}^n$ - невырожденная матрица. Докажите, что $\\Vert x\\Vert_{*} = \\Vert A x\\Vert$  также является векторной нормой.\n"
   ]
  },
  {
   "cell_type": "markdown",
   "metadata": {},
   "source": [
    "**Задача 2**  \n",
    "Проверьте, является ли выражение $\\min (|x_1| + 5|x_2|, 5 |x_1| + |x_2|)$ нормой вектора в $\\mathbb{R}^2$?"
   ]
  },
  {
   "cell_type": "markdown",
   "metadata": {
    "slideshow": {
     "slide_type": "slide"
    }
   },
   "source": [
    "**Задача 3**  \n",
    "Выведите выражения для $||A||_1$ и $||A||_\\infty$ через элементы матриц.  \n",
    "*Подсказка: используя определение операторной нормы, получите оценку сверху для отношения, по которому берётся $\\max$, а потом подберите элемент $x$ на котором оценка достигается.*"
   ]
  },
  {
   "cell_type": "markdown",
   "metadata": {},
   "source": [
    "**Задача 4**  \n",
    "Докажите, что \n",
    "$$\n",
    "||A^T A||_1 \\le ||A||_1 \\; ||A||_\\infty\n",
    "$$"
   ]
  },
  {
   "cell_type": "markdown",
   "metadata": {},
   "source": [
    "**Задача 5**  \n",
    "Приведите пример векторной нормы в пространстве матриц одинакового размера, которая не является матричной нормой."
   ]
  },
  {
   "cell_type": "markdown",
   "metadata": {},
   "source": [
    "**Задача 6**  \n",
    "Докажите, что для любой эрмитовой матрицы $H$ матрица $Q = (I - i H)^{-1} (I + i H)$ будет унитарной."
   ]
  },
  {
   "cell_type": "markdown",
   "metadata": {},
   "source": [
    "**Задача 7**  \n",
    "Используя сингулярное разложение, докажите, что $\\Vert A \\Vert_2 = \\sigma_{max}$."
   ]
  },
  {
   "cell_type": "markdown",
   "metadata": {},
   "source": [
    "**Задача 8**  \n",
    "$A = U \\Sigma V^T$ - сингулярное разложение невырожденной матрицы $A \\in \\mathbb{R}^{n \\times n}$. Выпишите сингулярное разложение $A^{-1}$."
   ]
  },
  {
   "cell_type": "markdown",
   "metadata": {},
   "source": [
    "**Задача 9**  \n",
    "\n",
    "0. Изучите код в следующем окне\n",
    "1. Создайте в цикле несколько случайных матриц, напечатайте нормы 1,2 и $\\infty$ для этих матриц, а также напечатайте максимальный модуль собственного числа (спектральный радиус) созданных матриц. Как он соотносится с нормами матриц?   \n",
    "Докажите, что так будет всегда."
   ]
  },
  {
   "cell_type": "code",
   "execution_count": 7,
   "metadata": {
    "slideshow": {
     "slide_type": "slide"
    }
   },
   "outputs": [
    {
     "name": "stdout",
     "output_type": "stream",
     "text": [
      "type(a1[0]) =  <class 'numpy.int32'>\n",
      "type(a2[0]) =  <class 'numpy.float64'>\n",
      "type(a3[0]) =  <class 'numpy.float64'>\n",
      "A = \n",
      " [[0.81614147 0.02438865 0.55658806]\n",
      " [0.91808722 0.59803659 0.10805558]\n",
      " [0.30096964 0.98200693 0.212489  ]]\n",
      "A2 = \n",
      " [[1 2 3]\n",
      " [4 5 6]]\n",
      "A2[:,1] =  [2 5]\n",
      "x - y =  [ 1.11022302e-16 -2.22044605e-16 -2.22044605e-16]\n",
      "l =  [1.48311637+0.j         0.07177535+0.52393445j 0.07177535-0.52393445j]\n",
      "||A||_1 =  2.035198335973652\n"
     ]
    }
   ],
   "source": [
    "%matplotlib inline \n",
    "import numpy as np\n",
    "\n",
    "n = 10\n",
    "a1 = np.array([0,1,2,3]) # так можно создать массив по списку\n",
    "print('type(a1[0]) = ', type(a1[0])) # Обратите внимание на тип\n",
    "a2 = np.array([0.0,1,2,3]) # Один из элементов - float\n",
    "print('type(a2[0]) = ', type(a2[0])) # Обратите внимание на тип\n",
    "\n",
    "a3 = np.zeros((10)) # np.zeros() и np.ones() по умолчанию имеют тип float64\n",
    "print('type(a3[0]) = ', type(a3[0])) # Обратите внимание на тип\n",
    "\n",
    "A = np.zeros((3,3)) # Так можно создать 2D массив из нулей\n",
    "A = np.random.rand(3,3) # Случайный массив\n",
    "print('A = \\n', A)\n",
    "\n",
    "A2 = np.array([[1,2,3], [4,5,6]])\n",
    "print('A2 = \\n', A2)\n",
    "# Второй столбец матрицы A2\n",
    "print('A2[:,1] = ', A2[:,1])\n",
    "\n",
    "x = np.ones(3)\n",
    "b = A @ x # @ - матрично-векторное умножение\n",
    "b = np.dot(A,x) # матрично-векторное умножение\n",
    "y = np.linalg.solve(A,b) # решаем линейную систему\n",
    "print('x - y = ', x-y)\n",
    "\n",
    "l = np.linalg.eigvals(A) # Вычисляются собственные числа\n",
    "print('l = ', l)\n",
    "A_1 = np.linalg.norm(A,1)\n",
    "print('||A||_1 = ', A_1)\n",
    "# ?np.linalg.solve # так можно вывести документацию для функции\n",
    "Ainv = np.linalg.inv(A) # Обратная матрица\n",
    "AT = A.T # Транспонирование"
   ]
  },
  {
   "cell_type": "markdown",
   "metadata": {},
   "source": [
    "**Задача 10**  \n",
    "\n",
    "Для любой матрицы $A \\in \\mathbb{C}^{m \\times n}$ введем понятие *псевдо-обратной матрицы* $A^+$. Псевдо-обратная матрица должна удовлетворять следующим условиям:\n",
    "\n",
    "1. $A A^+ A = A$\n",
    "2. $A^+ A A^+ = A^+$\n",
    "3. $(A A^+)^* = A A^+$\n",
    "4. $(A^+ A)^* = A^+ A$\n",
    "\n",
    "Выведите формулу для $A^+$ через факторы сингулярного разложения матрицы $A$"
   ]
  },
  {
   "cell_type": "markdown",
   "metadata": {},
   "source": [
    "**Задача 11**  \n",
    "Докажите, что \n",
    "$$\n",
    "\\Vert A \\Vert_F = \\sqrt{trace(A^* A)} = \\sqrt{\\sum_{k=1}^{\\min\\{m,n\\}} \\sigma_k^2(A)}\n",
    "$$"
   ]
  },
  {
   "cell_type": "code",
   "execution_count": 29,
   "metadata": {},
   "outputs": [
    {
     "name": "stdout",
     "output_type": "stream",
     "text": [
      "number of images =  1288\n"
     ]
    },
    {
     "data": {
      "text/plain": [
       "<matplotlib.image.AxesImage at 0x20bcb1ed550>"
      ]
     },
     "execution_count": 29,
     "metadata": {},
     "output_type": "execute_result"
    },
    {
     "data": {
      "image/png": "[encoded data removed]",
      "text/plain": [
       "<Figure size 720x288 with 2 Axes>"
      ]
     },
     "metadata": {
      "needs_background": "light"
     },
     "output_type": "display_data"
    }
   ],
   "source": [
    "from sklearn.datasets import fetch_lfw_people\n",
    "from matplotlib import pyplot as plt\n",
    "\n",
    "# Реализуйте методы класса\n",
    "class My_PCA:\n",
    "    def __init__(self, A, r):\n",
    "        pass\n",
    "    \n",
    "    def forward_map(self, x):\n",
    "        pass\n",
    "    \n",
    "    def backward_map(self, y):\n",
    "        pass\n",
    "        \n",
    "\n",
    "# Скачивается несколько минут, запустите заранее!\n",
    "# Если будут проблемы со скачиванием на комп в аудитории, то попробуйте в Google Colab\n",
    "lfw_people = fetch_lfw_people(min_faces_per_person=70)\n",
    "\n",
    "print('number of images = ', len(lfw_people['data']))\n",
    "\n",
    "# размер картинки\n",
    "im_shape = (62, 47)\n",
    "\n",
    "image = lfw_people['data'][20]\n",
    "\n",
    "    \n",
    "image = np.reshape(image, im_shape)\n",
    "fig, (ax1, ax2) = plt.subplots(1, 2, figsize = (10, 4))\n",
    "ax1.imshow(image, cmap='gray')\n",
    "\n",
    "# TODO: add your PCA and plot the compressed picture in ax2"
   ]
  },
  {
   "cell_type": "markdown",
   "metadata": {
    "slideshow": {
     "slide_type": "slide"
    }
   },
   "source": [
    "**Задача 13 (1 балл)**  \n",
    "Вычислите приближенно интеграл от функции $f(x,y)$ по прямоугольнику $P = [x_l,x_r]\\times[y_l,y_r]$ с помощью SVD. Используйте заготовку кода в следующем окне.\n",
    "1. Интеграл примерно равен \n",
    "$$\\iint_{P} f(x,y)\\; dx \\, dy \\approx \\sum_{i,j} f(x_i,y_j) dx dy$$\n",
    "где  $(x_i,y_j)$ - **центры** прямоугольников со сторонами $dx,dy$, на которые разбита область\n",
    "\n",
    "2. Создайте 2D массив (матрицу) $A$, заполненную значениями функции в этих точках\n",
    "\n",
    "3. Найдите \"обрезанное\" SVD матрицы $A$ до заданной точности $tol \\approx 10^{-3}$  или до заданного ранга $r$\n",
    "\n",
    "4. Вычислите интеграл как $dx dy\\sum_{i,j} A_r(i,j)$, но не вычисляя элементы матрицы $A_r$, а используя матрицы из \"обрезанного\" SVD (*используйте формулу для элементов $A_r(i,j)$ через элементы матриц $U,V$, просуммируйте по всем $i,j$, упростите полученное выражение*)\n",
    "\n",
    "5. Придумайте функцию, для которой интеграл можно вычислить аналитически, постройте график зависимости ошибки в значении интеграла от ранга $r$ приближенной матрицы в логарифмической шкале."
   ]
  },
  {
   "cell_type": "code",
   "execution_count": 6,
   "metadata": {
    "slideshow": {
     "slide_type": "slide"
    }
   },
   "outputs": [
    {
     "name": "stdout",
     "output_type": "stream",
     "text": [
      "Shapes: (6, 6) (3,) (3, 3)\n",
      "[[0.  0.5 1. ]\n",
      " [0.  0.5 1. ]\n",
      " [0.  0.5 1. ]\n",
      " [0.  0.5 1. ]\n",
      " [0.  0.5 1. ]\n",
      " [0.  0.5 1. ]]\n",
      "[[0.  0.  0. ]\n",
      " [0.2 0.2 0.2]\n",
      " [0.4 0.4 0.4]\n",
      " [0.6 0.6 0.6]\n",
      " [0.8 0.8 0.8]\n",
      " [1.  1.  1. ]]\n"
     ]
    }
   ],
   "source": [
    "%matplotlib inline\n",
    "import numpy as np\n",
    "from matplotlib import pyplot as plt\n",
    "\n",
    "A = np.random.rand(6,3)\n",
    "u, s, v = np.linalg.svd(A) # Так вычисляется SVD, V - это V^* в наших обозначениях\n",
    "print('Shapes:', u.shape, s.shape, v.shape) # s - не матрица, а вектор!\n",
    "# Так можно построить декартову сетку:\n",
    "tx = np.linspace(0, 1, 3) # Узлы по x\n",
    "ty = np.linspace(0, 1, 6) # узлы по y\n",
    "X, Y = np.meshgrid(tx, ty) # X,Y - 2D массивы\n",
    "print(X)\n",
    "print(Y)\n",
    "f = np.sin(X**2 + Y**2) # Массив значений функции на сетке\n",
    "\n"
   ]
  }
 ],
 "metadata": {
  "anaconda-cloud": {},
  "celltoolbar": "Slideshow",
  "kernelspec": {
   "display_name": "Python 3 (ipykernel)",
   "language": "python",
   "name": "python3"
  },
  "language_info": {
   "codemirror_mode": {
    "name": "ipython",
    "version": 3
   },
   "file_extension": ".py",
   "mimetype": "text/x-python",
   "name": "python",
   "nbconvert_exporter": "python",
   "pygments_lexer": "ipython3",
   "version": "3.9.13"
  },
  "livereveal": {
   "start_slideshow_at": "selected",
   "theme": "white",
   "transition": "zoom"
  }
 },
 "nbformat": 4,
 "nbformat_minor": 2
}
