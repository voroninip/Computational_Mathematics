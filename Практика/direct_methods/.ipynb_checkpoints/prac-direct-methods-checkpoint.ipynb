{
 "cells": [
  {
   "cell_type": "markdown",
   "metadata": {},
   "source": [
    "**Задача 1**  \n",
    "\n",
    "Для матрицы\n",
    "$$\n",
    "A = \\begin{bmatrix}\n",
    "1 & 2 & 1 \\\\\n",
    "2 & 2 & 4 \\\\\n",
    "1 &-4 & 4\n",
    "\\end{bmatrix}\n",
    "$$\n",
    "Вычислите (руками) 3 разложения:\n",
    "\n",
    "1. LU разложение без выбора главного элемента (получите $L$ и $U$)\n",
    "2. LU разложение с выбором г.э. по столбцу ($L$, $U$, $P$)\n",
    "3. LU разложение с выбором г.э. по строке ($L$, $U$, $Q$ : $A Q = L U$)\n",
    "\n",
    "создайте с помощью ```numpy``` все матрицы, и проверьте, что разложения вычислены правильно."
   ]
  },
  {
   "cell_type": "markdown",
   "metadata": {},
   "source": [
    "**Задача 2**  \n",
    "Докажите, что при выборе главного элемента по столбцу в $LU$-разложении, все элементы матрицы $L$ по модулю $\\le 1$."
   ]
  },
  {
   "cell_type": "markdown",
   "metadata": {},
   "source": [
    "**Задача 3**  \n",
    "Придумайте, как вычислить $det(A)$, используя $LU$ разложение."
   ]
  },
  {
   "cell_type": "markdown",
   "metadata": {},
   "source": [
    "**Задача 4**  \n",
    "Докажите, что для квадратной матрицы $A$ ранга $k < n$ после $k$ шагов при вычислении $LU$ разложения с выбором ведущего элемента по всей подматрице в точной арифметике получится матрица $U$, у которой строки $k+1, \\ldots, n$ нулевые."
   ]
  },
  {
   "cell_type": "markdown",
   "metadata": {},
   "source": [
    "**Задача 5**  \n",
    "Напишите функцию для решения линейной системы с треугольной матрицей. Протестируйте её на произвольной треугольной матрице."
   ]
  },
  {
   "cell_type": "code",
   "execution_count": 39,
   "metadata": {},
   "outputs": [
    {
     "name": "stdout",
     "output_type": "stream",
     "text": [
      "Норма разницы =  1\n"
     ]
    }
   ],
   "source": [
    "import numpy as np\n",
    "\n",
    "def my_solve_triang(T, b, flag):\n",
    "    '''Solve system with triangular matrix\n",
    "    T - matrix\n",
    "    b - right-had side\n",
    "    flag = 'l' (lower) or 'u' (upper)\n",
    "    '''\n",
    "    n = b.shape[0] # size of system\n",
    "    '''\n",
    "    Ваш код здесь\n",
    "    '''\n",
    "    \n",
    "# Для тестирования\n",
    "n = 10\n",
    "# Создаём случайную треугольную матрицу\n",
    "A = np.zeros((n,n))\n",
    "for i in range(n):\n",
    "    for j in range(i+1):\n",
    "        A[i,j] = np.random.rand()\n",
    "b = np.ones(n)\n",
    "\n",
    "# Решаем с помощью функции из numpy\n",
    "x_numpy = np.linalg.solve(A, b)\n",
    "\n",
    "# Решаем с помощью своей функции, печатаем норму разницы\n",
    "\n",
    "x_my = np.zeros(n) # Подставьте вызов функции\n",
    "print('Норма разницы = ', 1) # Подставьте норму разницы"
   ]
  },
  {
   "cell_type": "markdown",
   "metadata": {},
   "source": [
    "**Задача 6**   \n",
    "Напишите функцию для решения линейной системы с помощью готовой функции для $LU$ разложения. \n",
    "1. Изучите документацию функции ```scipy.linalg.lu_factor```\n",
    "2. Примените нужные перестановки к вектору правой части $b$, используя вектор ```piv```\n",
    "3. Решите 2 линейные системы с треугольными матрицами с помощью написанной ранее функции ```my_solve_triang```"
   ]
  },
  {
   "cell_type": "code",
   "execution_count": 40,
   "metadata": {},
   "outputs": [
    {
     "name": "stdout",
     "output_type": "stream",
     "text": [
      "[[0.31434397 0.56991428 0.27086859]\n",
      " [0.         0.51318128 0.35866988]\n",
      " [0.         0.         0.31522862]]\n",
      "[[0.         0.         0.        ]\n",
      " [0.73302764 0.         0.        ]\n",
      " [0.1753336  0.06140832 0.        ]]\n"
     ]
    }
   ],
   "source": [
    "import numpy as np\n",
    "import scipy\n",
    "\n",
    "# Так можно взять нижнетреугольную или верхнетреугольную \n",
    "# часть матрицы\n",
    "A = np.random.rand(3,3)\n",
    "U = np.triu(A, k = 0)\n",
    "L = np.tril(A, k = -1)\n",
    "print(U)\n",
    "print(L)\n",
    "\n",
    "\n",
    "def my_lu_solve(A, b):\n",
    "    # LU decomposition, read documentaion of the function\n",
    "#     lu, piv = scipy.linalg.lu_factor(A)\n",
    "    pass"
   ]
  },
  {
   "cell_type": "markdown",
   "metadata": {},
   "source": [
    "**Задача 7** \n",
    "\n",
    "Напишите функцию для решения линейной системы с использованием готовой функции для QR разложения (изучите функцию ```numpy.linalg.qr```) и функции ```my_solve_triang```. Протестируйте на случайной матрице и правой части."
   ]
  },
  {
   "cell_type": "code",
   "execution_count": 43,
   "metadata": {},
   "outputs": [],
   "source": [
    "def my_qr_solve(A, b):\n",
    "    '''\n",
    "    Your code here\n",
    "    '''\n",
    "    pass"
   ]
  },
  {
   "cell_type": "markdown",
   "metadata": {},
   "source": [
    "**Задача 8** (связь LU разложения с разложением Холецкого) \n",
    "1. Создайте случайную матрицу $A = A^T > 0$ с сильным диагональным преобладанием (*например, $A = B^T B + с I$, где $B$ - случайная матрица из ```numpy.random.rand()```*, $c$ - большое число)\n",
    "2. Вычислите $LU$-разложение с помощью готовой функции. Убедитесь, что перестановок не потребовалось (для этого и нужно было диагональное преобладание)\n",
    "3. Получите из $LU$ разложения матрицу $C$ разложения Холецкого для $A$\n",
    "4. Вычислите разложение Холецкого матрицы $A$ с помощью готовой функции (```numpy.linalg.cholesky``` или ```scipy.linalg.cholesky```). Сравните эту матрицу с полученной ранее, убедитесь, что они совпадают.\n"
   ]
  },
  {
   "cell_type": "markdown",
   "metadata": {},
   "source": [
    "**Задача 9**  (QR разложение для многочленов, *можно пропустить*)  \n",
    "Примените процесс Грамма-Шмидта к многочленам  $1, x, x^2$ на отрезке $[-1,1]$ со скалярным произведением\n",
    "$$\n",
    "(f,g) = \\int_{a}^{b} f(x) g(x) \\; dx\n",
    "$$\n"
   ]
  },
  {
   "cell_type": "code",
   "execution_count": null,
   "metadata": {},
   "outputs": [],
   "source": []
  }
 ],
 "metadata": {
  "celltoolbar": "Slideshow",
  "kernelspec": {
   "display_name": "Python 3 (ipykernel)",
   "language": "python",
   "name": "python3"
  },
  "language_info": {
   "codemirror_mode": {
    "name": "ipython",
    "version": 3
   },
   "file_extension": ".py",
   "mimetype": "text/x-python",
   "name": "python",
   "nbconvert_exporter": "python",
   "pygments_lexer": "ipython3",
   "version": "3.9.13"
  }
 },
 "nbformat": 4,
 "nbformat_minor": 2
}
