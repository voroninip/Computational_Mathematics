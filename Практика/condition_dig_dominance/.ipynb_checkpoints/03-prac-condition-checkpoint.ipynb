{
 "cells": [
  {
   "cell_type": "markdown",
   "metadata": {
    "colab_type": "text",
    "id": "4r9K4kdQY4K4"
   },
   "source": [
    "**Задача 1**  \n",
    "1.1 Докажите, что для числа обусловленности в любой операторной норме верна оценка: \n",
    "$$\n",
    "cond(A) \\ge \\frac{|\\lambda|_{max}}{|\\lambda|_{min}}\n",
    "$$\n",
    "1.2 Докажите, что для $A^* = A$ в 2-норме число обусловленности в точности равно этому отношению."
   ]
  },
  {
   "cell_type": "markdown",
   "metadata": {
    "colab_type": "text",
    "id": "RvLsotDaY4K7"
   },
   "source": [
    "**Задача 2**\n",
    "\n",
    "Решается линейная система $Ax = b$ размера $n = 100$ с матрицей $A = A^*$, элементы матрицы $A$ заданы в компьютере точно.  \n",
    "Компоненты $b_i$ правой части заданы с абсолютной ошибкой $\\le \\epsilon = 10^{-6}$, $||b||_2 = 10$.  \n",
    "Про собственные числа матрицы $A$ известно:  $\\displaystyle \\max_i |\\lambda_i| = 100, \\; \\min_i |\\lambda_i| = 10^{-2}$\n",
    "\n",
    "Оцените относительную ошибку в решении в 2-норме."
   ]
  },
  {
   "cell_type": "markdown",
   "metadata": {
    "colab_type": "text",
    "id": "caoOeMJ4Y4K8"
   },
   "source": [
    "**Задача 3**  \n",
    "Вычислите с помощью готовых функций число обусловленности матрицы $n \\times n$ вида:\n",
    "$$\n",
    "A = \\left[\\begin{array}{ccccc}\n",
    "-2 & 1 & 0 & \\ldots &  \\\\\n",
    "1 & -2 & 1 & \\ldots &  \\\\\n",
    "0 & 1 & -2 & 1 & \\\\\n",
    "0 & 0 & \\ddots & \\ddots & \\ddots \\\\\n",
    "0 & \\ldots & & 1&-2 \n",
    "\\end{array}\\right]\n",
    "$$\n",
    "1. Изучите код в следующем окне\n",
    "2. Создайте матрицу $A$\n",
    "3. Получите матрицу $A^{-1}$\n",
    "4. Вычислите $cond_2(A)$ через нормы прямой и обратной матриц\n",
    "5. Вычислите $cond_2(A)$ с помощью готовой функции\n",
    "6. Постройте график зависимости $cond_2(A)$ от размера $n$"
   ]
  },
  {
   "cell_type": "code",
   "execution_count": null,
   "metadata": {
    "colab": {},
    "colab_type": "code",
    "id": "4OLtloK3Y4K-",
    "outputId": "4b5ff84e-14c2-4d3d-ef9d-5c1f27f3c25e"
   },
   "outputs": [
    {
     "name": "stdout",
     "output_type": "stream",
     "text": [
      "B = \n",
      " [[1. 0. 0. 0. 0.]\n",
      " [1. 1. 0. 0. 0.]\n",
      " [0. 1. 1. 0. 0.]\n",
      " [0. 0. 1. 1. 0.]\n",
      " [0. 0. 0. 1. 1.]]\n"
     ]
    }
   ],
   "source": [
    "import numpy as np\n",
    "%matplotlib inline \n",
    "from matplotlib import pyplot as plt\n",
    "\n",
    "n = 5\n",
    "# Так можно создать матрицу с нужной диагональю\n",
    "B = np.diag(np.ones(n-1), k = -1) + np.eye(n)\n",
    "print(\"B = \\n\", B)\n",
    "# Документацию можно посмотреть так\n",
    "# ?np.diag\n",
    "# Либо курсор на имя функции и shift+tab\n",
    "\n",
    "# Так можно найти обратную матрицу\n",
    "Binv = np.linalg.inv(B)\n",
    "# Так можно посчитать норму\n",
    "B_norm = np.linalg.norm(B, ord = 2)\n",
    "# Так можно посчитать число обусловленности\n",
    "B_cond = np.linalg.cond(B, 2)"
   ]
  },
  {
   "cell_type": "markdown",
   "metadata": {
    "colab_type": "text",
    "id": "qw0NWrTIY4LH"
   },
   "source": [
    "**Задача 4**  \n",
    "Выведите формулу для числа обусловленности $cond_\\infty(A)$ для матрицы\n",
    "$$ A = \n",
    "\\left[\\begin{array}{ccccc}\n",
    "1 & 2 & & & 0 \\\\\n",
    "  & 1 & 2 & & \\\\\n",
    "  &   & \\ddots  & \\ddots & \\\\\n",
    "  & & & 1 & 2 \\\\\n",
    "0 & & &   & 1 \\\\  \n",
    "\\end{array}\\right]_{n \\times n}\n",
    "$$"
   ]
  },
  {
   "cell_type": "markdown",
   "metadata": {
    "colab_type": "text",
    "id": "UTPueeyQY4LH"
   },
   "source": [
    "**Задача 5**  \n",
    "$A = A^T > 0 \\; (A \\in \\mathbb{R}^{n\\times n}) $, $A \\ne c I$. Получите выражение для $cond_2(A + \\alpha I)$, $\\alpha >0$, покажите, что $cond_2(A + \\alpha I)$ монотонно убывает с ростом $\\alpha$."
   ]
  },
  {
   "cell_type": "markdown",
   "metadata": {
    "colab_type": "text",
    "id": "wM3kPoPkY4LI"
   },
   "source": [
    "**Задача 6**  \n",
    "Для дискретных значений зашумленного сигнала $x_i, \\; i = 1,\\ldots, n$ применяется следующее осреднение:\n",
    "$$\n",
    "y_i = \\frac{1}{6} x_{i-1} + \\frac{4}{6} x_{i} + \\frac{1}{6} x_{i+1}, i=1, \\ldots, {n}\n",
    "$$\n",
    "(подразумевается, что $x_{-1} = x_{n+1} = 0$)\n",
    "\n",
    "1. Докажите, что эта операция обратима, т.е. по осреднённому сигналу $y$ можно восстановить исходный сигнал $x$. (*для этого напишите матрицу, умножение на которую даёт осреднение*)\n",
    "2. Напишите в следующем окне код, который выполняет осреднение и обратную операцию.\n",
    "3. Напечатайте число обусловленности матрицы осреднения."
   ]
  },
  {
   "cell_type": "code",
   "execution_count": null,
   "metadata": {
    "colab": {},
    "colab_type": "code",
    "id": "dlMP2MXzY4LJ",
    "outputId": "e4cb6265-f206-4615-f562-0e48495a6dbb"
   },
   "outputs": [
    {
     "data": {
      "text/plain": [
       "<matplotlib.legend.Legend at 0x221c12e0a08>"
      ]
     },
     "execution_count": 3,
     "metadata": {
      "tags": []
     },
     "output_type": "execute_result"
    },
    {
     "data": {
      "image/png": "[encoded data removed]",
      "text/plain": [
       "<Figure size 432x288 with 1 Axes>"
      ]
     },
     "metadata": {
      "needs_background": "light",
      "tags": []
     },
     "output_type": "display_data"
    }
   ],
   "source": [
    "# Number of points in signal\n",
    "n = 100\n",
    "# Level of random noise\n",
    "eps = 1e-1\n",
    "\n",
    "# Create signal: smooth function + noise\n",
    "f = lambda t: np.sin(4*t)* (1+t)\n",
    "t = np.linspace(0, 1, n)\n",
    "x = (eps * np.random.rand(n) + f(t)) * t *(1 - t)\n",
    "\n",
    "\n",
    "plt.plot(x, label = 'original signal')\n",
    "\n",
    "# y - averaged signal\n",
    "y = np.zeros_like(x)\n",
    "\"\"\"\n",
    "Your code here\n",
    "\"\"\"\n",
    "\n",
    "plt.plot(y, label = 'averaged')\n",
    "\n",
    "# x_rep - signal reproduced from y \n",
    "x_rep = np.zeros_like(x)\n",
    "\n",
    "plt.plot(x_rep, label = 'reproduced')\n",
    "plt.grid(True)\n",
    "plt.legend()"
   ]
  },
  {
   "cell_type": "markdown",
   "metadata": {},
   "source": [
    "**Задача 7**  \n",
    "\n",
    "Решается линейная система $A x = b$ с симметричной матрицей $A$ с диагональными преобладанием, про которую известно:\n",
    "$$\n",
    "\\sum_{j \\ne i} |a_{ij}| \\le 10^{-2}|a_{ii}|, \\\\\n",
    "\\max_i |a_{ii}| = 10^{5}, \\; \\min_i |a_{ii}| = 10^{-2}\n",
    "$$\n",
    "\n",
    "Требуется найти решение $x$ с относительно погрешностью в 2-норме не больше $10^{-2}$. \n",
    "\n",
    "Можно ли для этого использовать вычисления с одинарной точностью или обязательно нужна двойная точность? Почему?\n",
    "\n",
    "Придумайте, как перейти к другой эквивалентной системе, для решения которой *можно* использовать вычисления в одинарной точности."
   ]
  },
  {
   "cell_type": "markdown",
   "metadata": {
    "colab_type": "text",
    "id": "7M8KGWxZY4LO"
   },
   "source": [
    "**Задача 8 (1 балл)**  \n",
    "Простой итерационный метод для системы $A x = b$.  \n",
    "Допустим, что $A = M - N$, где матрица $M$ - невырожденная и просто обращается, т.е. просто решается линейная система с матрицей $M$. Тогда последовательность приближений \n",
    "$$M x^{k+1} = N x^k + b$$\n",
    "сходится к точному решению $ \\iff \\rho(M^{-1} N) < 1$\n",
    "\n",
    "1. Докажите, что для матрицы из задачи 6 такой метод сходится при $M = diag(A)$ (диагональная часть матрицы $A$)\n",
    "\n",
    "2. Напишите программу, реализующую итерационный метод из предыдущей задачи. \n",
    "\n",
    "    1. Создайте матрицу $A$\n",
    "    2. Найдите точное решение линейной системы с помощью готовой функции\n",
    "    3. Реализуйте итерационный метод в виде циклов, используя явно вид и элементы матрицы A\n",
    "    4. На каждой итерации вычислите норму разницы между точным и приближенным решением\n",
    "    5. Постройте график зависимости логарифма нормы ошибки от номера итерации"
   ]
  },
  {
   "cell_type": "code",
   "execution_count": null,
   "metadata": {
    "colab": {},
    "colab_type": "code",
    "id": "snkYX3yDY4LP",
    "outputId": "4ec26443-8600-436d-e349-b5cab15cafba"
   },
   "outputs": [
    {
     "data": {
      "text/plain": [
       "Text(0, 0.5, 'Error norm')"
      ]
     },
     "execution_count": 4,
     "metadata": {
      "tags": []
     },
     "output_type": "execute_result"
    },
    {
     "data": {
      "image/png": "[encoded data removed]",
      "text/plain": [
       "<Figure size 432x288 with 1 Axes>"
      ]
     },
     "metadata": {
      "needs_background": "light",
      "tags": []
     },
     "output_type": "display_data"
    }
   ],
   "source": [
    "%matplotlib inline\n",
    "import numpy as np\n",
    "from matplotlib import pyplot as plt\n",
    "\n",
    "n = 20\n",
    "\n",
    "# Создайте матрицу A\n",
    "A = np.eye(n) \n",
    "b = np.random.rand(n)\n",
    "# Точное решение\n",
    "x_ex = np.linalg.solve(A, b)\n",
    "# Итерационный метод\n",
    "n_it = 100 # Число итераций\n",
    "error = np.ones(n_it) # Массив для норм ошибок на каждой итерации\n",
    "'''\n",
    "Ваш код здесь\n",
    "'''\n",
    "plt.semilogy(error)\n",
    "plt.grid(True)\n",
    "plt.xlabel('Iteration')\n",
    "plt.ylabel('Error norm')"
   ]
  }
 ],
 "metadata": {
  "celltoolbar": "Slideshow",
  "colab": {
   "name": "03-prac-condition.ipynb",
   "provenance": []
  },
  "kernelspec": {
   "display_name": "Python 3 (ipykernel)",
   "language": "python",
   "name": "python3"
  },
  "language_info": {
   "codemirror_mode": {
    "name": "ipython",
    "version": 3
   },
   "file_extension": ".py",
   "mimetype": "text/x-python",
   "name": "python",
   "nbconvert_exporter": "python",
   "pygments_lexer": "ipython3",
   "version": "3.9.13"
  }
 },
 "nbformat": 4,
 "nbformat_minor": 1
}
