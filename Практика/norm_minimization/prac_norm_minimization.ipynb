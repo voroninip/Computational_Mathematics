{
 "cells": [
  {
   "cell_type": "markdown",
   "metadata": {},
   "source": [
    "**Задача 1**  \n",
    "\n",
    "Наидите наилучшее приближение к функции $\\frac{1}{x^2}$ многочленом 1-й степени на отрезке $[1,2]$ в норме $||f||_C = \\max_{[1,2]} |f(x)|$.\n"
   ]
  },
  {
   "cell_type": "markdown",
   "metadata": {},
   "source": [
    "**Задача 2**  \n",
    "\n",
    "Найдите наилучшее приближение к $\\frac{1}{x^2}$ многочленом 1-й степени в $L_2[1,2]$."
   ]
  },
  {
   "cell_type": "markdown",
   "metadata": {},
   "source": [
    "**Задача 3**  \n",
    "Найдите коэффициенты многочлена Лежандра 2-й степени (ортогональные многочлены на $[-1,1]$) с помощью ортогонализации базиса $1, x, x^2$"
   ]
  },
  {
   "cell_type": "markdown",
   "metadata": {},
   "source": [
    "**Задача 4**  \n",
    "Напишите программу для вычисления коэффициентов разложения интерполяционного многочлена, построенного на сетке из нулей многочленов Чебышёва, по многочленам Чебышёва. \n",
    "\n",
    "Постройте графики зависимости коэффициентов разложения от их номера для \n",
    "1. аналитической функции на $[-1, 1]$\n",
    "2. функции из $C^1[-1,1]$, например, $(x+1)^{3/2}$\n",
    "\n",
    "Можно использовать код в следующем окне"
   ]
  },
  {
   "cell_type": "code",
   "execution_count": 2,
   "metadata": {},
   "outputs": [
    {
     "name": "stdout",
     "output_type": "stream",
     "text": [
      "Q @ Q.T =  [[0. 0. 0. 0.]\n",
      " [0. 0. 0. 0.]\n",
      " [0. 0. 0. 0.]\n",
      " [0. 0. 0. 0.]]\n"
     ]
    },
    {
     "data": {
      "image/png": "[encoded data removed]",
      "text/plain": [
       "<matplotlib.figure.Figure at 0x8963e10>"
      ]
     },
     "metadata": {},
     "output_type": "display_data"
    },
    {
     "name": "stderr",
     "output_type": "stream",
     "text": [
      "C:\\Users\\Chikitkin\\Anaconda3\\lib\\site-packages\\matplotlib\\ticker.py:2206: UserWarning: Data has no positive values, and therefore cannot be log-scaled.\n",
      "  \"Data has no positive values, and therefore cannot be \"\n"
     ]
    },
    {
     "data": {
      "text/plain": [
       "Text(0.5,1,'Coefficients')"
      ]
     },
     "execution_count": 2,
     "metadata": {},
     "output_type": "execute_result"
    },
    {
     "data": {
      "image/png": "[encoded data removed]",
      "text/plain": [
       "<matplotlib.figure.Figure at 0x8d28f60>"
      ]
     },
     "metadata": {},
     "output_type": "display_data"
    }
   ],
   "source": [
    "%matplotlib inline\n",
    "from matplotlib import pyplot as plt\n",
    "import numpy as np\n",
    "\n",
    "# function\n",
    "f = lambda x: np.sin(np.exp(x))\n",
    "\n",
    "xx = np.linspace(-1, 1, 1000)\n",
    "\n",
    "plt.plot(xx, f(xx), label = 'exact')\n",
    "\n",
    "# Construct matrix\n",
    "n = 4\n",
    "x = np.zeros(n) # Roots of Chebyshev pol\n",
    "Q = np.zeros((n, n))\n",
    "for i in range(n):\n",
    "    pass # Fill matrix Q\n",
    "\n",
    "# Check, that rows are orthogonal\n",
    "print('Q @ Q.T = ', Q @ Q.T)\n",
    "\n",
    "\n",
    "# Compute coefficients: ...\n",
    "c = np.zeros(n)\n",
    "\n",
    "# Compute values of interp pol\n",
    "pol = np.zeros(len(xx))\n",
    "for i in range(n):\n",
    "    pass\n",
    "    \n",
    "plt.plot(xx, pol, label = 'pol')\n",
    "plt.plot(x, f(x), 'ro')\n",
    "plt.show()\n",
    "\n",
    "# plot coefficients\n",
    "# plt.semilogy(np.abs(c))\n",
    "plt.title('Coefficients')\n"
   ]
  },
  {
   "cell_type": "markdown",
   "metadata": {},
   "source": [
    "**Задача 5** (2 балла)  \n",
    "Докажите, что для полиномов Лежандра с условием нормировки $P_n(1) = 1$ справедлива формула Родрига:\n",
    "$$\n",
    "P_n(x) = \\frac{(-1)^n}{2^n n!} \\frac{d^n}{dx^n}(1 - x^2)^n\n",
    "$$\n"
   ]
  }
 ],
 "metadata": {
  "kernelspec": {
   "display_name": "Python 3",
   "language": "python",
   "name": "python3"
  },
  "language_info": {
   "codemirror_mode": {
    "name": "ipython",
    "version": 3
   },
   "file_extension": ".py",
   "mimetype": "text/x-python",
   "name": "python",
   "nbconvert_exporter": "python",
   "pygments_lexer": "ipython3",
   "version": "3.8.8"
  }
 },
 "nbformat": 4,
 "nbformat_minor": 2
}
