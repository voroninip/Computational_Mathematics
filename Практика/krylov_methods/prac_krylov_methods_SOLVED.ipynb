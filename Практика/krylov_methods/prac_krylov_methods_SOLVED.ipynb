{
 "cells": [
  {
   "cell_type": "markdown",
   "id": "2ec445b0",
   "metadata": {},
   "source": [
    "Функции для генерации матриц с разными свойствами"
   ]
  },
  {
   "cell_type": "code",
   "execution_count": 9,
   "id": "bca722f9",
   "metadata": {},
   "outputs": [
    {
     "name": "stdout",
     "output_type": "stream",
     "text": [
      "657.688065872041\n",
      "10304.582741936008\n",
      "52159.20050622185\n",
      "74215.39774294924\n"
     ]
    }
   ],
   "source": [
    "import numpy as np\n",
    "from numba import jit, njit\n",
    "\n",
    "np.random.seed(1)\n",
    "n = 1000\n",
    "\n",
    "# Несимметричная с диагональным преобладанием\n",
    "@njit\n",
    "def getA1(n):\n",
    "    np.random.seed(1)\n",
    "    A = np.zeros((n,n))\n",
    "    for i in range(n):\n",
    "        for j in range(n):\n",
    "            A[i, j] = np.random.rand() * n * (np.abs(i-j) + 1.)**-3\n",
    "    print(np.linalg.cond(A))\n",
    "    return A\n",
    "\n",
    "# Симметричная положительно определенная\n",
    "@njit\n",
    "def getA2(n):\n",
    "    np.random.seed(1)\n",
    "    A = np.random.rand(n, n)\n",
    "    A = A.T @ A + n * np.diag(np.random.rand(n) * np.arange(n))\n",
    "    print(np.linalg.cond(A))\n",
    "    return A\n",
    "\n",
    "# Приближенно симметричная \n",
    "@njit\n",
    "def getA3(n):\n",
    "    np.random.seed(1)\n",
    "    A = 15 * np.random.rand(n,n)\n",
    "    A = A + A.T + 2 * np.eye(n)\n",
    "    \n",
    "    # Добавляем малое возмущение\n",
    "    A =+ 1e-1 * np.random.rand(n,n)\n",
    "    print(np.linalg.cond(A))\n",
    "    return A\n",
    "\n",
    "# С блочно-диагональной структурой\n",
    "@jit\n",
    "def getA4(n):\n",
    "    np.random.seed(1)\n",
    "    A = np.random.rand(n, n) \n",
    "    bsize = 10\n",
    "    nb = n // bsize\n",
    "    for i in range(nb):\n",
    "        A[i * bsize : (i+1) * bsize, i * bsize : (i+1) * bsize] = 1. + 100 * np.random.rand(bsize,bsize)\n",
    "    print(np.linalg.cond(A))\n",
    "    return A\n",
    "\n",
    "matrix_list = []\n",
    "\n",
    "for i, func in enumerate([getA1, getA2, getA3, getA4]):\n",
    "    A = func(n)\n",
    "    np.savetxt('A' + str(i+1) + '_matrix.txt', A)\n",
    "    matrix_list.append(A)"
   ]
  },
  {
   "cell_type": "markdown",
   "id": "182c5906",
   "metadata": {},
   "source": [
    "Идея в том, чтобы студенты применили нужные методы для каждой из матриц: \n",
    "* Для $A_1$ - GMRES с предобуславливанием Якоби ($D^-1$)\n",
    "* Для $A_2$ - CG с предобуславливанием симметричным методом Зейделя или Якоби\n",
    "* Для $A_3$ - GMRES с каким-либо предобуславливанием, а потом метод, который использует расщепление $A = B + \\Delta$, где $B$ -- симметричная, $\\Delta$ -- малая по норме матрица\n",
    "* Для $A_4$ нужно придумать предобуславливатель блочно-диагонального вида:\n",
    "$$\n",
    "P^-1\\begin{bmatrix}\n",
    "D_1^{-1} \\\\\n",
    "& D_2^{-1} & \\\\\n",
    "& & D_n^{-1}\n",
    "\\end{bmatrix}\n",
    "$$\n",
    "где $D_i$ - это диагональный блок размера 10 на 10. Его можно обратить прямым методом и на него умножать."
   ]
  },
  {
   "cell_type": "code",
   "execution_count": null,
   "id": "24d750a6",
   "metadata": {},
   "outputs": [],
   "source": []
  }
 ],
 "metadata": {
  "kernelspec": {
   "display_name": "Python 3",
   "language": "python",
   "name": "python3"
  },
  "language_info": {
   "codemirror_mode": {
    "name": "ipython",
    "version": 3
   },
   "file_extension": ".py",
   "mimetype": "text/x-python",
   "name": "python",
   "nbconvert_exporter": "python",
   "pygments_lexer": "ipython3",
   "version": "3.8.8"
  }
 },
 "nbformat": 4,
 "nbformat_minor": 5
}
