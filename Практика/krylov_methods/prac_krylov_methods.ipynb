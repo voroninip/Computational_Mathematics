{
 "cells": [
  {
   "cell_type": "markdown",
   "id": "ef0020b5",
   "metadata": {},
   "source": [
    "**Задача 1** \n",
    "\n",
    "Для каждой из 4-х матриц в приложенных файлах сделайте следующее:\n",
    "1. Изучите свойства матрицы:\n",
    "    * проверьте, является ли матрица симметричной или нет\n",
    "    * постройте рисунок, где цветом показаны модули элементов матриц (или логарифм модулей), попробуйте понять, есть ли у матрицы структура\n",
    "    * напечатайте сечения матриц, посмотрите на элементы\n",
    "    \n",
    "    Напишите отдельную функцию, которая строит необходимые графики и выводит нужную информацию.\n",
    "\n",
    "2. Выберите подходящий метод-ускоритель из набора крыловских методов ([GMRES](https://docs.scipy.org/doc/scipy/reference/generated/scipy.sparse.linalg.gmres.html), [MINRES](https://docs.scipy.org/doc/scipy/reference/generated/scipy.sparse.linalg.minres.html), [CG](https://docs.scipy.org/doc/scipy/reference/generated/scipy.sparse.linalg.cg.html), [BiCGStab](https://docs.scipy.org/doc/scipy/reference/generated/scipy.sparse.linalg.bicgstab.html))\n",
    "3. Выберите подходящий предобуславливатель из методов простой итерации, или придумайте свой. Применение предобуславливателя должно стоить примерно $n^2$ операций или меньше. Можно использовать неоптимальные реализации предобуславливателя, главное, чтобы теоретическая оценка числа операций была не больше $C n^2$.\n",
    "4. Реализуйте линейные операторы, задающие предобуславливатели.\n",
    "5. Запустите крыловский метод с выбранным вами предобуславливателем, постройте график зависимости логарифма относительной ошибки от номера итерации (учтите, что в методах с рестартами нужно умножить число итераций на число рестартов). Точное решение найдите с помощью прямого метода.\n",
    "6. Поварьируйте параметры, чтобы добиться как можно меньшего числа итераций для достижения относительной ошибки $10^{-8}$.\n",
    "\n",
    "Известно, что $A_2$ - положительно определенная"
   ]
  },
  {
   "cell_type": "code",
   "execution_count": 15,
   "id": "9ba77f14",
   "metadata": {},
   "outputs": [
    {
     "data": {
      "image/png": "[encoded data removed]",
      "text/plain": [
       "<Figure size 432x288 with 2 Axes>"
      ]
     },
     "metadata": {
      "needs_background": "light"
     },
     "output_type": "display_data"
    },
    {
     "data": {
      "image/png": "[encoded data removed]",
      "text/plain": [
       "<Figure size 432x288 with 1 Axes>"
      ]
     },
     "metadata": {
      "needs_background": "light"
     },
     "output_type": "display_data"
    }
   ],
   "source": [
    "import numpy as np\n",
    "from matplotlib import pyplot as plt\n",
    "import seaborn as sns\n",
    "from scipy import sparse as scp_sps\n",
    "from scipy.sparse import linalg as scp_sps_la\n",
    "from numba import jit, njit\n",
    "import time\n",
    "\n",
    "# Так можно считать матрицу из файла\n",
    "A1 = np.loadtxt('A1_matrix.txt')\n",
    "\n",
    "# Так можно визуализировать элементы\n",
    "A = np.random.rand(10, 10)\n",
    "fig, ax = plt.subplots()\n",
    "cax = ax.matshow(np.abs(A))\n",
    "cbar = fig.colorbar(cax)\n",
    "plt.show()\n",
    "\n",
    "# Так можно реализовать предобуславливатель\n",
    "# Функция которая вычисляет P^-1\n",
    "n = 10\n",
    "def P_inv_fun(x):\n",
    "    I = np.eye(x.shape[0])\n",
    "    return I @ x\n",
    "\n",
    "# Потом создаётся линейный оператор, который подаётся на вход в функции из scipy\n",
    "P_inv_operator = scp_sps_la.LinearOperator((n, n), P_inv_fun)\n",
    "\n",
    "# Подобную функцию нужно передать как аргумент callback, \n",
    "# чтобы сохранять ошибки на каждой итерации \n",
    "errors = []\n",
    "x_exact = np.zeros(n)\n",
    "\n",
    "def save_errors(x):\n",
    "    # x - решение на текущей итерации\n",
    "    errors.append(np.linalg.norm(x - x_exact) / np.linalg.norm(x_exact))\n",
    "    return\n",
    "\n",
    "# График в логарифмической шкале\n",
    "plt.semilogy(np.arange(20), 2.**-(np.arange(20)))\n",
    "plt.grid(True)"
   ]
  },
  {
   "cell_type": "markdown",
   "id": "44e20cc7",
   "metadata": {},
   "source": [
    "**Задача 2** (1 балл)\n",
    "\n",
    "Обратите внимание, что матрица $A_3$ \"почти\" симметричная. Придумайте итерационный метод, в котором можно использовать базовые итерационные методы, предназначенные для симметричных матриц.\n",
    "\n",
    "Напишите программу для метода. Сравните его эффективность с методом, не учитывающим приближенную симметричность."
   ]
  },
  {
   "cell_type": "code",
   "execution_count": null,
   "id": "87f0f457",
   "metadata": {},
   "outputs": [],
   "source": []
  }
 ],
 "metadata": {
  "kernelspec": {
   "display_name": "Python 3",
   "language": "python",
   "name": "python3"
  },
  "language_info": {
   "codemirror_mode": {
    "name": "ipython",
    "version": 3
   },
   "file_extension": ".py",
   "mimetype": "text/x-python",
   "name": "python",
   "nbconvert_exporter": "python",
   "pygments_lexer": "ipython3",
   "version": "3.8.8"
  }
 },
 "nbformat": 4,
 "nbformat_minor": 5
}
