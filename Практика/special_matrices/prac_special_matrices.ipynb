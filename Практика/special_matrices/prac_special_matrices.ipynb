{
 "cells": [
  {
   "cell_type": "markdown",
   "metadata": {},
   "source": [
    "**Задача 1**  \n",
    "Используя заготовку в следующем окне, напишите функцию для вычисления матрично-векторного умножения для матрицы в координатном формате.  \n",
    "Сравните результат с выводом функции ```scipy.sparse.csr_matrix.dot``` (для этого сначала преобразуйте матрицу в CSR формат)"
   ]
  },
  {
   "cell_type": "code",
   "execution_count": 42,
   "metadata": {},
   "outputs": [],
   "source": [
    "%matplotlib inline\n",
    "from scipy import sparse\n",
    "from matplotlib import pyplot as plt\n",
    "import numpy as np\n",
    "\n",
    "N = 1000\n",
    "\n",
    "# Create sparse matrix\n",
    "A = sparse.rand(N, N, 1e-3)\n",
    "\n",
    "# Convert to COO format\n",
    "A = sparse.coo_matrix(A)\n",
    "# A.data - элементы\n",
    "# A.row - индексы строк\n",
    "# A.col - индексы столбцов\n",
    "b = np.random.rand(N)\n"
   ]
  },
  {
   "cell_type": "markdown",
   "metadata": {},
   "source": [
    "**Задача 2**  \n",
    "Напишите свою функцию для матрично векторного умножения матрцы в CSR формате на вектор.  \n",
    "Сравните результат с выводом функции ```scipy.sparse.csr_matrix.dot``` (для этого сначала преобразуйте матрицу в CSR формат)"
   ]
  },
  {
   "cell_type": "code",
   "execution_count": 41,
   "metadata": {},
   "outputs": [],
   "source": [
    "from scipy import sparse\n",
    "from matplotlib import pyplot as plt\n",
    "import numpy as np\n",
    "\n",
    "N = 1000\n",
    "\n",
    "# Create sparse matrix\n",
    "A = sparse.rand(N, N, 1e-1)\n",
    "\n",
    "# Convert to CSR format\n",
    "A = sparse.csr_matrix(A)\n",
    "b = np.random.rand(N)"
   ]
  },
  {
   "cell_type": "markdown",
   "metadata": {},
   "source": [
    "**Задача 3**  \n",
    "Напишите программу (функцию) для решения системы с трехдиагональной матрицей методом прогонки. Сравните решение с решением из стандартной функции (например, ```np.linalg.solve```. Для этого создайте полную матрицу по её диагоналям)"
   ]
  },
  {
   "cell_type": "code",
   "execution_count": 16,
   "metadata": {},
   "outputs": [],
   "source": [
    "from matplotlib import pyplot as plt\n",
    "import numpy as np\n",
    "\n",
    "n = 10\n",
    "\n",
    "# Create random tridiagonal matrix\n",
    "\n",
    "# main diagonal\n",
    "d0 = np.random.rand(n) + np.ones(n)\n",
    "# diagonal -1 - below the main \n",
    "dm = np.random.rand(n-1) + 0.1\n",
    "# diagonal +1 - above the main\n",
    "dp = np.random.rand(n-1) + 0.1\n",
    "\n",
    "# right-hand side\n",
    "b = np.random.rand(n)\n",
    "\n",
    "# Find solution with np function\n",
    "\n",
    "# Implement this function\n",
    "def my_tridiag_solve(d0, dm, dp, b):\n",
    "    pass\n",
    "    "
   ]
  },
  {
   "cell_type": "markdown",
   "metadata": {},
   "source": [
    "**Задача 4** (1 балл)  \n",
    "Напишите программу для решения краевой задачи \n",
    "$$\n",
    "u_{xx} = f(x), \\; u(0) = a, u(1) = b\n",
    "$$\n",
    "конечно-разностным методом. \n",
    "\n",
    "0. Придумайте задачу с точным аналитическим решением (нельзя брать многочлены)\n",
    "1. Задайте число узлов\n",
    "2. Составьте матрицу линейной системы\n",
    "3. Заполните правую часть\n",
    "4. Решите линейную систему с помощью функции из предыдущей задачи\n",
    "5. Постройте на одном рисунке графики численного и точного решений\n"
   ]
  },
  {
   "cell_type": "code",
   "execution_count": 17,
   "metadata": {},
   "outputs": [],
   "source": [
    "def my_solve_boundary_problem(n, f, a, b):\n",
    "    pass\n",
    "\n",
    "# Test your function"
   ]
  },
  {
   "cell_type": "markdown",
   "metadata": {},
   "source": [
    "**Задача 5** (Гауссовское размытие) (2 балла)  \n",
    "Изучите код в следующем окне, который применяет гауссовский фильтр к периодическому зашумленному сигналу.  \n",
    "\n",
    "1. Создайте матрицу, умножение на которую осуществляет ту же операцию\n",
    "2. С помощью теоремы о циркулянтах реализуйте умножение на эту матрицу с помощью преобразования Фурье. Убедитесь, что результат совпадает с простым применение свертки (через циклы)\n",
    "3. Оцените вычислительную сложность простого применения фильтра (свертки), и сложность умножения на матрицу с помощью преобразования Фурье. Оцените, при каких соотношениях между размером сигнала и размером ядра свертки применение преобразования Фурье может дать выигрыш.\n"
   ]
  },
  {
   "cell_type": "code",
   "execution_count": 13,
   "metadata": {},
   "outputs": [
    {
     "name": "stdout",
     "output_type": "stream",
     "text": [
      "[0.00443305 0.05400558 0.24203623 0.39905028 0.24203623 0.05400558\n",
      " 0.00443305]\n"
     ]
    },
    {
     "data": {
      "text/plain": [
       "[<matplotlib.lines.Line2D at 0xf7bc6d9ba8>]"
      ]
     },
     "execution_count": 13,
     "metadata": {},
     "output_type": "execute_result"
    },
    {
     "data": {
      "image/png": "iVBORw0KGgoAAAANSUhEUgAAAX4AAAD4CAYAAADrRI2NAAAAOXRFWHRTb2Z0d2FyZQBNYXRwbG90bGliIHZlcnNpb24zLjMuMSwgaHR0cHM6Ly9tYXRwbG90bGliLm9yZy/d3fzzAAAACXBIWXMAAAsTAAALEwEAmpwYAAAwgUlEQVR4nO3dd3hT5f//8eeddC9KKZSy915SRJbYUkBAFBRQUBmKIgruPXHvycaBuBBBERGQDYIie+8CgrS0lNHSFjqT+/dH4/fXD5bOJCdp3o/rytWMc8796kl4kZ7knKO01gghhPAcJqMDCCGEcC4pfiGE8DBS/EII4WGk+IUQwsNI8QshhIfxMjpAUcLDw3W9evXKNO/FixcJDAy0byA7cdVsrpoLJFtZSbaycdVsJcm1bdu2s1rrqkVOpLV22UtUVJQuqzVr1pR5Xkdz1WyumktryVZWkq1sXDVbSXIBW3Ux3SqbeoQQwsNI8QshhIeR4hdCCA8jxS+EEB5Gil8IITyMFL8QQngYKX4hhPAwLr0DlxDC81itmrjkDLaeOE+9KoF0bRRudKQKR4pfCGGorFwLexIusOX4ebYeT2Hr8fOkZeUBEOBjZu2T0VQL9jM4ZcUixS+EsButNUlpWVQP8UMpVeS0adma95cd4ru/jpKSZQUUDasG0q91JB3qhVEj1I+RMzfz0YrDvHVLG+f8Ah5Cil8IYTcfr4zjk1Vx1AkLoG/r6vRrFUmbWpVQWsPpvXAujtSEOI4c3kv4mWO0V6d5TJ0nJzQc1eA6fBtHQ/0GEFoLgOGd6jFrw9+M7FKPZtVDjP3lKhApfiGEXSzdm8gnq+KIaVoVi4bv1h/kyPp5DPDfRYxpB8G55wAIBerqSqT6RFCpQXdMEQ3wS/kb/l4L++flL6xyfajfncea3MxP2715Y/EBvhl9jVG/WoVjl+JXSs0E+gPJWutWhTyugE+AfsAlYJTWers9xhZCGO9gUhqPzd1Fx1p+fNpqP95xS9EBa1F5mWRaA1iT24YVebfyt1cDunRoz4jrWpGwYyONo6P//0K0huQD8Pe6/Mu+BQRt/4pv6o7klkOxrD2UTHTTaob9jhWJvd7xzwImA19f4fG+QGPb5Rpgmu2nEMLNpVzM4d6vtjDQexOvZf+AeXECVKqDaj8CmvbFv25Xrs1TBJxIoV3tUEIDfAA4ePmClIKIFvmXTmMhNxOWPU+brV+wMOAv3vz1Sbo1GoyXWb6FXl52KX6t9TqlVL0iJhkAfG07ZOhGpVSoUipSa51oj/GFEMbIs1h5/6sf+OjiJDqYDkFgG7hlBtTrll/kNsFelP7durc/9P8Q6l9L45/HMzX9YTYsSqf7gNF2/i08j8rvYjssKL/4F11hU88i4G2t9R+226uAp7XWWwuZdgwwBiAiIiJqzpw5ZcqTkZFBUFBQmeZ1NFfN5qq5QLKVlSOzeeekYt3xFV0vrSHTK5j4hsNJjIwFZbZ7Nt9LiVTe8h7N9FFORPbjRKO7sJp9yhPfbtmcqSS5YmJitmmtOxQ5UXEH7C/pBagH7L3CY4uBbgVurwKiilumnIjFuVw1l9aSrawclm3bVzrntRo656XK+s8p92mdmVrqRZQ22+7jp/Wnzw/VekKI1lO7ap20r9RjlpSrPqfudiKWeKB2gdu1gFNOGlsIYSdZmZc4N+d+WPggW3Pq8kzEDK6+byr4VXL42K3rVmNfq6e4z/IklrRT8Gk0bJgMVqvDx65onPV1zoXAeKXUHPI/1L2gZfu+EC7vVGomy/clsfdUGoknj/FE6htcZYpjat5N/FL5Lr4f2Q1vJ37Y+mSfZvTYm8Qz1Trxls9neC1/Hg4vhYFTIbSO03K4O3t9nfN7IBoIV0rFAxMAbwCt9XRgCflf5TxC/tc577LHuEIIx7mYncegaRtIvJBFz8AjTNEfEeCVzfaOn9D/6lu5P8y/2L1z7a1mqD/3Rzfk45VxLPIexYRabRgcPwXztK6ovu9C26H/86GyKJy9vtUzrJjHNTDOHmMJIZxj4uo4Ei9ksvraQ9Tf9iaqcj247TvaV2tmaK6HYxtzbeNwftyWwBu7TUzOfoNJfp9y1YKxpO/6haBBE1FB8n3/osieu0KI/ziSnM6s9UeYG/k9DbYshiZ987+m6YRt+cVRShFVN4youmFMuLEFqw4kM2VbcxofncUjx+aR+n4Ui2o+SsBVQ+jSOJzISv5GR3Y5UvxCiP+htebln3cy2WcSHVM2QfcnIfo5MLnejlN+3mZuaBPJDW0iOZtxFcv/GkLrrc8xPOEVlv6zhJty7yIovCadG1bhgeiG1KocYHRkl+B6z6QQwlCLtx3lnvjn6cUmuP4t6PGCS5b+5cKDfLmxVyz1nvoTa+wr9PbZzR9Bz3CH3wZ+3h7P0E83cio10+iYLsH1n00hhNOkXzhPjcXD6W7ejbX/ROj8gNGRSs/shenaRzCN/QPf6s245+w7bKr3GaZL57jj800kp2UZndBwUvxCiHyXzpM2ox+trYc4GT0RU4eRRicqn6pN4O6lcP2bhCT+ydIqH3Ix7Tx3fL6JcxnZRqczlBS/EALST5P1eR/CLx7h+/pvUDd6hNGJ7MNkhs7jYOh3BKTGsbL6VJLPpzD8i81cuJRrdDrDSPEL4elSjqO/7AMpx3nI9Cw3DqmAB0Fr1BNumUFI8lZW15nF8eRURny5mfQszyx/KX4hPFniLvi8F7npZ7k961l69BtC5UDHHfzMUK0GQf8PqXJqDasazmFfQgqjZ23lUk6e0cmcTopfCE91dA36yxvIsJgYnPsyunZHhkTVLn4+d9bhboh9ich/FrGi2RK2njjHywv3GZ3K6aT4hfBAevc8rN8O4VhuGLGpLxBSqxWf3HYVJpMHHO6g22PQeTz1j33HzLqrmL89gcQLnvU1T9mBSwgPc3Lxe9Te8jqbrM15N/Ql3hnageuaVHX6cXcMoxT0fh2yUoneMZOhCmZtqM+zfZsbncxppPiF8BAnz13kwNeP0PvCXFapzqT0m8y8jg0xe8K7/MspBf0/gYxkJhz5hqGbmpPRozFBvp5RibKpR4gKLjvPwpTVcaz85F56X5jLrsghdH76FwZ3auSZpf8vsxcMnAZ+obxl/ZgfN8YZnchppPiFqMD2n7PQ95P1ZK56h7tMi8loN5q2Yz4jwM/X6GiuITAc70EzaGJKIGjdq+RZPOOkLlL8QlRAyelZPDxnB+9uyeKmrF95wnsetB1G0E3vy/HqL9colhNNRjHYsoStK8t2jm93I8UvRAWz7cR5Yt//nd/2JPF65AYeyf0cmvWHmya7xcHWjFB78NscNdWj2cZn0OmnjY7jcPIqEKIC0Vrz6q/7CfbzYt1NF7kjZSrU7w6Dvsjfpi0KZfLx52DXj/CzXiL1+3tBa6MjOZQUvxAVyLJ9p9kVf4E3rzpP9eX3kx7cCIbOBm8/o6O5vNju1/GJeQSVT/1OzYTFRsdxKCl+ISoIi1XzwfJD9A47zXXbHoYqjdjd5iXwDTY6mlvw8zbj32UsqyxX0eDoLDhdcffoleIXooJYsCOBo8lpvOfzGco3CIb/TJ63lH5p3Nm5Hi8ylgwC4Kd7ILdiHrtfil+ICiAnz8pHKw/zVNh6KqXuhz5vQXB1o2O5nbBAH2KjWvFozn2QvB9WTjA6kkNI8QtRAczZ8g85Kae4J+dbaNgDWt5idCS3NbpbfdZY2rG1+q2waTrErTA6kt1J8Qvh5i7l5DFx1RE+Cp2LWedBP/mufnnUCw/k6upm7jjej3if+ljmj4WMZKNj2ZUUvxBu7qsNJ2h+aQtds35HXfs4VGlodCS3d09rXx7s3YpxWQ+Qe+kCcZ+OJPVixTldoxS/EG7sQmYuX67dz/sBX0OVRtDtEaMjVQg+ZsX4Ho357MkRLKs5nsZpG5j+3jN88cff5OS5/2EdpPiFcGOfrTvGHXnzicg7BTd8AF5yDB57qhbsx4B7J5BRtyeP8Q1zFy+l/6T1bn/WLil+IdzUmfRsVv35Jw94/wqth0CDaKMjVUxKETRkOt6BlZlX9QtOnD7PnM0njU5VLlL8QripGWuP8AJfYPL2h95vGB2nYguqirp5GiFpcXwcNp/P1h9z600+UvxCuKGsXAvp2+bQ1bQXc68JEBxhdKSKr1FP6PQAfS8tpEH6FhbsTDA6UZlJ8QvhhpbuPMGDejYZYS0h6i6j43iO2Ano8CZ85Pc5X6/dg8Xqngdzk+IXwg2dXzeDWuosgf1eB5PZ6Diew9sPNXAaVa3nuD31U5bvSzI6UZlI8QvhZuLik7gpbTYJla9GNYwxOo7nqdUB3eVBbvdaw1/L56Hd8BDOUvxCuJmTi98nXKUR1O812UPXIKaY57gQ1ID70j7mr/1/Gx2n1KT4hXAjWRfOcHXit+wK6kalxp2NjuO5vP3wHzKD6iqFrMXPGp2m1KT4hXAjJxa+QaDOQse8YHQUj+dTtyN76oygx6WlHNnws9FxSkWKXwh3kXaKeke/Y4V3NG3bdzI6jQAa3fYGR6lF2KonIeuC0XFKTIpfCDeR+tvrKG0hpeMTKNm27xKCAoPY1OZ1KuWd5cKCJ42OU2JS/EK4g3NHCT4whx+sPbm+a0ej04gC+l5/A1/om6h08Ac4ssroOCUixS+EG8hb9TrZeHGo6X1UDvQxOo4ooHKgD2eiHuOYjiR34aOQm2l0pGLZpfiVUn2UUoeUUkeUUs8U8ni0UuqCUmqn7fKSPcYVwiMk7sZr/3xm5vXhxi7tjE4jCjE6uhlvmcbgnXaCzFXvGB2nWOUufqWUGZgC9AVaAMOUUi0KmXS91rqd7fJqeccVwmOsepV0FcSKyrfRsX6Y0WlEIapX8mPsqFEssF6L18ZJZCfuNzpSkezxjr8jcERrfUxrnQPMAQbYYblCiLgVcGQFE3Nu4qZrWsiHui4sqm4Ygf3f5qL25Z+v78Nqcd2jd6ry7m6slBoM9NFa32O7PRy4Rms9vsA00cBPQDxwCnhCa73vCssbA4wBiIiIiJozZ06ZcmVkZBAUFFSmeR3NVbO5ai7wzGzKmsvVWx4mLcdKTOY7vBcdQpBP6YrfE9ebPZQn29ndvzH4/HS+rvQAda663um5YmJitmmtOxQ5kda6XBdgCPB5gdvDgUmXTRMCBNmu9wPiSrLsqKgoXVZr1qwp87yO5qrZXDWX1h6abcNkrSeE6Lufe00/OW9nmRbhkevNDsqTzWrJ08ff7abPvVRD//D7Drtl0rpkuYCtuphutcemnnigdoHbtch/V1/wP5c0rXWG7foSwFspFW6HsYWomDLOYF3zNn/SjhNh3Xixf2EfmwlXpExmat45jRCViWnFi6w+eNroSP9hj+LfAjRWStVXSvkAQ4GFBSdQSlVXto2TSqmOtnHP2WFsISqkvJWvYs25yDuM5NMRHQj28zY6kigFr8hWWDuNY7B5HbNmf8f+U2lGR/of5S5+rXUeMB5YBhwA5mqt9ymlxiqlxtomGwzsVUrtAiYCQ21/kgghLqNP7cS08xtm5fXm0aH9aVDVNbeDi6L59HgWS0htXjF9zmu/7HCpwzd72WMhts03Sy67b3qB65OByfYYS4gKTWsSf3gEHx0M1z1NTLNqRicSZeUTgLn/h9SfPYS28bNZe6i5yzyfsueuEC5k34pZ1Liwg2UR9zK6Zzuj44jyatIba+PejPNeyJQlW7C6yKkapfiFcBEnEs8QtuE1jpobcPPdT8t39isIU8+XCSKTnudns3DXqeJncAIpfiFcQHaehd9nvUgk5wga+AEBfr5GRxL2EtES2tzKXV7L+XrZn+TkGb9jlxS/EC5gwZq/GJL1E6fr9COidQ+j4wg7UzHP423S3JrxHXO2/GN0HCl+IYyWlpVLxJ8TUCYTEYPeMzqOcITKdVFXj+ZWr3UsXLmGi9l5hsaR4hfCYCvnf0k0W0np+DhUqmV0HOEgqvuTaO8A7sn5jpl/GHuCdil+IQyUdPY81xx6h0SfekT2ftToOMKRAsMxd32IPuYtbFy3lPMXcwyLIsUvhIH2//ASNdVZzDd+CGbZO7fC6zyOPP9wHtTfMW1NnGExpPiFMMjfB3fQLXk2u6r0pVrrWKPjCGfwDcIr+mk6mQ7w96ZfOJVqzNm6pPiFMILWZC14lCzlR93b3jc6jXCmqFHkVarL46Y5TF512JAIUvxCGCBu9Vc0z9rBjsYPElpNPtD1KF4+eMW+SHN1gtxdc0nPynV6BCl+IZxMZ6ZS5c+X2a8acs3gx42OI4zQahCZYS0Yy08s3HHS6cNL8QvhZMd/epFQSyoJXd7Az9fH6DjCCCYTfjFP0NCUyPE/5zl/eKePKIQHyz21hzpHvmWxbx96xPYxOo4wkGoxgDT/2tyQNoc9J1OdOrYUvxBOorXm6JynyNB+VLrhFcwmOQibRzN74d39IdqZjrFxzS9OHVqKXwgnWbRoPs3SNrC9zii6t21qdBzhAvw7jCDNK4zmR79w6mEcpPiFcIJlexOpvuVtUs1VuO7OF4yOI1yFtx/pbUfTTe1i/bpVThtWil8IB9sdn8r8H2Zytekwgb2exeQbaHQk4UJq9BzHRfwJ2OK8kxRK8QvhQAmpmdwzazNPeM3FEloP76tHGR1JuBjlX5ljdW+la/Z6Dh/c5ZQxpfiFcJD0rFzu/nILMXnraayPY459UY7HIwpVp98TWDCTsuIjp4wnxS+EA+RZrIybvYN/zqTyctACiGgNLW8xOpZwUZUi6rC98vW0PbuIzPOJDh9Pil8IB/jqrxOsO3yGb686iH/GPxD7Epjkn5u4soDox/Ahj+NLPnD4WPJKFMIBluxJpH2kD1HHP4M6XaBxL6MjCRfXum0Uf3h3ovbR7yErzaFjSfELYWdn0rPZ/k8KT4SshovJ0HMCKNlZSxRNKcX5q8YRpDNIXjvDoWNJ8QthZ6sOnCZEZ3BN4rfQpC/U6WR0JOEmukdfz1/Wlvhtmw552Q4bR4pfCDtbsf80jwatwJSTDrEvGh1HuJGwQB/+qvcAL+TeTbZ2XD17OWzJQnigi9l5bDmSwCTf5aim/SCipdGRhJu5qf9ArFrj6+24r/5K8QthR+vjztBfryPAcgE6jzM6jnBDjaoFOXwM2dQjhB2t2JfIvd6/oSPbQd0uRscRolBS/ELYSZ7FSs7BZdTnFKrzePkmj3BZUvxC2MmW4ykMzfuVLP8IaDnQ6DhCXJEUvxB2smvrOrqa92HqNFaOySNcmhS/EHagtabu4VlkKT98Ot5tdBwhiiTFL4QdHDkaR2zeek7UHQT+oUbHEaJIUvxC2EHq2ql4YSU89mGjowhRLCl+IcrJZMmiWcI8Nvt1oUptOZeucH0Vrvizci1MWhXH3rPOO3Gx8GzBJ1cRrDNIajHa6ChClEiF23PX26SI++sXrD6hRkcRnsBqpXb8QnZaG9Kmc2+j0whRIhXuHb85N4N39Yf0TZ/HuQzHHd1OCAAOLyU8L4lfA26mQbVgo9MIUSJ2KX6lVB+l1CGl1BGl1DOFPK6UUhNtj+9WSrW3x7iF8gsho/VI+pg2sW7jRocNIwRak7f+YxJ0OL5tbzY6jRAlVu7iV0qZgSlAX6AFMEwp1eKyyfoCjW2XMcC08o5blPDYR8hTXgRunerIYYSnO/4HXgmbmJ7Xn54taxqdRogSs8c7/o7AEa31Ma11DjAHGHDZNAOAr3W+jUCoUirSDmMXLjiC7UExXJe5khPHjzhsGOHh1r1HqjmMZV4xtKsVanQaIUrMHh/u1gROFrgdD1xTgmlqAv85nbxSagz5fxUQERHB2rVryxQqtWZfvA6u4MiPL/N3h3vKtAxHycjIKPPv5UiumgtcL1vIhYO0//t3JuXewdU1vVi37nejIxXK1dZbQZKt9OyVyx7FX9ghCHUZpsm/U+tPgU8BOnTooKOjo8sUau1a2PhPNJ0zVuDfcSIqIKxMy3GEtWvXUtbfy5FcNRe4YLbvppBhDmGhvp6XGwe6VrYCXG69FSDZSs9eueyxqSceqF3gdi3gVBmmsbtLHR8igCxOrZjo6KGEJzm1E+KWMy27D4M7NyXQWw6/LNyLPYp/C9BYKVVfKeUDDAUWXjbNQmCE7ds9nYALWuv/bOaxty5durNGtyd090zIuejo4YSnWPcel0xBzFF9GN2tvtFphCi1che/1joPGA8sAw4Ac7XW+5RSY5VSY22TLQGOAUeAz4AHyjtuSQT6erG77l0EWi6Qt3WWM4YUFd3p/XBwEZ/n9mZAx+aEB/kanUiIUrPLnrta6yXkl3vB+6YXuK4BQ05A2q5bXzZ924w26yfi1fFe8PIxIoaoKNa/T7bJn29y+/Fr9wZGpxGiTCrcnruX69qwCt95DcI/Mwn2zDM6jnBnZ+PQe+fzVW4vendoRvVKfkYnEqJMKnzxe5lNVL3qBg7ouljWfwRWq9GRhLv64yPylA+fW/ox9rqGRqcRoswqfPED3Ny+FlNzb8R8Pg4OLjI6jnBHKcfRu+bwnaUH3a9qQe2wAKMTCVFmHlH8LWuEEBceS6I5En5/F6wWoyMJd/PHx1gwMT33Bh6Ilnf7wr15RPErpRjQvi5vZg6C03tg52yjIwl3cno/evvXzLPG0KF1SxpUDTI6kRDl4hHFDzCgXQ0W6c6cCm4Nq16F7HSjIwl3oDUseZIscxDvZt/CuJhGRicSotw8pvhrhPrTrVFVnkwfBheTYf2HRkcS7mDPj3DiD97OuZUOLRrTPDLE6ERClJvHFD/Ayze1ZLulIesDYtF/TYGU40ZHEq4sKw3LsufYrxqx0q83bwxsZXQiIezCo4q/YdUgXuzfgifPDyRPK1gxwehIwoXlrX4TdfEML1vu4tNR11AtRL63LyoGjyp+gGEda9O6RQum5t4I+xfAiQ1GRxIuyJq4F7V5Bt9bejBm6BBa1qhkdCQh7Mbjil8pxdu3tGae782cUeFYf3tWduoS/0trEmaP44IOwBrzAj1bRBidSAi78rjiB6gS5MvrQ67mtezbMCXthN1zjI4kXMjmhdOpnb6TNbUe4M6Yq4yOI4TdeWTxA0Q3rUbYNbezw9qI7GUTIDvD6EjCBWw7dJz629/iiHdTbrrraZSSY+2Lisdjix/gmX7N+TJ4DL6ZyVxa84HRcYTBktOzOPj9s1RRaUQMm4K3l10OXiuEy/Ho4vfzNnP/ncNYaO2K96ZJ6LNxRkcSBvrix0XcppeS3vJOghtcbXQcIRzGo4sfoHlkCBnXvcIlqzdJ39wrH/R6qHWHkunx93vkegdT6YZXjY4jhEN5fPEDDOvRgYUR44m8sIOjSycZHUc4WVauhd/nT+Ua00G8er8CAWFGRxLCoaT4yf+K5813P8U2c1uqb36T0//IJh9P8tmKndyX9SXpVdrg3WGk0XGEcDgpfpsgP2+qDJuO0pqT344lOzfP6EjCCY4kpxPw1/uEqwsE3/IxmOSfhKj45FVeQL1GLTjR7nE65GxlwTefGB1HOJjWmmlzFzHSvJScNndCzSijIwnhFFL8l2k+4AkSglrR68SH/PLnTqPjCAf6cetJBp2eiMU7GL/rXzE6jhBOI8V/OZOZiDs/I1hlY172LHsTLhidSDjA+Ys5bF3yBV3M+/HuNQECqxgdSQinkeIvhFf1FuR2fYz+pg18M2saFzJzjY4k7OyDX7fxqPVrssJbY+owyug4QjiVFP8VBMQ8QWblZjyaM52pS7cbHUfY0bYTKdTeO4Xq6jx+Az4Ek9noSEI4lRT/lXj54D9oKtVUKtW2fcSBxDSjEwk7mbt0NaO9fiOvze1Qu6PRcYRwOin+otSKIrfNnYz0WsanPy5Ga210IlFOu+NTiY6fhjb74NVb9tAVnkmKvxi+17+CxTuIIckTWbAj3ug4opyW/LaQvuYt6M4PQlBVo+MIYQgp/uIEVsG71wS6mPezefFM0rPkg153dSgxjeiTU7noHYbvtQ8ZHUcIw0jxl4Cpw11kVmnBg3mzmLJsl9FxRBmtWTybTqYDqO5PgW+Q0XGEMIwUf0mYzPgP+Iga6jwhWydyKCnd6ESilI6fSee6f6aQ4luTgM6jjY4jhKGk+EuqTieyW97KveZFTPtpqXzQ62Y2/jKd5qZ/MPV8Ebx8jI4jhKGk+EvBt8/rYPZjYNIkFu5MMDqOKKGEs6l0PTmDU/5NqBR1m9FxhDCcFH9pBEdgjn2OaPMu1i/+hoxsOYKnO9j184fUVmfw6fOaHH1TCKT4S810zX1khjbhoZwv+GbdAaPjiGKcOXuGTvEziQuMIrxtH6PjCOESpPhLy+yN/4APqGM6g2njZHItcqpGV3Zo/puEqXQC+71udBQhXIYUf1nU705y7T4Mz/uZ1Zt3Gp1GXEHq6ZO0T/iOHcEx1GjZxeg4QrgMKf4yCr/5HbyUFd+1stu/qzrx8wR8yKVyfznWvhAFSfGXkSmsHgfqjyA6ew2Ht602Oo64zKWTu2mVNJ/fKw2gXtO2RscRwqVI8ZdDw1teIllXxmfFc2CVbf0uQ2tS5j9Oug4g/MYJRqcRwuVI8ZdDUHAof9YfT72sA1zY/K3RcYRN7oEl1EzZzM+VRtC2cX2j4wjhcspV/EqpMKXUCqVUnO1n5StMd1wptUcptVMptbU8Y7qa9v3vY6e1IeZVr0B2htFxRF4OWYuf5Yi1Bg37yYHYhChMed/xPwOs0lo3BlbZbl9JjNa6nda6QznHdCl1w4NZUvNhgnLPkvf7B0bH8XjWTTMIvniCr0PGcG3TSKPjCOGSylv8A4CvbNe/AgaWc3lu6brYG/jZ0hW1cTKkHDc6jue6eBbL2ndYY2nL1b1uQylldCIhXJIqz8HGlFKpWuvQArdTtNb/2dyjlPobSAE0MENr/WkRyxwDjAGIiIiImjNnTpmyZWRkEBTknEPvaq2Z+Ec8sy2Pkx7env2tivrDx7nZSsNVc0HJsjU+PI3qp5YzlHcZ270RZpNzit/d15tRJFvplSRXTEzMtmK3rGiti7wAK4G9hVwGAKmXTZtyhWXUsP2sBuwCuhc3rtaaqKgoXVZr1qwp87xlMXvTCf3+c3drPSFE62PripzW2dlKylVzaV2CbEn7tPXlUD3z+SH6m7+OOyXTv9x6vRlIspVeSXIBW3Ux3Vrsph6tdU+tdatCLr8Ap5VSkQC2n8lXWMYp289k4Gegwp3hemC7msz1Gcg5rwhY/BjkZhkdyXNoDcue5aIK5FvfYQyOqmV0IiFcWnm38S8ERtqujwR+uXwCpVSgUir43+tAb/L/YqhQ/H3M3HJNYx6/NArOHob17xsdyXMcXgrH1vJ+9s0MurY1ft5moxMJ4dLKW/xvA72UUnFAL9ttlFI1lFJLbNNEAH8opXYBm4HFWuul5RzXJQ3vVJf1tGNjcG/0Hx9B0h6jI1V8mamw5CmSfOrwi1cf7uxU1+hEQrg8r/LMrLU+B8QWcv8poJ/t+jHAI/aZrxHqz2O9mjB22SDWBW4h6JfxmO5ZBeZyrWZRlCVPoNMSuD97Arde24AQP2+jEwnh8mTPXTsbF9OIh/pfwzOZwzEl7iTnz0lGR6q4ds+FPfNYFDaCfaoJo7vKXrpClIQUvwPc3a0+0TffyzJLB/TqN0lPkBO22F3KCfTixzjm34pHEnowLqYR1UL8jE4lhFuQ4neQW6+ug/eNH5CtvTj+5T2cScs0OlLFYbVgnT+GrBwLI1Lv4bHrW/BQbCOjUwnhNqT4HahHx3YkdnqB1nl7+WbKyySkSvnbQ/ba9zGd3Miz2aO476YYxsU0kr10hSgFKX4Ha9rnAdIiuzAm+yue+mIxFmvZ95QWkHZkI17r3uZXS2eiB49jeOd6RkcSwu1I8TuaUoQMmYq/WXNv6kR+3RlvdCK3lXz2HOmzR5GkwwgeNImB7WVHLSHKQorfGcLqo3q/RrR5F4lL35d3/WVwKVezdfoYIi1JpFw/ieh2jY2OJITbkuJ3ElPHezldszf3ZH/DiWP7jY7jVrTWnNj+G/3yVpLU5n5adelndCQh3JoUv7MoRbU7P+WcOZw+8R+Sm3He6ERuY9nyxdx96QtOVr6GGgNfMzqOEG5Pit+JlH9l4mMnU1WnkPTN6PyDi4kiHT56lHYbHiTFVJmao7+XvaCFsAMpfieL6tKLz7xup/bp1eRunG50HJd28VImmbOHE6oyONj6WUxBVYyOJESFIMXvZEoprM0GsNJyFablL8KpHUZHclnbPh9HW8s+TnZ9G8IaGh1HiApDit8ALcO9+C7yGc7oSljnjoKsC0ZHcjmbF0yl+/mf2F5jGI17jTY6jhAVihS/AZRSjLn+asZlj4MLJ2HhQ7K9v4CT+zbQZsdL7PNpQ9u7JhodR4gKR4rfIJ0bVsG3QRcmq2GwfwEse17KH8hKTcLnx5GkqhCq3j0bs7eP0ZGEqHCk+A30WK8mfHipL3tqDYONU2DtW0ZHMlZuFkkzbqGSNYWE3p9SrXptoxMJUSFJ8RuoQ70wujepxu3xA/mn7mD4/R3400M3bWjNiS/vol7mPpY3fZWoLj2NTiREhSXFb7DXBrSkbpVAog8NZFNANKx4EbbONDqW0yUvepW6p5bwQ8gobhh6v9FxhKjQpPgNVrdKIAse6MoL/VsxJuNe1uj26EWPkbfje6OjOc2l7XOotu1DFpmiib33HcwmOcSyEI4kxe8CvMwm7u5Wn6WPx/JjgzfYYGmB+uUBjq6r+OWv/9mI96/j2WxtRvU7phMeLGfREsLRpPhdSGQlf6aM7EL24G85oBpRa9V4ls+bga6o3/ZJOU7WN0NJsIRxsPtUOjSMNDqREB5Bit8F9WjbgPoP/0a8fzN67n2a3z57gbw8i9Gx7CszlcyvBpOTk8MXdd5heGx7oxMJ4TGk+F1UYGg49R9dweEqMfQ7NZnVn9xNRma20bHsIzud3K8H4Z16jAl+T/PEHf3l1IlCOJEUvwsz+QbQbPxPHKw/gt7pC9j14QCSzqUYHat8ci5xadYgVOJ2HrM8zD0jRlHJ39voVEJ4FCl+V2cy0WzkJI5EvUjnnI2cmdybQ0f/NjpV2eRmcf6LQfie2swr5oe4975HaFWzktGphPA4UvxuotGNT5DQewaN9XH8vu7D7u0bjY5UKjo3i3+mDyI06S8+CXqEcQ89S+taUvpCGEGK343U7nobF4f+TIgpk6YL+3Nm+YdgtRodq1i5OdnsnzSYOuf+YHa1Rxn78AtUryRf2xTCKFL8bqZKs25kjl7HJtWWqhteIWfmDZBy3OhYV3QhI5OtHw2mZdp6VtR7gtvvf4kAHzmLlhBGkuJ3QzVq1aPy3T/xnHUseQk70NO6wLavXO7onjkZKRyeNJDOmevY3eJJeo16EZPslSuE4aT43VTr2qHEDnuM3llvc9DUGH59CGbf5jrv/pMPcGHStbTL2sKeNi/Q5tYXjE4khLCR4ndjsc0juG9ADP1Sn2BxzUfQf/8On7SFz3vChsmQetKYYHvnkzsjBrLSmNNiCq1vedKYHEKIQsnGVjc3vFNd4lMuMe53E2/06MUd/pth38+w/HlY/jyZEe2Jr9GHuLAYUn2qk51nISfPSnaelew8C+FBvozoXM8+B0az5MHKCfDXZPZYG/NlrVf5eEjf8i9XCGFXUvwVwNPXNyMhJZPnVyeyutm1nMnriDIdo2v2H9yQuJGWp9+kMW9yyFqLNdZ2rLW2Y6u1CdrkjcWqOZ2WzTN9m5UvREYyzLsLTvzBPFMfpvrfzc93xsiRNoVwQVL8FYDJpHh/SFusWnMoKZ2alQOoVfMqAkO7cKSyP9qURI3Ta6n3z2ruS1jGWOsitE8wqmE0P6W35I3f02hZI4TgsgyetAe2fAG756K1hckhjzM1pSPz7+1MaICcNlEIVyTFX0H4eZuZekfUFR6tCUQBj0N2Ohz7HXVkBcStYFDarwz0M7FtflOo3RnaNYTQK5/y8GJ2Hjovm6Cji2HL53ByE3j5QavBTMy6no92mpk0rA3NI0Mc8WsKIexAit/T+AZD8/75F60haQ9ZuxYQtmkejeJnwsczIbIdNOkDvkFgyQFLLjovh30nz7Lv73h6qs0EqXTiVSSrQ+7lYMSNZOVUYv7OBO7r3oAb29Yw+rcUQhRBit+TKQWRbQiMbMPFlg8RO+1HRlfZzzDTLtTvb//PpFZMNNRe1Dd7k1zlan6rfDMbdSuS0nM4nZDF6bRE+raqzlN9yvlZgRDC4aT4BQBta4cS3aIuz+2N5EiTe3hpRG20trJo3zle/PUQ2RbFC/2bc3vHOtRXivrAnQXm11rLoZWFcBNS/OL/XFvLG0tIDWb++Te1w/zZeiKFxbsTaV8nlA9vbUe98MArziulL4T7KNcOXEqpIUqpfUopq1KqQxHT9VFKHVJKHVFKPVOeMYVjPX9Dczo3qMIrv+5n2d4knry+KXPv61xk6Qsh3Et53/HvBW4BZlxpAqWUGZgC9ALigS1KqYVa6/3lHFs4gLfZxJQ72jNxVRyDo2rJ8fKFqIDKVfxa6wNQ7J/5HYEjWutjtmnnAAMAKX4XFRbow8s3tTQ6hhDCQZS2wxEdlVJrgSe01lsLeWww0EdrfY/t9nDgGq31+CssawwwBiAiIiJqzpw5ZcqUkZFBUFBQmeZ1NFfN5qq5QLKVlWQrG1fNVpJcMTEx27TWV9z0DuR/G6OoC7CS/E06l18GFJhmLdDhCvMPAT4vcHs4MKm4cbXWREVF6bJas2ZNmed1NFfN5qq5tJZsZSXZysZVs5UkF7BVF9OtxW7q0Vr3LG6aYsQDBXcFrQWcKucyhRBClJEzDsu8BWislKqvlPIBhgILnTCuEEKIQpT365w3K6Xigc7AYqXUMtv9NZRSSwC01nnAeGAZcACYq7XeV77YQgghyqq83+r5Gfi5kPtPAf0K3F4CLCnPWEIIIexDzsAlhBAeRopfCCE8jF2+x+8oSqkzwIkyzh4OnLVjHHty1WyumgskW1lJtrJx1WwlyVVXa121qAlcuvjLQym1VRe3E4NBXDWbq+YCyVZWkq1sXDWbvXLJph4hhPAwUvxCCOFhKnLxf2p0gCK4ajZXzQWSrawkW9m4aja75Kqw2/iFEEIUriK/4xdCCFEIKX4hhPAwbl385T31o1IqTCm1QikVZ/tZ2U65il2uUqqpUmpngUuaUuoR22MvK6USCjzW7z+DODCbbbrjSqk9tvG3lnZ+R2VTStVWSq1RSh2wPfcPF3jM7uutuNOGqnwTbY/vVkq1L+m8Ds51hy3PbqXUBqVU2wKPFfrcOjFbtFLqQoHn6aWSzuuEbE8WyLVXKWVRSoXZHnPYelNKzVRKJSul9l7hcfu+zoo7brMrX4DmQFOKPh+AGTgKNAB8gF1AC9tj7wLP2K4/A7xjp1ylWq4tYxL5O14AvEz+iW0csc5KlA04DoSX93ezdzYgEmhvux4MHC7wfNp1vRX12ikwTT/gN0ABnYBNJZ3Xwbm6AJVt1/v+m6uo59aJ2aKBRWWZ19HZLpv+RmC1k9Zbd6A9sPcKj9v1debW7/i11ge01oeKmez/Tv2otc4B/j31I7afX9mufwUMtFO00i43FjiqtS7rXsqlUd7f2VHrrETL1lonaq23266nk3/E15p2zFBQUa+dgpm/1vk2AqFKqcgSzuuwXFrrDVrrFNvNjeSfB8MZyvN7O3KdlWX5w4Dv7Tj+FWmt1wHni5jErq8zty7+EqoJnCxwO57/XxQRWutEyC8UoJqdxiztcofy3xfYeNufdDPtuTmlFNk0sFwptU3lnw6ztPM7MhsASql6wFXApgJ323O9FfXaKW6akszryFwFjSb/3eK/rvTcOjNbZ6XULqXUb0qpf0/w7Mh1VqrlK6UCgD7ATwXuduR6K45dX2flOiyzMyilVgLVC3noea31LyVZRCH3lfs7rEXlKuVyfICbgGcL3D0NeI38nK8BHwB3OzlbV631KaVUNWCFUuqg7V1JudhxvQWR/4/yEa11mu3ucq23woYp5L7LXztXmsYhr7tixvzvhErFkF/83Qrc7ZDnthTZtpO/WTPD9jnMAqBxCed1dLZ/3Qj8qbUu+C7ckeutOHZ9nbl88WvHnvrxtFIqUmudaPuzKdkeuZRSpVluX2C71vp0gWX/33Wl1GfAopLmslc2nX9OBbTWyUqpn8n/k3Id5Vhn9sqmlPImv/S/01rPL7Dscq23QpTktKFXmsanBPM6MhdKqTbA50BfrfW5f+8v4rl1SrYC/1GjtV6ilJqqlAovybyOzlbAf/4Kd/B6K45dX2eesKmnqFM/LgRG2q6PBEryF0RJlGa5/9mOaCu9f91M/snt7aXYbEqpQKVU8L/Xgd4FMjhqnZU0mwK+AA5orT+87DF7r7eSnDZ0ITDC9q2LTsAF22YqR55ytNhlK6XqAPOB4VrrwwXuL+q5dVa26rbnEaVUR/J76FxJ5nV0NlumSsB1FHj9OWG9Fce+rzNHfELtrAv5/7jjgWzgNLDMdn8NYEmB6fqR/+2Po+RvIvr3/irAKiDO9jPMTrkKXW4huQLIf8FXumz+b4A9wG7bkxhpx3VWbDbyvyGwy3bZ54x1Vops3cj/U3Y3sNN26eeo9VbYawcYC4y1XVfAFNvjeyjw7bIrve7stK6Ky/U5kFJgHW0t7rl1YrbxtrF3kf/BcxdnrLOSZLPdHgXMuWw+h6438t/8JQK55HfaaEe+zuSQDUII4WE8YVOPEEKIAqT4hRDCw0jxCyGEh5HiF0IIDyPFL4QQHkaKXwghPIwUvxBCeJj/B8od3pMP90SMAAAAAElFTkSuQmCC\n",
      "text/plain": [
       "<Figure size 432x288 with 1 Axes>"
      ]
     },
     "metadata": {
      "needs_background": "light"
     },
     "output_type": "display_data"
    }
   ],
   "source": [
    "n = 50\n",
    "t = np.linspace(-1, 1, n, endpoint=False)\n",
    "\n",
    "x_fun = lambda t: np.sin(np.pi * t)\n",
    "\n",
    "eps = 1e-1\n",
    "x = x_fun(t) + eps * np.random.rand(n)\n",
    "\n",
    "plt.plot(t, x)\n",
    "plt.grid(True)\n",
    "\n",
    "sigma = 1\n",
    "gaussian = lambda t: np.exp( - t**2 / (2 * sigma**2)) / np.sqrt(2 * np.pi * sigma**2) \n",
    "kern_size = 3\n",
    "tt = np.linspace(-kern_size, +kern_size, 2 * kern_size + 1)\n",
    "kernel = gaussian(tt)\n",
    "kernel = kernel / np.sum(kernel)\n",
    "print(kernel)\n",
    "\n",
    "# Simple periodic averaging\n",
    "x_avg = np.zeros_like(x)\n",
    "for i in range(n):\n",
    "    for j in range(-kern_size, kern_size + 1):\n",
    "        I = np.abs((i + j) % n )\n",
    "        x_avg[i] += kernel[kern_size + j] * x[I]\n",
    "\n",
    "plt.plot(t, x_avg)"
   ]
  },
  {
   "cell_type": "markdown",
   "metadata": {},
   "source": [
    "**Задача 6** (1 балл)  \n",
    "* Напишите функцию, которая решает линейную систему с разреженной матрицей в CSR формате методом Зейделя. \n",
    "* Протестируйте функцию на случайной разреженной матрице с диагональным преобладанием, сравните результат с точным решением. \n",
    "* Точное решение можно найти преобразовав разреженную матрицу к полной и вызвав стандартную функцию для плотных матриц.\n"
   ]
  },
  {
   "cell_type": "code",
   "execution_count": null,
   "metadata": {},
   "outputs": [],
   "source": []
  }
 ],
 "metadata": {
  "kernelspec": {
   "display_name": "Python 3",
   "language": "python",
   "name": "python3"
  },
  "language_info": {
   "codemirror_mode": {
    "name": "ipython",
    "version": 3
   },
   "file_extension": ".py",
   "mimetype": "text/x-python",
   "name": "python",
   "nbconvert_exporter": "python",
   "pygments_lexer": "ipython3",
   "version": "3.8.8"
  }
 },
 "nbformat": 4,
 "nbformat_minor": 2
}
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\n",
      "text/plain": [
       "<Figure size 432x288 with 1 Axes>"
      ]
     },
     "metadata": {
      "needs_background": "light"
     },
     "output_type": "display_data"
    }
   ],
   "source": [
    "import numpy as np\n",
    "from scipy.integrate import odeint\n",
    "def pend(y, t, b, c):\n",
    "    theta, omega = y\n",
    "    dydt = [omega, -b*omega - c*np.sin(theta)]\n",
    "    return dydt\n",
    "\n",
    "b = 0.25\n",
    "c = 5.0\n",
    "\n",
    "y0 = [np.pi - 0.1, 0.0]\n",
    "t = np.linspace(0, 10, 101)\n",
    "sol = odeint(pend, y0, t, args=(b, c))\n",
    "import matplotlib.pyplot as plt\n",
    "plt.plot(t, sol[:, 0], 'b', label='theta(t)')\n",
    "plt.plot(t, sol[:, 1], 'g', label='omega(t)')\n",
    "plt.legend(loc='best')\n",
    "plt.xlabel('t')\n",
    "plt.grid()"
   ]
  },
  {
   "cell_type": "markdown",
   "id": "10de4be6",
   "metadata": {},
   "source": [
    "**Задача 4** \n",
    "\n",
    "Решите задачу встроенным методом.\n",
    "\n",
    "Запишем уравнения движения брошенного тела  в проекциях на оси $x$, $y$ вместе с определением скорости:\n",
    "$$\n",
    "\\begin{align}\n",
    "\\label{eq:ode_traj}\n",
    "& \\frac{dx}{dt} = v_x \\\\\n",
    "& \\frac{dy}{dt} = v_y \\\\\n",
    "& \\frac{dv_x}{dt} = -\\frac{F_{d}}{m} \\cos{\\alpha} \\\\\n",
    "& \\frac{dv_y}{dt} = -g - \\frac{F_{d}}{m} \\sin{\\alpha}\n",
    "\\end{align}\n",
    "$$\n",
    "$m$ - масса тела, $v_x, v_y$ - компоненты скорости, $\\alpha$ - угол наклона траектории к горизонту, $\\sin{\\alpha} = \\frac{v_y}{\\sqrt{v_x^2 + v_y^2}}$,  $\\cos{\\alpha} = \\frac{v_x}{\\sqrt{v_x^2 + v_y^2}}$, $F_d$ - сила сопротивления (drug) воздуха, действующая на тело.\n",
    "Начальные условия -- скорость в нижней точке траектории ($y = 0, x = 0$.):\n",
    "$$\n",
    "\\begin{align}\n",
    "\\label{eq:ic_traj}\n",
    "& x(t=0) = 0 \\\\\n",
    "& y(t=0) = 0 \\\\\n",
    "& v_x (t=0) = v_x^0 \\\\\n",
    "& v_y (t=0) = v_y^0\n",
    "\\end{align}\n",
    "$$\n",
    "Необходимо  решить задачу Коши с ненулевой силой $F_d$ численно. Расчёт до момента времени $T$, когда тело упадёт на землю $y(T) = 0$.\n",
    "Закон Стокса:$F_d = -6 \\pi r \\mu v$,\n",
    "$r$ - радиус сферического объекта, $\\mu$ - динамическая вязкость среды (для воздуха $\\mu = 1.74 \\times 10^{-5}$ Па$\\cdot$с)"
   ]
  },
  {
   "cell_type": "markdown",
   "id": "c89ccfe1",
   "metadata": {},
   "source": [
    "**Задача 5** (3 балла)\n",
    "\n",
    "Рассмотрим начально-краевую задачу для уравнения теплопроводности:\n",
    "$$\n",
    "\\begin{align}\n",
    "& u_t (t,x) = u_{xx}(t,x) \\\\\n",
    "& u(t,0) = a \\\\\n",
    "& u(t,1) = b \\\\\n",
    "& u(0,x) = u_0(x)\n",
    "\\end{align}\n",
    "$$\n",
    "Один из способов построения численных методов для уравнения в частных производных - последовательная дискретизация по независимым переменным.  \n",
    "В данном случае, применим уже известные нам численные методы для ОДУ. Сначала сделаем дискретизацию по $x$, считая время $t$ - параметром. Введем сетку $x_j = j h, h = 1/N$, и вектор неизвестных в узлах $U(t) = [U_0(t), U_1(t), \\ldots, U_N(t)]$. Получим задачу Коши для системы ОДУ:\n",
    "$$\n",
    "\\begin{align}\n",
    "& U_t(t) = A U \\\\\n",
    "& U(0) = [u_0(x_0), u_0(x_1), \\ldots, u_0(x_N)]\n",
    "\\end{align}\n",
    "$$\n",
    "уравнения для $U_1, \\ldots, U_{N-1}$ получаются также, как в случае краевой задачи для ОДУ. 1-е и последнее уравнения соответствуют граничными условиям, которые в данном случае постоянны:\n",
    "$$\n",
    "(U_0)_t = 0, \\, (U_N)_t = 0\n",
    "$$\n",
    "теперь для решения полученной систему ОДУ можно применить любой метод. \n",
    "\n",
    "0. Примените неявный метод Эйлера, выведите формулы для 1-го шага по времени.\n",
    "1.  Используя код в следующей ячейке, запрограммируйте полученный метод решения уравнения теплопроводности, постройте на одном рисунке графики решения в разные моменты времени.\n",
    "2. Постройте графики производной численного решения  по $x$ на левой и правой границах от времени. Эти производные равны тепловому потоку через границу.\n",
    "3. Используя код в следующей ячейке, создайте анимацию численного решения во времени. (Нужно скопировать код в .py файл и запустить из командной строки `python animation.py`. В jupyter notebook анимация не воспроизводится)"
   ]
  },
  {
   "cell_type": "code",
   "execution_count": 3,
   "id": "3025fb8c",
   "metadata": {},
   "outputs": [
    {
     "data": {
      "image/png": "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\n",
      "text/plain": [
       "<Figure size 432x288 with 1 Axes>"
      ]
     },
     "metadata": {
      "needs_background": "light"
     },
     "output_type": "display_data"
    }
   ],
   "source": [
    "import numpy as np\n",
    "import matplotlib.pyplot as plt\n",
    "import matplotlib.animation as animation\n",
    "\n",
    "u0 = lambda x : np.exp(-100*(x-0.5)**2) # Начальное условие\n",
    "# xx = np.linspace(0,1,100)\n",
    "# plt.plot(xx, u0(xx))\n",
    "\n",
    "N = 100 # число интервалов по x\n",
    "T = 1 # Конечный момент времени\n",
    "nt = 100 # Число шагов по времени\n",
    "h = 1/N\n",
    "dt = T/nt\n",
    "x = np.linspace(0, 1, N+1)\n",
    "t = np.linspace(0, T, nt+1)\n",
    "U = np.zeros((nt + 1, N + 1)) # Численное решение\n",
    "U[0,:] = u0(x)\n",
    "\n",
    "# \n",
    "# Реализация метода здесь\n",
    "#\n",
    "\n",
    "\n",
    "# \n",
    "# Так можно сделать анимацию (нужно запустить не в Jupyter)\n",
    "#\n",
    "\n",
    "# Удалите это, когда получите численное решение\n",
    "for i in range(1, N+1):\n",
    "    U[i,:] = U[0,:] * (N - i)/N\n",
    "\n",
    "fig, ax = plt.subplots()\n",
    "\n",
    "line, = ax.plot(x, u0(x))\n",
    "\n",
    "def init():\n",
    "    line.set_ydata([np.nan] * len(x))\n",
    "    return line,\n",
    "\n",
    "def animate(i):\n",
    "    line.set_ydata(U[i,:])  # update the data.\n",
    "    return line,\n",
    "# interval - расстояние между кадрами в миллисекундах\n",
    "ani = animation.FuncAnimation(\n",
    "    fig, animate, init_func=init, interval=100, frames = np.arange(nt+1), blit=True, save_count=50)\n",
    "\n",
    "# To save the animation, use e.g.\n",
    "#\n",
    "#ani.save(\"movie.mp4\")\n",
    "#\n",
    "# or\n",
    "#\n",
    "# from matplotlib.animation import FFMpegWriter\n",
    "# writer = FFMpegWriter(fps=15, metadata=dict(artist='Me'), bitrate=1800)\n",
    "# ani.save(\"movie.mp4\", writer=writer)\n",
    "\n",
    "plt.show()"
   ]
  }
 ],
 "metadata": {
  "kernelspec": {
   "display_name": "Python 3 (ipykernel)",
   "language": "python",
   "name": "python3"
  },
  "language_info": {
   "codemirror_mode": {
    "name": "ipython",
    "version": 3
   },
   "file_extension": ".py",
   "mimetype": "text/x-python",
   "name": "python",
   "nbconvert_exporter": "python",
   "pygments_lexer": "ipython3",
   "version": "3.9.13"
  }
 },
 "nbformat": 4,
 "nbformat_minor": 5
}
